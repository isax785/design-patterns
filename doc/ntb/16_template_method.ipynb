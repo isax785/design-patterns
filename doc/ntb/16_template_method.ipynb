{
 "cells": [
  {
   "cell_type": "markdown",
   "metadata": {},
   "source": [
    "# 16. Template Method Pattern\n",
    "\n",
    "The `Template Method Pattern` provides a method template that can be followed to implement a specifc process step by step, and then that template can be used in many different scenarios by simply changing a couple of details.\n",
    "\n",
    "Functions that clearly step in the same process should live in a single entity instead of being scattered."
   ]
  },
  {
   "cell_type": "code",
   "execution_count": null,
   "metadata": {},
   "outputs": [],
   "source": [
    "import abc\n",
    "\n",
    "class TemplateAbstractBaseClass(metaclass = abc.ABCMeta):\n",
    "    def template_method(self):\n",
    "        self._step_1()\n",
    "        self._step_2()\n",
    "        self._step_n()\n",
    "    \n",
    "    @abc.abstractmethod\n",
    "    def _step_1(self): pass\n",
    "\n",
    "    @abc.abstractmethod\n",
    "    def _step_2(self): pass\n",
    "\n",
    "    @abc.abstractmethod\n",
    "    def _step_n(self): pass\n",
    "\n",
    "class ConcreteImplementationClass(TemplateAbstractBaseClass):\n",
    "    def _step_1(self): pass\n",
    "        \n",
    "    def _step_2(self): pass\n",
    "\n",
    "    def _step_n(self): pass"
   ]
  },
  {
   "cell_type": "markdown",
   "metadata": {},
   "source": [
    "## Exercises"
   ]
  }
 ],
 "metadata": {
  "language_info": {
   "name": "python"
  }
 },
 "nbformat": 4,
 "nbformat_minor": 2
}
