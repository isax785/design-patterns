{
 "cells": [
  {
   "cell_type": "markdown",
   "metadata": {},
   "source": [
    "# 5. Adapter Pattern\n",
    "\n",
    "When dealing with something that was previously implemented (even by someone else), an adapter is needed to fit \"what is available\" to \"what is needed\". The pattern is useful to make things work after they are designed. Below the main elements of the `adapter pattern`:\n",
    "\n",
    "- `Target`: defines the domain-specific interface the client uses\n",
    "- `Client`: uses objects that conform to the _Target_ interface\n",
    "- `Adaptee`: the interface to be altered because the object does not conform to the _Target_\n",
    "- `Adapter`: the code that changes what there is in the _Adaptee_ to what is wanted in the _Client_\n",
    "\n",
    "Adapters occurs at all levels of complexity. In Python, the concept of adapters extends beyond classes and their instances. Often, callables are adapted via decorators, closures, and functools.\n",
    "\n",
    "For every new interface to be adapted, an `AdapterObject` class is needed: such class is constructed with two arguments in its constructor, one of which is the instance of the adapteee. Each of the adapters also needs to implement the needed function.\n",
    "\n",
    "If the parameters passed to each `provided_functin` remain the same as those of the `required_function`, there can be created a more generic adapter that no longer needs to know anything about the adaptee: only an object and the `provided_function` must be supplied. \n",
    "\n",
    "Here below the generic implementation of the idea:"
   ]
  },
  {
   "cell_type": "code",
   "execution_count": null,
   "metadata": {},
   "outputs": [],
   "source": [
    "class ObjectAdapter(object):\n",
    "    def __init__(self, what_i_have, provided_function):\n",
    "        self.what_i_have = what_i_have\n",
    "        self.required_function = provided_function\n",
    "    \n",
    "    def __getattr__(self, attr):\n",
    "        return getattr(self.what_i_have, attr)"
   ]
  },
  {
   "cell_type": "markdown",
   "metadata": {},
   "source": [
    "## Sample Problem\n",
    "\n",
    "The first solution that comes to mind is simply changing what is needed to fit what is available. When dealing with few interfaces, it is not a bad solution. When there are too many interfaces, too many `if` statements would be needed and it's not the best solution to manage."
   ]
  },
  {
   "cell_type": "code",
   "execution_count": null,
   "metadata": {},
   "outputs": [],
   "source": [
    "class WhatIHave(object):\n",
    "    def provided_function_1(self): pass\n",
    "    def provided_function_2(self): pass\n",
    "\n",
    "class WhatIWant(object):\n",
    "    def required_function(self): pass\n",
    "\n",
    "class Client(object):\n",
    "    def __init__(self, some_object):\n",
    "        self.sme_object = some_object\n",
    "    \n",
    "    def do_something(self):\n",
    "        if self.some_object.__class__ == WhatIHave:\n",
    "            self.some_object.provided_function_1()\n",
    "            self.some_object.provided_function_2()\n",
    "        elif self.some_object.__class__ == WhatIWant:\n",
    "            self.some_object.required_function()\n",
    "        else:\n",
    "            print(\"Class of self.some_object not recognized.\")"
   ]
  },
  {
   "cell_type": "markdown",
   "metadata": {},
   "source": [
    "## Class Adapter\n",
    "\n",
    "Another way to solve this problem is to create several interfaces that use polymorphism to inherit both the expected and the provided interfaces. So, the target interface can be created as pure interface class."
   ]
  },
  {
   "cell_type": "code",
   "execution_count": null,
   "metadata": {},
   "outputs": [],
   "source": [
    "class MyAdapter(WhatIHave, WhatIWant):\n",
    "    def __init__(self, what_i_have):\n",
    "        self.what_i_have = what_i_have\n",
    "    \n",
    "    def provided_function_1(self):\n",
    "        self.what_i_have.provided_function_1\n",
    "    \n",
    "    def provided_function_2(self):\n",
    "        self.what_i_have.provided_function_2\n",
    "        \n",
    "    def required_function(self):\n",
    "        self.provided_function_1()\n",
    "        self.provided_function_2()\n",
    "\n",
    "class ClientObject():\n",
    "    def __init__(self, what_i_want):\n",
    "        self.what_i_want = what_i_want\n",
    "    \n",
    "    def do_something(self):\n",
    "        self.what_i_want.required_function()\n",
    "\n",
    "if __name__ == '__main__':\n",
    "    adaptee = WhatIHave()\n",
    "    adapter = MyAdapter(adaptee)\n",
    "    client = ClientObject(adapter)\n",
    "    \n",
    "    client.do_something()"
   ]
  },
  {
   "cell_type": "markdown",
   "metadata": {},
   "source": [
    "## Object Adapter Pattern\n",
    "\n",
    "Make use of composition instead of inheritance. An adapter could then contain the class it wraps and make calls to the instance of the wrapped object. This approach reduces the implementation complexity. The pattern is useful to make things work after they are designed. It is a way of providing a different interface to sujects to which the interface are provided from the interface provided.\n",
    "\n",
    "The adapter below inherits from `IterfaceSuperClass` and takes an instance as a parameter in its constructor.\n",
    "It implements a `required_function` method, which returns the result of calling the `provided_function_1()` method of its wrapped `WhatIHave` object. all other calls on the class are passed to its `what_i_have` instance via the `__getattr__()` method. when the Python interpreter does an attribute lookup on the object but can't find it, the `__getattr__()` method is called, and the attribute lookup is passed tot he `self.what_i_have` object."
   ]
  },
  {
   "cell_type": "code",
   "execution_count": null,
   "metadata": {},
   "outputs": [],
   "source": [
    "class ObjectAdapter(InterfaceSuperClass):\n",
    "    def __init__(self, what_i_have):\n",
    "        self.what_i_have = what_i_have\n",
    "        \n",
    "    def required_fuction(self):\n",
    "        return self.what_i_have.provided_function_1()\n",
    "    \n",
    "    def __getattr__(self, attr):\n",
    "        # everything else is handled by the wrapped object\n",
    "        return getattr(self.what_i_have, attr)"
   ]
  },
  {
   "cell_type": "markdown",
   "metadata": {},
   "source": [
    "### Duck Typing\n",
    "\n",
    "In python we only care about whether an object offers the interface elements we need. If it does, we can use it like an instance of the interface without the need to declare a common parent (here below the parent class is the default `object` instead of another class previously defined). The pattern **uses composition rather than inheritance**. This respects the `open/closed` principle (by _B. Meyer_):\n",
    "\n",
    "_software entities (classes, modules, functions, etc.) should be open for extension, but closed for modification._"
   ]
  },
  {
   "cell_type": "code",
   "execution_count": null,
   "metadata": {},
   "outputs": [],
   "source": [
    "class ObjectAdapter(object):\n",
    "    def __init__(self, what_i_have):\n",
    "        self.what_i_have = what_i_have\n",
    "        \n",
    "    def required_fuction(self):\n",
    "        return self.what_i_have.provided_function_1()\n",
    "    \n",
    "    def __getattr__(self, attr):\n",
    "        # everything else is handled by the wrapped object\n",
    "        return getattr(self.what_i_have, attr)"
   ]
  },
  {
   "cell_type": "markdown",
   "metadata": {},
   "source": [
    "## Exercises\n"
   ]
  },
  {
   "cell_type": "code",
   "execution_count": null,
   "metadata": {},
   "outputs": [],
   "source": []
  }
 ],
 "metadata": {
  "language_info": {
   "name": "python"
  }
 },
 "nbformat": 4,
 "nbformat_minor": 2
}
