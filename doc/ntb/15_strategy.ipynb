{
 "cells": [
  {
   "cell_type": "markdown",
   "metadata": {},
   "source": [
    "# 15. Strategy Pattern\n",
    "\n",
    "To switch between different ways of solving a problem, being able to pick a strategy at runtime and then run with it. allthis, by applying a modular solution that would allow passing in new strategies on the fly.\n",
    "\n",
    "The `Strategy Pattern` allows writing code that uses some strategy, to be selected at runtime, without knowing anything about the strategy other that it follows some execution signature. It is composed by an `Executor` to which the strategies are passed, and then executed."
   ]
  },
  {
   "cell_type": "code",
   "execution_count": null,
   "metadata": {},
   "outputs": [],
   "source": [
    "class StrategyExecutor(object):\n",
    "    def __init__(self, strategy=None):\n",
    "        self.strategy = strategy\n",
    "    def execute(self, *args):\n",
    "        if self.strategy is None:\n",
    "            print(\"Strategy not implemented...\")\n",
    "        else:\n",
    "            self.strategy.execute(*args)\n",
    "\n",
    "class Strategy1(object):\n",
    "    def execute(self, *args):\n",
    "        for a in args:\n",
    "            print('Strategy1:', a)\n",
    "\n",
    "class Strategy2(object):\n",
    "    def execute(self, *args):\n",
    "        for a in args:\n",
    "            print('Strategy2:', a)\n",
    "            \n",
    "if __name__ == '__main__':\n",
    "    no_strategy = StrategyExecutor()\n",
    "    strategy_1 = StrategyExecutor(Strategy1())\n",
    "    strategy_2 = StrategyExecutor(Strategy2())\n",
    "    no_strategy.execute(1, 2, 3)\n",
    "    strategy_1.execute(4, 5, 6)\n",
    "    strategy_2.execute(7, 8, 9, 0)"
   ]
  },
  {
   "cell_type": "markdown",
   "metadata": {},
   "source": [
    "A more **pythonic** version with functions:"
   ]
  },
  {
   "cell_type": "code",
   "execution_count": null,
   "metadata": {},
   "outputs": [],
   "source": [
    "def executor(*args, func=None):\n",
    "    if func is None:\n",
    "        print(\"Strategy not implemented...\")\n",
    "        return\n",
    "    \n",
    "    return func(*args)\n",
    "\n",
    "def strategy1(*args):\n",
    "    for a in args:\n",
    "        print('strategy1:', a)\n",
    "        \n",
    "def strategy2(*args):\n",
    "    for a in args:\n",
    "        print('strategy2:', a)\n",
    "        \n",
    "if __name__ == '__main__':\n",
    "    executor(1, 2)\n",
    "    executor(3, 4, func=strategy1)\n",
    "    executor(5, 6, 7, 8, func=strategy2)"
   ]
  }
 ],
 "metadata": {
  "language_info": {
   "name": "python"
  }
 },
 "nbformat": 4,
 "nbformat_minor": 2
}
