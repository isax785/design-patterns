{
 "cells": [
  {
   "cell_type": "markdown",
   "metadata": {},
   "source": [
    "# 14. State Pattern\n",
    "\n",
    "**State Diagram**: a graph where nodes represent the state of the system and edges are transitions between one node in the system and another.\n",
    "\n",
    "A naive way to translate the daigram into runnable code is to create an object that represents the state machine. The object will have an attribute for its state, which will determine hw it reacts to input.\n",
    "All object-oriented systems concern themselves with the actors in a system and how the actions of each impact the other actors and the system as a whole. This is why **state machine** is so helpful in modeling the state of an object and the things that cause said object to react.\n",
    "The `State Pattern` is used to encapsulate behavior variations based on the internal state of an object.\n",
    "\n",
    "All state machines are composed of states and the transitions taking the machine from one state to another based on certain inputs. Usually, the state machine will also execute some actions while in a state before transitioning to another state."
   ]
  },
  {
   "cell_type": "code",
   "execution_count": null,
   "metadata": {},
   "outputs": [],
   "source": [
    "class State(object):\n",
    "    pass\n",
    "\n",
    "class ConcreteState1(State):\n",
    "    def __init__(self, state_machine):\n",
    "        self.state_machine = state_machine\n",
    "    def switch_state(self):\n",
    "        self.state_machine.state = self.state_machine.state2\n",
    "        \n",
    "class ConcreteState2(State):\n",
    "    def __init__(self, state_machine):\n",
    "        self.state_machine = state_machine\n",
    "    def switch_state(self):\n",
    "        self.state_machine.state = self.state_machine.state1\n",
    "\n",
    "class StateMachine(object):\n",
    "    def __init__(self):\n",
    "        self.state1 = ConcreteState1(self)\n",
    "        self.state2 = ConcreteState2(self)\n",
    "        self.state = self.state1  # initialized to state1\n",
    "        \n",
    "    def switch(self):\n",
    "        self.state.switch_state()\n",
    "        \n",
    "    def __str__(self):\n",
    "        return str(self.state)\n",
    "\n",
    "def main():\n",
    "    state_machine = StateMachine()\n",
    "    print(state_machine)\n",
    "    \n",
    "    state_machine.switch()\n",
    "    print(state_machine)\n",
    "    \n",
    "if __name__ == '__main__':\n",
    "    main()"
   ]
  },
  {
   "cell_type": "markdown",
   "metadata": {},
   "source": [
    "What should be tested about a state machine:\n",
    "1. The state machine initializes correctly;\n",
    "2. The action method for each concrete `State` class does what it should do (e.g. return the correct value).\n",
    "3. For a give input, the machine transitins to the correct subsequent state.\n",
    "\n",
    "Some unit testing with `unittest` (library framework):"
   ]
  },
  {
   "cell_type": "code",
   "execution_count": null,
   "metadata": {},
   "outputs": [],
   "source": [
    "import unittest\n",
    "\n",
    "class GenericStatePatternTest(unittest.TestCase):\n",
    "    def setUp(self):\n",
    "        self.state_machine = StateMachine()\n",
    "    \n",
    "    def tearDown(self):\n",
    "        pass\n",
    "    \n",
    "    def test_state_machine_initializes_correctly(self):\n",
    "        sefl.assertInstance(self.state_machine.state, ConcreteState1)\n",
    "    \n",
    "    def test_switch_from_state_1_to_state_2(self):\n",
    "        self.state_machine.switch()\n",
    "        self.assertIsInstance(self.state_machine.state, ConcreteState2)\n",
    "        \n",
    "    def test_switch_from_state2_to_state1(self):\n",
    "        self.state_machine.switch()\n",
    "        self.state_machine.switch()\n",
    "        \n",
    "        self.assertIsInstance(self.state_machine.state, ConcreteState1)\n",
    "        \n",
    "if __name__ == '__main__':\n",
    "    unittest.main()"
   ]
  },
  {
   "cell_type": "markdown",
   "metadata": {},
   "source": [
    "## Exercises"
   ]
  },
  {
   "cell_type": "markdown",
   "metadata": {},
   "source": []
  }
 ],
 "metadata": {
  "language_info": {
   "name": "python"
  }
 },
 "nbformat": 4,
 "nbformat_minor": 2
}
