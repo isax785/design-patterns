{
 "cells": [
  {
   "cell_type": "markdown",
   "metadata": {},
   "source": [
    "# 13. Observer Pattern\n",
    "\n",
    "Used whenever there is the need to dynamically decouple the source of a call from the called code. As a rule, whenever there s a publish-subscribe relationship between a single object (i.e. the `Observable`) and a set of observers, it is a good candidate for `Design Pattern`. Whenever the _Observable_ object changes its states and is polled for a chaneg, it alerts all the _Observers_ registered with it that they need to activate a callback. \n",
    "Although the `Observer Pattern` allows decoupling the objects that are observed frm knowing anything about the object oobserving them, the observer objects stll need to know which objects they need to observe. There is still a bt of coupling. Such pattern works well whena number of potential observable classes that an oobserver needs to register with is limited.\n",
    "The level of coupling between objects is the degree of knowledge that one object needs with regard to other objects that it interacts with. The more loosely objects are cupled, the less knowledge they have about each other, and the more flexible the object-orieted system is. Loosely coupled systems have fewer interdependencies between objects and as such are easier to update and maintain.\n",
    "\n",
    "In the `Observer Pattern` there are two types of objects:\n",
    "- `Observable` class: can be watched by other classes.\n",
    "- `Observer` class: will be alerted whenever the two classes undergoes a change.\n",
    "\n",
    "`Observer Pattern` definition: _A software design pattern in which an object, called the subject, maintans a list of its dependents, called observers, and notfies the automatically of any state changes, usually by calling one of their methods. It is mainly used to implement distributed event handling systems._\n",
    "\n",
    "The problems that the `Observer Pattern` solves are those where a group of objects has to respond to the change f state in some other object and d so withut causing more coupling inside the system. It s concerned with the management of events r responding to change of state in some sort of network of objects."
   ]
  },
  {
   "cell_type": "code",
   "execution_count": null,
   "metadata": {},
   "outputs": [],
   "source": [
    "class ConcreteObserver(object):\n",
    "    def update(self, observed):\n",
    "        print(\"Observing: {}\".format(observed))\n",
    "        \n",
    "class Observable(object):\n",
    "    def __init__(self):\n",
    "        self.callbacks = set()\n",
    "    def register(self, observer):\n",
    "        self.callbacks.add(observer)\n",
    "    def unregister(self, observer):\n",
    "        self.callbacks.discard(observer)\n",
    "    def unregister_all(self):\n",
    "        self.callbacks = set()\n",
    "    def update_all(self):\n",
    "        for callback in self.callbacks:\n",
    "            callback.update(self)\n",
    "\n",
    "def main():\n",
    "    observed = Observable()\n",
    "    observer1 = ConcreteObserver()\n",
    "    \n",
    "    # observed.register(lambda x: observer1.update(x))   # in pdf, this does not work\n",
    "    observed.register(observer1)\n",
    "    observed.update_all()\n",
    "\n",
    "if __name__ == '__main__':\n",
    "    main()            "
   ]
  },
  {
   "cell_type": "markdown",
   "metadata": {},
   "source": [
    "## Exercises"
   ]
  }
 ],
 "metadata": {
  "language_info": {
   "name": "python"
  }
 },
 "nbformat": 4,
 "nbformat_minor": 2
}
