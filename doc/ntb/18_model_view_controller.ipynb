{
 "cells": [
  {
   "cell_type": "markdown",
   "metadata": {},
   "source": [
    "# 18. Model-View-Controller Pattern\n",
    "\n",
    "The `Model-View-Controller Pattern` is a pattern of patterns. To be applied when the program receives some form of a request that must be interpreted and then kick off some relevant actions. It is sub-divided into three main objects:\n",
    "- **Controller** : all of the program processing happens inside an object that exists solely for controlling the flow of the program. This oobject handles actionsliker requesting data, receiving data, and dispatching responses to the command line. **Controllers** are the glue that holds the system together, and usually the place where the most action takes place. \n",
    "It is the hearth of the pattern, the part that marshalls all other classes. Users interact with the controller, and through it the whole system. It takes the following actions:\n",
    "    - takes the user input;\n",
    "    - handles all the business logic;\n",
    "    - gets data from the model;\n",
    "    - sends the data to the vew to be transformed into the representation to be returned to the user.\n",
    "- **Model** : once a request is received and the controller decides what must happen to the request, some data from the system is needed. The structural representationo of data is referred to as a data model, and so the part of the program that deals with the data (getting, setting, updating, and deleting data) is called the **model**. It should be a program-side interface t data that abstracts away the need to directly interact with the data store, allowing to switch frma  file-based store to some key-value store or a full-on relational database system. Often, a model will contain the fields used as attrbutes on the object, allowing to interact with the database as with any other object.\n",
    "- **View** : part of the code that deliceries the information back to the user. it should only deal with the output or rendering of data passed to it into some sort of format to be returned to the user.\n",
    "\n",
    "**There is no business logic in Model neither in View!**"
   ]
  },
  {
   "cell_type": "code",
   "execution_count": null,
   "metadata": {},
   "outputs": [],
   "source": [
    "class GenericContrller(object):\n",
    "    def __init__(self):\n",
    "        self.model = GenericModel()\n",
    "        self.view = GenericView()\n",
    "    \n",
    "    def handle(self, request):\n",
    "        data = self.model.get_data(request)\n",
    "        self.view.generate_response(data)\n",
    "        \n",
    "class GenericModel(object):\n",
    "    def __init__(self):\n",
    "        pass\n",
    "    \n",
    "    def get_data(self, request):\n",
    "        return {'request': request}\n",
    "    \n",
    "class GenericView(object):\n",
    "    def __init__(self):\n",
    "        pass\n",
    "    \n",
    "    def generate_response(self, data):\n",
    "        print(data)\n",
    "        "
   ]
  },
  {
   "cell_type": "markdown",
   "metadata": {},
   "source": [
    "## Examples"
   ]
  }
 ],
 "metadata": {
  "language_info": {
   "name": "python"
  }
 },
 "nbformat": 4,
 "nbformat_minor": 2
}
