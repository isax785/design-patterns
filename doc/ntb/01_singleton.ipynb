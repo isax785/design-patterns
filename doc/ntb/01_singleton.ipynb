{
 "cells": [
  {
   "cell_type": "markdown",
   "metadata": {},
   "source": [
    "# 1. The Singleton Pattern\n",
    "\n",
    "The **Singleton Pattern** is a pretty way to get a **global state**. \n",
    "Generally, global states should be avoided because code in one part of the project may  alter the global state and cause unexpected results in a completely unrelated piece of code.\n",
    "However, when there are parts of a project that do not affect the execution of the code (e.g. logging, caching, load balancing, route mapping) it is acceptable to use global state. In all these cases, information flows in one direction, and **the singleton instance itself is immutable** (i.e. it does not change). No part of the program attempts to make a change in the singleton, and as such there is no danger of one part of a project interfering with another part of the project because of the shared state.\n",
    "\n",
    "In `Python` there is no real need to use singleton since a module with functions (and not a class) would serve well as a singleton. All its variables would be bound to the module, which could not be instantiated repeatedly anyway. There is no way of creating private classes or private constructors in Python, so it's not possible to protect it against multiple instantiations, other than just via convention in use of the API. Just put methods in a module, and consider the module as the singleton."
   ]
  },
  {
   "cell_type": "code",
   "execution_count": null,
   "metadata": {},
   "outputs": [],
   "source": [
    "class SingletonObject(object):\n",
    "    class __SingletonObject():\n",
    "        def __init__(self):\n",
    "            self.val = None\n",
    "        def __str__(self):\n",
    "            return \"{0!r} {1}\".format(self, self.val)\n",
    "    instance = None  # Here the first instance is assigned to the class\n",
    "    \n",
    "    def __new__(cls):\n",
    "        if not SingletonObject.instance:\n",
    "            SingletonObject.instance = SingletonObject.__SingletonObject()\n",
    "        return SingletonObject.instance\n",
    "    \n",
    "    def __getattr__(self, name):\n",
    "        return getattr(self.instance, name)\n",
    "    \n",
    "    def __setattr__(self, name):\n",
    "        return setattr(self.instance, name)\n",
    "    \n",
    "\n",
    "if __name__ == '__main__':\n",
    "    print('SingletonObject initial instance:', SingletonObject.instance)\n",
    "    obj1 = SingletonObject()\n",
    "    obj1.val = \"Object value 1\"\n",
    "    print(f'obj1 instance: {obj1}')\n",
    "    print('SingletonObject instance after obj1 creation:', SingletonObject.instance)\n",
    "    print('Now obj2 is created ...')\n",
    "    obj2 = SingletonObject()\n",
    "    print(f'obj2 just instantiated: {obj2}')\n",
    "    print('SingletonObject.instance == obj1 : {}\\nSingletonObject.instance == obj2 : {}'\n",
    "          .format(SingletonObject.instance == obj1, SingletonObject.instance == obj2))\n",
    "    print('...and value of obj2 re-assigned')\n",
    "    obj2.val = \"Object value 2\"\n",
    "    print(f'obj2 after value assignment: {obj2}')\n",
    "    print(f'obj1 after assignment to obj2: {obj1}')"
   ]
  },
  {
   "cell_type": "markdown",
   "metadata": {},
   "source": [
    "## Exercises\n",
    "\n",
    "Implement a _logger singleton_."
   ]
  },
  {
   "cell_type": "code",
   "execution_count": null,
   "metadata": {},
   "outputs": [],
   "source": [
    "class Logger(object):\n",
    "    class __Logger():\n",
    "        def __init__(self, file_name):\n",
    "            self.file_name = file_name\n",
    "            \n",
    "        def __str__(self):\n",
    "            return '{0!r} {1}'.format(self, self.file_name)\n",
    "        \n",
    "        def _write_log(self, level, msg):\n",
    "            \"\"\"Writes a message to the file_name for a the Logger instance\"\"\"\n",
    "            with open(self.file_name, 'a') as log_file:\n",
    "                log_file.write('[{0}] {1}\\n'.format(level, msg))\n",
    "                \n",
    "        def critical(self, msg):\n",
    "            self._write_log(\"CRITCAL\", msg)\n",
    "        \n",
    "        def error(self, msg):\n",
    "            self._write_log(\"ERROR\", msg)\n",
    "        \n",
    "        def warn(self, msg):\n",
    "            self._write_log(\"WARN\", msg)\n",
    "        \n",
    "        def info(self, msg):\n",
    "            self._write_log(\"INFO\", msg)\n",
    "        \n",
    "        def debug(self, msg):\n",
    "            self._write_log(\"DEBUG\", msg)\n",
    "        \n",
    "    instance = None\n",
    "    \n",
    "    def __new__(cls, path):\n",
    "        if not Logger.instance:\n",
    "            Logger.instance = Logger.__Logger(path)\n",
    "        return Logger.instance\n",
    "    \n",
    "    def __setattr__(self, name):\n",
    "        return setattr(self.instance, name)\n",
    "\n",
    "if __name__ == '__main__':\n",
    "    print('Logger before instatiation:', Logger.instance)\n",
    "    log = Logger('.\\\\files\\\\logging.log')\n",
    "    print('Logger after instatiation:', Logger.instance)\n",
    "    print('Log instance', log)\n",
    "    print(log.error('This is the first error.'))"
   ]
  }
 ],
 "metadata": {
  "language_info": {
   "name": "python"
  }
 },
 "nbformat": 4,
 "nbformat_minor": 2
}
