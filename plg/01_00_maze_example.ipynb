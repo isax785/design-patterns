{
 "cells": [
  {
   "cell_type": "markdown",
   "metadata": {},
   "source": [
    "# Maze Example\n",
    "\n",
    "The creation of a maze implemented by applying multiple design patterns.\n",
    "\n",
    "The maze is composed by rooms, bounded by walls and doors that estabilish the communication between two adjacent rooms."
   ]
  },
  {
   "cell_type": "markdown",
   "metadata": {},
   "source": [
    "## Base Classes"
   ]
  },
  {
   "cell_type": "code",
   "execution_count": null,
   "metadata": {},
   "outputs": [],
   "source": [
    "from abc import ABC, abstractmethod\n",
    "from enum import Enum\n",
    "\n",
    "# Direction Enum\n",
    "class Direction(Enum):\n",
    "    NORTH = 0\n",
    "    EAST = 1\n",
    "    SOUTH = 2\n",
    "    WEST = 3\n",
    "\n",
    "# MapSite Abstract Base Class\n",
    "class MapSite(ABC):\n",
    "    @abstractmethod\n",
    "    def Enter(self):\n",
    "        pass\n",
    "\n",
    "# Wall Class\n",
    "class Wall(MapSite):\n",
    "    def Enter(self):\n",
    "        print(\"You just ran into a wall.\")\n",
    "\n",
    "# Room Class\n",
    "class Room(MapSite):\n",
    "    def __init__(self, roomNo: int):\n",
    "        self._roomNumber = roomNo\n",
    "        self._sides = [None] * 4\n",
    "\n",
    "    def GetSide(self, direction: Direction) -> MapSite:\n",
    "        return self._sides[direction.value]\n",
    "\n",
    "    def SetSide(self, direction: Direction, site: MapSite):\n",
    "        self._sides[direction.value] = site\n",
    "\n",
    "    def Enter(self):\n",
    "        print(f\"Entering room {self._roomNumber}\")\n",
    "\n",
    "# Door Class\n",
    "class Door(MapSite):\n",
    "    def __init__(self, room1: Room = None, room2: Room = None):\n",
    "        self._room1 = room1\n",
    "        self._room2 = room2\n",
    "        self._isOpen = False\n",
    "\n",
    "    def Enter(self):\n",
    "        if self._isOpen:\n",
    "            print(\"You pass through the door.\")\n",
    "        else:\n",
    "            print(\"The door is closed.\")\n",
    "\n",
    "    def OtherSideFrom(self, room: Room) -> Room:\n",
    "        if room == self._room1:\n",
    "            return self._room2\n",
    "        elif room == self._room2:\n",
    "            return self._room1\n",
    "        else:\n",
    "            return None\n",
    "        \n",
    "# Maze Class\n",
    "class Maze:\n",
    "    def __init__(self):\n",
    "        self._rooms = {}\n",
    "\n",
    "    def AddRoom(self, room: Room):\n",
    "        self._rooms[room._roomNumber] = room\n",
    "\n",
    "    def RoomNo(self, room_number: int) -> Room:\n",
    "        return self._rooms.get(room_number)"
   ]
  },
  {
   "cell_type": "markdown",
   "metadata": {},
   "source": [
    "## Hard-Coded Implementation"
   ]
  },
  {
   "cell_type": "code",
   "execution_count": null,
   "metadata": {},
   "outputs": [],
   "source": [
    "class MazeGame:\n",
    "    @staticmethod\n",
    "    def CreateMaze() -> Maze:\n",
    "        aMaze = Maze()\n",
    "        r1 = Room(1)\n",
    "        r2 = Room(2)\n",
    "        theDoor = Door(r1, r2)\n",
    "        \n",
    "        aMaze.AddRoom(r1)\n",
    "        aMaze.AddRoom(r2)\n",
    "        \n",
    "        r1.SetSide(Direction.NORTH, Wall())\n",
    "        r1.SetSide(Direction.EAST, theDoor)\n",
    "        r1.SetSide(Direction.SOUTH, Wall())\n",
    "        r1.SetSide(Direction.WEST, Wall())\n",
    "        \n",
    "        r2.SetSide(Direction.NORTH, Wall())\n",
    "        r2.SetSide(Direction.EAST, Wall())\n",
    "        r2.SetSide(Direction.SOUTH, Wall())\n",
    "        r2.SetSide(Direction.WEST, theDoor)\n",
    "        \n",
    "        return aMaze\n",
    "    \n",
    "maze = MazeGame.CreateMaze()\n",
    "room1 = maze.RoomNo(1)\n",
    "room2 = maze.RoomNo(2)\n",
    "\n",
    "print(f\"Room 1 sides: {[type(room1.GetSide(direction)).__name__ for direction in Direction]}\")\n",
    "print(f\"Room 2 sides: {[type(room2.GetSide(direction)).__name__ for direction in Direction]}\")"
   ]
  },
  {
   "cell_type": "markdown",
   "metadata": {},
   "source": [
    "## Abstract Factory\n",
    "\n",
    "Implementation of the class `MazeFactory` that can create the components of a maze.\n",
    "\n",
    "The implmentation of `CreateMaze` allows creating mazes with different components by taking `MazeFactory` as parameter.\n",
    "\n",
    "The `MazeFactory` is just a collection of factory methods. This is the most common way to implement the `Abstract Factory` pattern. "
   ]
  },
  {
   "cell_type": "code",
   "execution_count": null,
   "metadata": {},
   "outputs": [],
   "source": [
    "class MazeFactory:\n",
    "    def MakeMaze():\n",
    "        return Maze()\n",
    "    \n",
    "    def MakeWall():\n",
    "        return Wall()\n",
    "    \n",
    "    def MakeRoom(n: int):\n",
    "        return Room(n)\n",
    "    \n",
    "    def MakeDoor(r1: Room, r2: Room):\n",
    "        return Door(r1, r2)"
   ]
  },
  {
   "cell_type": "markdown",
   "metadata": {},
   "source": [
    "Note that `MazeFactory` is not an abstract class; thus it acts as both the `AbstractFactory` and the `ConcreteFactory`. This is another common implementation for simple applications of the `Abstract Factory` pattern. Because the `MazeFactory` is a concrete class consisting entirely of factory methods, it's easy to make a new `MazeFactory` by making a subclass and overriding the operations that need to change."
   ]
  },
  {
   "cell_type": "code",
   "execution_count": null,
   "metadata": {},
   "outputs": [],
   "source": [
    "class MazeGame:\n",
    "    @staticmethod\n",
    "    def CreateMaze(factory: MazeFactory) -> Maze:\n",
    "        aMaze = factory.MakeMaze()\n",
    "        r1 = factory.MakeRoom(1)\n",
    "        r2 = factory.MakeRoom(2)\n",
    "        aDoor = factory.MakeDoor(r1, r2)\n",
    "\n",
    "        aMaze.AddRoom(r1)\n",
    "        aMaze.AddRoom(r2)\n",
    "\n",
    "        r1.SetSide(Direction.NORTH, factory.MakeWall())\n",
    "        r1.SetSide(Direction.EAST, aDoor)\n",
    "        r1.SetSide(Direction.SOUTH, factory.MakeWall())\n",
    "        r1.SetSide(Direction.WEST, factory.MakeWall())\n",
    "        \n",
    "        r2.SetSide(Direction.NORTH, factory.MakeWall())\n",
    "        r2.SetSide(Direction.EAST, factory.MakeWall())\n",
    "        r2.SetSide(Direction.SOUTH, factory.MakeWall())\n",
    "        r2.SetSide(Direction.WEST, aDoor)\n",
    "        \n",
    "        return aMaze"
   ]
  },
  {
   "cell_type": "markdown",
   "metadata": {},
   "source": [
    "For example, it is possible to create `EnchantedMazeFactory`, that is a factory for enchanted mazes, by subclassing MazeFactory."
   ]
  },
  {
   "cell_type": "code",
   "execution_count": null,
   "metadata": {},
   "outputs": [],
   "source": [
    "class EnchantedRoom(Room):\n",
    "    def __init__(self, roomNo, CastSpell):\n",
    "        super().__init__(roomNo)\n",
    "\n",
    "class DoorNeedingSpell(Door):\n",
    "    def __init__(self, r1, r2):\n",
    "        super().__init__(r1, r2)\n",
    "\n",
    "class EnchantedMazeFactory(MazeFactory):\n",
    "    def MakeRoom(self, n):\n",
    "        return EnchantedRoom(n, self.CastSpell())\n",
    "    \n",
    "    def MakeDoor(self, r1:Room, r2:Room):\n",
    "        return DoorNeedingSpell(r1, r2)\n",
    "    \n",
    "    def CastSpell(self):\n",
    "        print(\"Entered Enchanted Room\")"
   ]
  },
  {
   "cell_type": "markdown",
   "metadata": {},
   "source": [
    "Now suppose we want to make a maze game in which a room can have a bomb set in it. If the bomb goes off, it will damage the walls (at least). We can make a subclass of Room keep track of whether the room has a bomb in it and whether the bomb has gone off. We'll also need a subclass of Wall to keep track of the damage done to the wall. We'll call these classes RoomWithABomb and BombedWall.\n",
    "\n",
    "The last class we'll define is BombedMazeFactory, a subclass of MazeFactory that ensures walls are of class BombedWall and rooms are of class RoomWithABomb. BombedMazeFactory only needs to override two functions:\n",
    "\n",
    "```cpp\n",
    "Wall* BombedMazeFactory::MakeWall () const {\n",
    "return new BombedWall;\n",
    "}\n",
    "Room* BombedMazeFactory::MakeRoom(int n) const {\n",
    "return new RoomWithABomb(n);\n",
    "}\n",
    "```\n",
    "\n",
    "To build a simple maze that can contain bombs, we simply call CreateMaze with a BombedMazeFactory.\n",
    "\n",
    "```cpp\n",
    "MazeGame game;\n",
    "BombedMazeFactory factory;\n",
    "game.CreateMaze(factory);\n",
    "```"
   ]
  },
  {
   "cell_type": "markdown",
   "metadata": {},
   "source": [
    "## Builder"
   ]
  },
  {
   "cell_type": "code",
   "execution_count": null,
   "metadata": {},
   "outputs": [],
   "source": [
    "class MazeBuilder(ABC):\n",
    "    def BuildMaze():\n",
    "        pass\n",
    "    def BuildRoom(room:int):\n",
    "        pass\n",
    "    def BuildDoor(roomFrom:int, roomTo: int):\n",
    "        pass\n",
    "    @abstractmethod\n",
    "    def GetMaze():\n",
    "        pass\n",
    "\n",
    "class MazeGame:\n",
    "    @staticmethod\n",
    "    def CreateMaze(builder: MazeBuilder):\n",
    "        builder.BuildMaze()\n",
    "        builder.BuildRoom(1)\n",
    "        builder.BuildRoom(2)\n",
    "        builder.BuildDoor(1, 2)\n",
    "\n",
    "        return builder.GetMaze()\n"
   ]
  }
 ],
 "metadata": {
  "language_info": {
   "name": "python"
  }
 },
 "nbformat": 4,
 "nbformat_minor": 2
}
