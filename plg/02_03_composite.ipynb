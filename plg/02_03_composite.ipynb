{
 "cells": [
  {
   "cell_type": "markdown",
   "metadata": {},
   "source": [
    "# Composite\n",
    "\n",
    "A file system structure where both files and directories are treated uniformly."
   ]
  },
  {
   "cell_type": "code",
   "execution_count": 1,
   "metadata": {},
   "outputs": [],
   "source": [
    "from abc import ABC, abstractmethod\n",
    "\n",
    "# Component\n",
    "class FileSystemComponent(ABC):\n",
    "    @abstractmethod\n",
    "    def get_size(self):\n",
    "        pass\n",
    "\n",
    "    @abstractmethod\n",
    "    def display(self, indent=0):\n",
    "        pass    \n",
    "\n",
    "# Leaf\n",
    "class File(FileSystemComponent):\n",
    "    def __init__(self, name, size):\n",
    "        self.name = name\n",
    "        self.size = size\n",
    "\n",
    "    def get_size(self):\n",
    "        return self.size\n",
    "\n",
    "    def display(self, indent=0):\n",
    "        print('  ' * indent + f'File: {self.name}, Size: {self.size}')\n",
    "\n",
    "# Composite\n",
    "class Directory(FileSystemComponent):\n",
    "    def __init__(self, name):\n",
    "        self.name = name\n",
    "        self.children = []\n",
    "\n",
    "    def add(self, component):\n",
    "        self.children.append(component)\n",
    "\n",
    "    def remove(self, component):\n",
    "        self.children.remove(component)\n",
    "\n",
    "    def get_size(self):\n",
    "        total_size = 0\n",
    "        for child in self.children:\n",
    "            total_size += child.get_size()\n",
    "        return total_size\n",
    "\n",
    "    def display(self, indent=0):\n",
    "        print('  ' * indent + f'Directory: {self.name}')\n",
    "        for child in self.children:\n",
    "            child.display(indent + 1)"
   ]
  },
  {
   "cell_type": "code",
   "execution_count": null,
   "metadata": {},
   "outputs": [],
   "source": [
    "# Client code\n",
    "\n",
    "# Create files\n",
    "file1 = File(\"file1.txt\", 100)\n",
    "file2 = File(\"file2.txt\", 200)\n",
    "file3 = File(\"file3.txt\", 300)\n",
    "\n",
    "# Create directories\n",
    "dir1 = Directory(\"dir1\")\n",
    "dir2 = Directory(\"dir2\")\n",
    "dir3 = Directory(\"dir3\")\n",
    "\n",
    "# Compose directories\n",
    "dir1.add(file1)\n",
    "dir1.add(file2)\n",
    "dir2.add(file3)\n",
    "dir3.add(dir1)\n",
    "dir3.add(dir2)\n",
    "\n",
    "# Display structure and total size\n",
    "dir3.display()\n",
    "print(f\"Total size of '{dir3.name}' directory: {dir3.get_size()}\")"
   ]
  }
 ],
 "metadata": {
  "kernelspec": {
   "display_name": "Python 3",
   "language": "python",
   "name": "python3"
  },
  "language_info": {
   "codemirror_mode": {
    "name": "ipython",
    "version": 3
   },
   "file_extension": ".py",
   "mimetype": "text/x-python",
   "name": "python",
   "nbconvert_exporter": "python",
   "pygments_lexer": "ipython3",
   "version": "3.12.3"
  }
 },
 "nbformat": 4,
 "nbformat_minor": 2
}
