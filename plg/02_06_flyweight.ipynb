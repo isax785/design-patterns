{
 "cells": [
  {
   "cell_type": "markdown",
   "metadata": {},
   "source": [
    "# Flyweight\n",
    "\n",
    "The `Flyweight` pattern is a structural design pattern that allows programs to support a large number of objects efficiently. It minimizes memory usage by sharing as much data as possible with similar objects. The `Flyweight` pattern is particularly useful when dealing with large numbers of similar objects, such as characters in a document editor or tiles in a game."
   ]
  },
  {
   "cell_type": "code",
   "execution_count": 1,
   "metadata": {},
   "outputs": [],
   "source": [
    "class Circle:\n",
    "    def __init__(self, color):\n",
    "        self.color = color  # intrinsic state\n",
    "\n",
    "    def draw(self, x, y, radius):\n",
    "        print(f\"Drawing a {self.color} circle at ({x}, {y}) with radius {radius}\")"
   ]
  },
  {
   "cell_type": "code",
   "execution_count": 2,
   "metadata": {},
   "outputs": [],
   "source": [
    "class CircleFactory:\n",
    "    _circles = {}\n",
    "\n",
    "    @staticmethod\n",
    "    def get_circle(color):\n",
    "        if color not in CircleFactory._circles:\n",
    "            CircleFactory._circles[color] = Circle(color)\n",
    "            print(f\"Creating a {color} circle\")\n",
    "        return CircleFactory._circles[color]"
   ]
  },
  {
   "cell_type": "code",
   "execution_count": 3,
   "metadata": {},
   "outputs": [
    {
     "name": "stdout",
     "output_type": "stream",
     "text": [
      "Creating a red circle\n",
      "Drawing a red circle at (10, 20) with radius 30\n",
      "Creating a blue circle\n",
      "Drawing a blue circle at (15, 25) with radius 35\n",
      "Drawing a red circle at (20, 30) with radius 40\n"
     ]
    }
   ],
   "source": [
    "factory = CircleFactory()\n",
    "\n",
    "# Creating and drawing circles with different colors\n",
    "red_circle = factory.get_circle(\"red\")\n",
    "red_circle.draw(10, 20, 30)\n",
    "\n",
    "blue_circle = factory.get_circle(\"blue\")\n",
    "blue_circle.draw(15, 25, 35)\n",
    "\n",
    "red_circle2 = factory.get_circle(\"red\")\n",
    "red_circle2.draw(20, 30, 40)\n",
    "\n",
    "# The red_circle and red_circle2 are the same instance\n",
    "assert red_circle is red_circle2"
   ]
  }
 ],
 "metadata": {
  "kernelspec": {
   "display_name": "Python 3",
   "language": "python",
   "name": "python3"
  },
  "language_info": {
   "codemirror_mode": {
    "name": "ipython",
    "version": 3
   },
   "file_extension": ".py",
   "mimetype": "text/x-python",
   "name": "python",
   "nbconvert_exporter": "python",
   "pygments_lexer": "ipython3",
   "version": "3.12.3"
  }
 },
 "nbformat": 4,
 "nbformat_minor": 2
}
