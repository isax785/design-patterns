{
 "cells": [
  {
   "cell_type": "code",
   "execution_count": 6,
   "metadata": {},
   "outputs": [
    {
     "name": "stdout",
     "output_type": "stream",
     "text": [
      "c:\\Users\\i.stiaccini\\Desktop\\playground\\DesignPatterns\\plg\\training2024\n",
      "[]\n",
      "['00_01_abstract_classes.ipynb', '00_02_cls.ipynb', '00_03_metaclasses.ipynb', '00_04_decorators.ipynb', '01_00_maze_creational_example.ipynb', '01_01_maze_abstract_factory_builder.ipynb', '01_02_abstract_factory.ipynb', '01_03_builder.ipynb', '01_04_factory_method.ipynb', '01_05_prototype.ipynb', '01_06_singleton.ipynb', '02_01_adapter.ipynb', '02_02_bridge.ipynb', '02_03_composite.ipynb', '02_04_decorator.ipynb', '02_05_facade.ipynb', '02_06_flyweight.ipynb', '02_07_proxy.ipynb', 'Training 2024 .md']\n"
     ]
    }
   ],
   "source": [
    "import os\n",
    "\n",
    "for dirname, dirnames, filenames in os.walk(os.path.abspath(os.path.join(\".\", \"training2024\"))):\n",
    "    print(dirname)\n",
    "    print(dirnames)\n",
    "    print(filenames)"
   ]
  },
  {
   "cell_type": "code",
   "execution_count": 14,
   "metadata": {},
   "outputs": [
    {
     "name": "stdout",
     "output_type": "stream",
     "text": [
      "- [Abstract Classes](./00_01_abstract_classes.ipynb)\n",
      "- [Cls](./00_02_cls.ipynb)\n",
      "- [Metaclasses](./00_03_metaclasses.ipynb)\n",
      "- [Decorators](./00_04_decorators.ipynb)\n",
      "- [Maze Creational Example](./01_00_maze_creational_example.ipynb)\n",
      "- [Maze Abstract Factory Builder](./01_01_maze_abstract_factory_builder.ipynb)\n",
      "- [Abstract Factory](./01_02_abstract_factory.ipynb)\n",
      "- [Builder](./01_03_builder.ipynb)\n",
      "- [Factory Method](./01_04_factory_method.ipynb)\n",
      "- [Prototype](./01_05_prototype.ipynb)\n",
      "- [Singleton](./01_06_singleton.ipynb)\n",
      "- [Adapter](./02_01_adapter.ipynb)\n",
      "- [Bridge](./02_02_bridge.ipynb)\n",
      "- [Composite](./02_03_composite.ipynb)\n",
      "- [Decorator](./02_04_decorator.ipynb)\n",
      "- [Facade](./02_05_facade.ipynb)\n",
      "- [Flyweight](./02_06_flyweight.ipynb)\n",
      "- [Proxy](./02_07_proxy.ipynb)\n"
     ]
    }
   ],
   "source": [
    "for fn in filenames:\n",
    "    if '.ipynb' in fn:\n",
    "        text = fn[6:]\n",
    "        text = text.replace('_', ' ')\n",
    "        text = text.replace('.ipynb', '')\n",
    "        text = text.title()\n",
    "        print(f\"- [{text}](./{fn})\")"
   ]
  }
 ],
 "metadata": {
  "kernelspec": {
   "display_name": "Python 3",
   "language": "python",
   "name": "python3"
  },
  "language_info": {
   "codemirror_mode": {
    "name": "ipython",
    "version": 3
   },
   "file_extension": ".py",
   "mimetype": "text/x-python",
   "name": "python",
   "nbconvert_exporter": "python",
   "pygments_lexer": "ipython3",
   "version": "3.12.3"
  }
 },
 "nbformat": 4,
 "nbformat_minor": 2
}
