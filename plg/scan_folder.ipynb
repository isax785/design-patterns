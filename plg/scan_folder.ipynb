{
 "cells": [
  {
   "cell_type": "code",
   "execution_count": 2,
   "metadata": {},
   "outputs": [
    {
     "name": "stdout",
     "output_type": "stream",
     "text": [
      "c:\\Users\\i.stiaccini\\Desktop\\playground\\DesignPatterns\\plg\\training2024\n",
      "[]\n",
      "['00_01_abstract_classes.ipynb', '00_02_cls.ipynb', '00_03_metaclasses.ipynb', '00_04_decorators.ipynb', '01_00_maze_creational_example.ipynb', '01_01_maze_abstract_factory_builder.ipynb', '01_02_abstract_factory.ipynb', '01_03_builder.ipynb', '01_04_factory_method.ipynb', '01_05_prototype.ipynb', '01_06_singleton.ipynb', '02_01_adapter.ipynb', '02_02_bridge.ipynb', '02_03_composite.ipynb', '02_04_decorator.ipynb', '02_05_facade.ipynb', '02_06_flyweight.ipynb', '02_07_proxy.ipynb', '03_01_chain_of_responsibility.ipynb', '03_02_command.ipynb', '03_03_interpreter.ipynb', '03_04_iterator.ipynb', '03_05_mediator.ipynb', '03_06_memento.ipynb', '03_07_observer.ipynb', '03_08_state.ipynb', '03_09_strategy.ipynb', '03_10_template_method.ipynb', '03_11_visitor.ipynb', 'Training 2024 .md']\n"
     ]
    }
   ],
   "source": [
    "import os\n",
    "\n",
    "for dirname, dirnames, filenames in os.walk(os.path.abspath(os.path.join(\".\", \"training2024\"))):\n",
    "    print(dirname)\n",
    "    print(dirnames)\n",
    "    print(filenames)"
   ]
  },
  {
   "cell_type": "code",
   "execution_count": 3,
   "metadata": {},
   "outputs": [
    {
     "name": "stdout",
     "output_type": "stream",
     "text": [
      "- [Abstract Classes](./00_01_abstract_classes.ipynb)\n",
      "- [Cls](./00_02_cls.ipynb)\n",
      "- [Metaclasses](./00_03_metaclasses.ipynb)\n",
      "- [Decorators](./00_04_decorators.ipynb)\n",
      "- [Maze Creational Example](./01_00_maze_creational_example.ipynb)\n",
      "- [Maze Abstract Factory Builder](./01_01_maze_abstract_factory_builder.ipynb)\n",
      "- [Abstract Factory](./01_02_abstract_factory.ipynb)\n",
      "- [Builder](./01_03_builder.ipynb)\n",
      "- [Factory Method](./01_04_factory_method.ipynb)\n",
      "- [Prototype](./01_05_prototype.ipynb)\n",
      "- [Singleton](./01_06_singleton.ipynb)\n",
      "- [Adapter](./02_01_adapter.ipynb)\n",
      "- [Bridge](./02_02_bridge.ipynb)\n",
      "- [Composite](./02_03_composite.ipynb)\n",
      "- [Decorator](./02_04_decorator.ipynb)\n",
      "- [Facade](./02_05_facade.ipynb)\n",
      "- [Flyweight](./02_06_flyweight.ipynb)\n",
      "- [Proxy](./02_07_proxy.ipynb)\n",
      "- [Chain Of Responsibility](./03_01_chain_of_responsibility.ipynb)\n",
      "- [Command](./03_02_command.ipynb)\n",
      "- [Interpreter](./03_03_interpreter.ipynb)\n",
      "- [Iterator](./03_04_iterator.ipynb)\n",
      "- [Mediator](./03_05_mediator.ipynb)\n",
      "- [Memento](./03_06_memento.ipynb)\n",
      "- [Observer](./03_07_observer.ipynb)\n",
      "- [State](./03_08_state.ipynb)\n",
      "- [Strategy](./03_09_strategy.ipynb)\n",
      "- [Template Method](./03_10_template_method.ipynb)\n",
      "- [Visitor](./03_11_visitor.ipynb)\n"
     ]
    }
   ],
   "source": [
    "for fn in filenames:\n",
    "    if '.ipynb' in fn:\n",
    "        text = fn[6:]\n",
    "        text = text.replace('_', ' ')\n",
    "        text = text.replace('.ipynb', '')\n",
    "        text = text.title()\n",
    "        print(f\"- [{text}](./{fn})\")"
   ]
  },
  {
   "cell_type": "code",
   "execution_count": 5,
   "metadata": {},
   "outputs": [
    {
     "name": "stdout",
     "output_type": "stream",
     "text": [
      "- [00 Abstract Classes](./plg/training2024/00_01_abstract_classes.ipynb):\n",
      "- [00 Cls](./plg/training2024/00_02_cls.ipynb):\n",
      "- [00 Metaclasses](./plg/training2024/00_03_metaclasses.ipynb):\n",
      "- [00 Decorators](./plg/training2024/00_04_decorators.ipynb):\n",
      "- [01 Maze Creational Example](./plg/training2024/01_00_maze_creational_example.ipynb):\n",
      "- [01 Maze Abstract Factory Builder](./plg/training2024/01_01_maze_abstract_factory_builder.ipynb):\n",
      "- [01 Abstract Factory](./plg/training2024/01_02_abstract_factory.ipynb):\n",
      "- [01 Builder](./plg/training2024/01_03_builder.ipynb):\n",
      "- [01 Factory Method](./plg/training2024/01_04_factory_method.ipynb):\n",
      "- [01 Prototype](./plg/training2024/01_05_prototype.ipynb):\n",
      "- [01 Singleton](./plg/training2024/01_06_singleton.ipynb):\n",
      "- [02 Adapter](./plg/training2024/02_01_adapter.ipynb):\n",
      "- [02 Bridge](./plg/training2024/02_02_bridge.ipynb):\n",
      "- [02 Composite](./plg/training2024/02_03_composite.ipynb):\n",
      "- [02 Decorator](./plg/training2024/02_04_decorator.ipynb):\n",
      "- [02 Facade](./plg/training2024/02_05_facade.ipynb):\n",
      "- [02 Flyweight](./plg/training2024/02_06_flyweight.ipynb):\n",
      "- [02 Proxy](./plg/training2024/02_07_proxy.ipynb):\n",
      "- [03 Chain Of Responsibility](./plg/training2024/03_01_chain_of_responsibility.ipynb):\n",
      "- [03 Command](./plg/training2024/03_02_command.ipynb):\n",
      "- [03 Interpreter](./plg/training2024/03_03_interpreter.ipynb):\n",
      "- [03 Iterator](./plg/training2024/03_04_iterator.ipynb):\n",
      "- [03 Mediator](./plg/training2024/03_05_mediator.ipynb):\n",
      "- [03 Memento](./plg/training2024/03_06_memento.ipynb):\n",
      "- [03 Observer](./plg/training2024/03_07_observer.ipynb):\n",
      "- [03 State](./plg/training2024/03_08_state.ipynb):\n",
      "- [03 Strategy](./plg/training2024/03_09_strategy.ipynb):\n",
      "- [03 Template Method](./plg/training2024/03_10_template_method.ipynb):\n",
      "- [03 Visitor](./plg/training2024/03_11_visitor.ipynb):\n"
     ]
    }
   ],
   "source": [
    "# readme index\n",
    "for fn in filenames:\n",
    "    if '.ipynb' in fn:\n",
    "        text = fn[6:]\n",
    "        text = text.replace('_', ' ')\n",
    "        text = text.replace('.ipynb', '')\n",
    "        text = text.title()\n",
    "        print(f\"- [{fn[:2]} {text}](./plg/training2024/{fn}):\")"
   ]
  },
  {
   "cell_type": "code",
   "execution_count": null,
   "metadata": {},
   "outputs": [],
   "source": []
  }
 ],
 "metadata": {
  "kernelspec": {
   "display_name": "Python 3",
   "language": "python",
   "name": "python3"
  },
  "language_info": {
   "codemirror_mode": {
    "name": "ipython",
    "version": 3
   },
   "file_extension": ".py",
   "mimetype": "text/x-python",
   "name": "python",
   "nbconvert_exporter": "python",
   "pygments_lexer": "ipython3",
   "version": "3.12.3"
  }
 },
 "nbformat": 4,
 "nbformat_minor": 2
}
