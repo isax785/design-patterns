{
 "cells": [
  {
   "cell_type": "markdown",
   "metadata": {},
   "source": [
    "# Bridge\n",
    "\n",
    "A drawing application where shapes can be drawn using different rendering methods (e.g., vector rendering or raster rendering)."
   ]
  },
  {
   "cell_type": "code",
   "execution_count": 1,
   "metadata": {},
   "outputs": [],
   "source": [
    "from abc import ABC, abstractmethod\n",
    "\n",
    "class Renderer(ABC):\n",
    "    @abstractmethod\n",
    "    def render_circle(self, radius: float):\n",
    "        pass\n",
    "\n",
    "    @abstractmethod\n",
    "    def render_square(self, side: float):\n",
    "        pass"
   ]
  },
  {
   "cell_type": "code",
   "execution_count": 2,
   "metadata": {},
   "outputs": [],
   "source": [
    "class VectorRenderer(Renderer):\n",
    "    def render_circle(self, radius: float):\n",
    "        print(f\"Drawing a circle with radius {radius} using Vector Renderer\")\n",
    "\n",
    "    def render_square(self, side: float):\n",
    "        print(f\"Drawing a square with side {side} using Vector Renderer\")\n",
    "\n",
    "class RasterRenderer(Renderer):\n",
    "    def render_circle(self, radius: float):\n",
    "        print(f\"Drawing a circle with radius {radius} using Raster Renderer\")\n",
    "\n",
    "    def render_square(self, side: float):\n",
    "        print(f\"Drawing a square with side {side} using Raster Renderer\")"
   ]
  },
  {
   "cell_type": "code",
   "execution_count": 3,
   "metadata": {},
   "outputs": [],
   "source": [
    "class Shape:\n",
    "    def __init__(self, renderer: Renderer):\n",
    "        self.renderer = renderer\n",
    "\n",
    "    def draw(self):\n",
    "        pass\n",
    "\n",
    "    def resize(self, factor: float):\n",
    "        pass"
   ]
  },
  {
   "cell_type": "code",
   "execution_count": 4,
   "metadata": {},
   "outputs": [],
   "source": [
    "class Circle(Shape):\n",
    "    def __init__(self, renderer: Renderer, radius: float):\n",
    "        super().__init__(renderer)\n",
    "        self.radius = radius\n",
    "\n",
    "    def draw(self):\n",
    "        self.renderer.render_circle(self.radius)\n",
    "\n",
    "    def resize(self, factor: float):\n",
    "        self.radius *= factor\n",
    "\n",
    "class Square(Shape):\n",
    "    def __init__(self, renderer: Renderer, side: float):\n",
    "        super().__init__(renderer)\n",
    "        self.side = side\n",
    "\n",
    "    def draw(self):\n",
    "        self.renderer.render_square(self.side)\n",
    "\n",
    "    def resize(self, factor: float):\n",
    "        self.side *= factor"
   ]
  },
  {
   "cell_type": "code",
   "execution_count": 5,
   "metadata": {},
   "outputs": [
    {
     "name": "stdout",
     "output_type": "stream",
     "text": [
      "Drawing a circle with radius 5 using Vector Renderer\n",
      "Drawing a circle with radius 10 using Vector Renderer\n",
      "Drawing a square with side 4 using Raster Renderer\n",
      "Drawing a square with side 12 using Raster Renderer\n"
     ]
    }
   ],
   "source": [
    "if __name__ == \"__main__\":\n",
    "    vector_renderer = VectorRenderer()\n",
    "    raster_renderer = RasterRenderer()\n",
    "\n",
    "    circle = Circle(vector_renderer, 5)\n",
    "    circle.draw()\n",
    "    circle.resize(2)\n",
    "    circle.draw()\n",
    "\n",
    "    square = Square(raster_renderer, 4)\n",
    "    square.draw()\n",
    "    square.resize(3)\n",
    "    square.draw()"
   ]
  },
  {
   "cell_type": "code",
   "execution_count": null,
   "metadata": {},
   "outputs": [],
   "source": []
  }
 ],
 "metadata": {
  "kernelspec": {
   "display_name": "Python 3",
   "language": "python",
   "name": "python3"
  },
  "language_info": {
   "codemirror_mode": {
    "name": "ipython",
    "version": 3
   },
   "file_extension": ".py",
   "mimetype": "text/x-python",
   "name": "python",
   "nbconvert_exporter": "python",
   "pygments_lexer": "ipython3",
   "version": "3.12.3"
  }
 },
 "nbformat": 4,
 "nbformat_minor": 2
}
