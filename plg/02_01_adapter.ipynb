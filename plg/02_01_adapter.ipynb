{
 "cells": [
  {
   "cell_type": "markdown",
   "metadata": {},
   "source": [
    "# Adapter\n",
    "\n",
    "We have a legacy system that provides weather data in a certain format, and a new system that requires data in a different format. We will use the Adapter Pattern to make these systems compatible."
   ]
  },
  {
   "cell_type": "code",
   "execution_count": 1,
   "metadata": {},
   "outputs": [],
   "source": [
    "class LegacyWeatherService:\n",
    "    def get_temperature(self):\n",
    "        return 23  # Temperature in Celsius\n",
    "\n",
    "    def get_wind_speed(self):\n",
    "        return 10  # Wind speed in km/h\n",
    "\n",
    "    def get_humidity(self):\n",
    "        return 60  # Humidity percentage"
   ]
  },
  {
   "cell_type": "code",
   "execution_count": 3,
   "metadata": {},
   "outputs": [],
   "source": [
    "class NewWeatherService:\n",
    "    def fetch_weather_data(self):\n",
    "        raise NotImplementedError(\"This method should be overridden.\")"
   ]
  },
  {
   "cell_type": "code",
   "execution_count": 4,
   "metadata": {},
   "outputs": [],
   "source": [
    "class WeatherAdapter(NewWeatherService):\n",
    "    def __init__(self, legacy_service):\n",
    "        self.legacy_service = legacy_service\n",
    "\n",
    "    def fetch_weather_data(self):\n",
    "        data = {\n",
    "            'temperature_fahrenheit': self._celsius_to_fahrenheit(self.legacy_service.get_temperature()),\n",
    "            'wind_speed_mph': self._kmh_to_mph(self.legacy_service.get_wind_speed()),\n",
    "            'humidity': self.legacy_service.get_humidity()\n",
    "        }\n",
    "        return data\n",
    "\n",
    "    def _celsius_to_fahrenheit(self, celsius):\n",
    "        return celsius * 9/5 + 32\n",
    "\n",
    "    def _kmh_to_mph(self, kmh):\n",
    "        return kmh * 0.621371"
   ]
  },
  {
   "cell_type": "code",
   "execution_count": 5,
   "metadata": {},
   "outputs": [
    {
     "name": "stdout",
     "output_type": "stream",
     "text": [
      "Temperature: 73.4°F\n",
      "Wind Speed: 6.21371 mph\n",
      "Humidity: 60%\n"
     ]
    }
   ],
   "source": [
    "def client_code(weather_service):\n",
    "    data = weather_service.fetch_weather_data()\n",
    "    print(f\"Temperature: {data['temperature_fahrenheit']}°F\")\n",
    "    print(f\"Wind Speed: {data['wind_speed_mph']} mph\")\n",
    "    print(f\"Humidity: {data['humidity']}%\")\n",
    "\n",
    "# Usage\n",
    "legacy_weather_service = LegacyWeatherService()\n",
    "adapter = WeatherAdapter(legacy_weather_service)\n",
    "client_code(adapter)"
   ]
  },
  {
   "cell_type": "code",
   "execution_count": null,
   "metadata": {},
   "outputs": [],
   "source": []
  }
 ],
 "metadata": {
  "kernelspec": {
   "display_name": "Python 3",
   "language": "python",
   "name": "python3"
  },
  "language_info": {
   "codemirror_mode": {
    "name": "ipython",
    "version": 3
   },
   "file_extension": ".py",
   "mimetype": "text/x-python",
   "name": "python",
   "nbconvert_exporter": "python",
   "pygments_lexer": "ipython3",
   "version": "3.12.3"
  }
 },
 "nbformat": 4,
 "nbformat_minor": 2
}
