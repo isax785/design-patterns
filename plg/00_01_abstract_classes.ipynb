{
 "cells": [
  {
   "cell_type": "markdown",
   "metadata": {},
   "source": [
    "# Abstract Classes\n",
    "\n",
    "Let's declare an abstract class by importing the dedicated classes from the module `abc`:"
   ]
  },
  {
   "cell_type": "code",
   "execution_count": 1,
   "metadata": {},
   "outputs": [],
   "source": [
    "from abc import ABC, abstractmethod\n",
    "\n",
    "# Abstract Class\n",
    "class AbstractClass(ABC):\n",
    "    @abstractmethod\n",
    "    def abstract_method(self):\n",
    "        pass"
   ]
  },
  {
   "cell_type": "markdown",
   "metadata": {},
   "source": [
    "As per definition of *abstract class*, such a class cannot be instantiated and provides only an interface:"
   ]
  },
  {
   "cell_type": "code",
   "execution_count": 2,
   "metadata": {},
   "outputs": [
    {
     "ename": "TypeError",
     "evalue": "Can't instantiate abstract class AbstractClass without an implementation for abstract method 'abstract_method'",
     "output_type": "error",
     "traceback": [
      "\u001b[1;31m---------------------------------------------------------------------------\u001b[0m",
      "\u001b[1;31mTypeError\u001b[0m                                 Traceback (most recent call last)",
      "Cell \u001b[1;32mIn[2], line 1\u001b[0m\n\u001b[1;32m----> 1\u001b[0m ac \u001b[38;5;241m=\u001b[39m \u001b[43mAbstractClass\u001b[49m\u001b[43m(\u001b[49m\u001b[43m)\u001b[49m\n",
      "\u001b[1;31mTypeError\u001b[0m: Can't instantiate abstract class AbstractClass without an implementation for abstract method 'abstract_method'"
     ]
    }
   ],
   "source": [
    "ac = AbstractClass()"
   ]
  },
  {
   "cell_type": "markdown",
   "metadata": {},
   "source": [
    "A concrete class inheriting from the abstract one can be instantiated:"
   ]
  },
  {
   "cell_type": "code",
   "execution_count": 3,
   "metadata": {},
   "outputs": [
    {
     "name": "stdout",
     "output_type": "stream",
     "text": [
      "Abstract method override!\n"
     ]
    }
   ],
   "source": [
    "class ConcreteClass(AbstractClass):\n",
    "    def abstract_method(self):\n",
    "        print(\"Abstract method override!\")\n",
    "\n",
    "cc = ConcreteClass()\n",
    "cc.abstract_method()"
   ]
  },
  {
   "cell_type": "markdown",
   "metadata": {},
   "source": [
    "Let's extend the abstract class with another method:"
   ]
  },
  {
   "cell_type": "code",
   "execution_count": 4,
   "metadata": {},
   "outputs": [],
   "source": [
    "class AbstractClassExt(AbstractClass):\n",
    "    @abstractmethod\n",
    "    def another_abstract_method(self):\n",
    "        pass"
   ]
  },
  {
   "cell_type": "code",
   "execution_count": 5,
   "metadata": {},
   "outputs": [
    {
     "ename": "TypeError",
     "evalue": "Can't instantiate abstract class AbstractClassExt without an implementation for abstract methods 'abstract_method', 'another_abstract_method'",
     "output_type": "error",
     "traceback": [
      "\u001b[1;31m---------------------------------------------------------------------------\u001b[0m",
      "\u001b[1;31mTypeError\u001b[0m                                 Traceback (most recent call last)",
      "Cell \u001b[1;32mIn[5], line 1\u001b[0m\n\u001b[1;32m----> 1\u001b[0m abe \u001b[38;5;241m=\u001b[39m \u001b[43mAbstractClassExt\u001b[49m\u001b[43m(\u001b[49m\u001b[43m)\u001b[49m\n",
      "\u001b[1;31mTypeError\u001b[0m: Can't instantiate abstract class AbstractClassExt without an implementation for abstract methods 'abstract_method', 'another_abstract_method'"
     ]
    }
   ],
   "source": [
    "abe = AbstractClassExt()"
   ]
  },
  {
   "cell_type": "markdown",
   "metadata": {},
   "source": [
    "The concrete class must override all the declared methods (i.e. the whole interface) in order to be instantiated."
   ]
  },
  {
   "cell_type": "code",
   "execution_count": 7,
   "metadata": {},
   "outputs": [
    {
     "ename": "TypeError",
     "evalue": "Can't instantiate abstract class ConcreteClassExt without an implementation for abstract method 'another_abstract_method'",
     "output_type": "error",
     "traceback": [
      "\u001b[1;31m---------------------------------------------------------------------------\u001b[0m",
      "\u001b[1;31mTypeError\u001b[0m                                 Traceback (most recent call last)",
      "Cell \u001b[1;32mIn[7], line 5\u001b[0m\n\u001b[0;32m      2\u001b[0m     \u001b[38;5;28;01mdef\u001b[39;00m \u001b[38;5;21mabstract_method\u001b[39m(\u001b[38;5;28mself\u001b[39m):\n\u001b[0;32m      3\u001b[0m         \u001b[38;5;28mprint\u001b[39m(\u001b[38;5;124m\"\u001b[39m\u001b[38;5;124mAbstract method override!\u001b[39m\u001b[38;5;124m\"\u001b[39m)\n\u001b[1;32m----> 5\u001b[0m ccext \u001b[38;5;241m=\u001b[39m \u001b[43mConcreteClassExt\u001b[49m\u001b[43m(\u001b[49m\u001b[43m)\u001b[49m\n",
      "\u001b[1;31mTypeError\u001b[0m: Can't instantiate abstract class ConcreteClassExt without an implementation for abstract method 'another_abstract_method'"
     ]
    }
   ],
   "source": [
    "class ConcreteClassExt(AbstractClassExt):\n",
    "    def abstract_method(self):\n",
    "        print(\"Abstract method override!\")\n",
    "\n",
    "ccext = ConcreteClassExt()"
   ]
  },
  {
   "cell_type": "markdown",
   "metadata": {},
   "source": [
    "Now it works!"
   ]
  },
  {
   "cell_type": "code",
   "execution_count": 8,
   "metadata": {},
   "outputs": [
    {
     "name": "stdout",
     "output_type": "stream",
     "text": [
      "Abstract method override!\n",
      "Another abstract method override!\n"
     ]
    }
   ],
   "source": [
    "class ConcreteClassExt(AbstractClassExt):\n",
    "    def abstract_method(self):\n",
    "        print(\"Abstract method override!\")\n",
    "    def another_abstract_method(self):\n",
    "        print(\"Another abstract method override!\")\n",
    "\n",
    "ccext = ConcreteClassExt()\n",
    "ccext.abstract_method()\n",
    "ccext.another_abstract_method()"
   ]
  },
  {
   "cell_type": "markdown",
   "metadata": {},
   "source": [
    "If a class has implemented methods, only the abstract methods of an abstract class need to be overridden."
   ]
  },
  {
   "cell_type": "code",
   "execution_count": 6,
   "metadata": {},
   "outputs": [
    {
     "ename": "TypeError",
     "evalue": "Can't instantiate abstract class Abstr2 without an implementation for abstract method 'abstract_method'",
     "output_type": "error",
     "traceback": [
      "\u001b[1;31m---------------------------------------------------------------------------\u001b[0m",
      "\u001b[1;31mTypeError\u001b[0m                                 Traceback (most recent call last)",
      "Cell \u001b[1;32mIn[6], line 5\u001b[0m\n\u001b[0;32m      2\u001b[0m     \u001b[38;5;28;01mdef\u001b[39;00m \u001b[38;5;21mmethod\u001b[39m(\u001b[38;5;28mself\u001b[39m):\n\u001b[0;32m      3\u001b[0m         \u001b[38;5;28mprint\u001b[39m(\u001b[38;5;124m\"\u001b[39m\u001b[38;5;124moriginal method\u001b[39m\u001b[38;5;124m\"\u001b[39m)\n\u001b[1;32m----> 5\u001b[0m a2 \u001b[38;5;241m=\u001b[39m \u001b[43mAbstr2\u001b[49m\u001b[43m(\u001b[49m\u001b[43m)\u001b[49m\n\u001b[0;32m      6\u001b[0m a2\u001b[38;5;241m.\u001b[39mmethod()\n",
      "\u001b[1;31mTypeError\u001b[0m: Can't instantiate abstract class Abstr2 without an implementation for abstract method 'abstract_method'"
     ]
    }
   ],
   "source": [
    "class Abstr2(AbstractClass):\n",
    "    def method(self):\n",
    "        print(\"original method\")\n",
    "\n",
    "a2 = Abstr2()\n",
    "a2.method()"
   ]
  },
  {
   "cell_type": "code",
   "execution_count": 7,
   "metadata": {},
   "outputs": [],
   "source": [
    "class Concr2(Abstr2):\n",
    "    def abstract_method(self):\n",
    "        print(\"overridden\")\n",
    "\n",
    "c2 = Concr2()"
   ]
  },
  {
   "cell_type": "code",
   "execution_count": null,
   "metadata": {},
   "outputs": [],
   "source": []
  }
 ],
 "metadata": {
  "kernelspec": {
   "display_name": "Python 3",
   "language": "python",
   "name": "python3"
  },
  "language_info": {
   "codemirror_mode": {
    "name": "ipython",
    "version": 3
   },
   "file_extension": ".py",
   "mimetype": "text/x-python",
   "name": "python",
   "nbconvert_exporter": "python",
   "pygments_lexer": "ipython3",
   "version": "3.12.3"
  }
 },
 "nbformat": 4,
 "nbformat_minor": 2
}
