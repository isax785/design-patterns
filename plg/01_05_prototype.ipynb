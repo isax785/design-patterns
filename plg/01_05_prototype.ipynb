{
 "cells": [
  {
   "cell_type": "markdown",
   "metadata": {},
   "source": [
    "# Prototype\n",
    "\n",
    "The Prototype design pattern is a creational pattern that allows you to copy existing objects without making your code dependent on their classes. This pattern is useful when the cost of creating a new object is more expensive than cloning an existing one."
   ]
  },
  {
   "cell_type": "code",
   "execution_count": 1,
   "metadata": {},
   "outputs": [
    {
     "name": "stdout",
     "output_type": "stream",
     "text": [
      "Original: ConcretePrototype with value: 42\n",
      "Clone: ConcretePrototype with value: 42\n",
      "Original is clone: False\n",
      "Original value is clone value: True\n"
     ]
    }
   ],
   "source": [
    "import copy\n",
    "from abc import ABC, abstractmethod\n",
    "\n",
    "class Prototype(ABC):\n",
    "    @abstractmethod\n",
    "    def clone(self):\n",
    "        pass\n",
    "\n",
    "class ConcretePrototype(Prototype):\n",
    "    def __init__(self, value):\n",
    "        self.value = value\n",
    "\n",
    "    def clone(self):\n",
    "        # Perform a deep copy to ensure that all nested objects are also copied\n",
    "        return copy.deepcopy(self)\n",
    "\n",
    "    def __str__(self):\n",
    "        return f'ConcretePrototype with value: {self.value}'\n",
    "\n",
    "# Create an initial prototype instance\n",
    "original = ConcretePrototype(42)\n",
    "print(f'Original: {original}')\n",
    "\n",
    "# Clone the original prototype\n",
    "clone = original.clone()\n",
    "print(f'Clone: {clone}')\n",
    "\n",
    "# Verify that the cloned object is a different instance\n",
    "print(f'Original is clone: {original is clone}')\n",
    "print(f'Original value is clone value: {original.value == clone.value}')"
   ]
  }
 ],
 "metadata": {
  "kernelspec": {
   "display_name": "Python 3",
   "language": "python",
   "name": "python3"
  },
  "language_info": {
   "codemirror_mode": {
    "name": "ipython",
    "version": 3
   },
   "file_extension": ".py",
   "mimetype": "text/x-python",
   "name": "python",
   "nbconvert_exporter": "python",
   "pygments_lexer": "ipython3",
   "version": "3.12.3"
  }
 },
 "nbformat": 4,
 "nbformat_minor": 2
}
