{
 "cells": [
  {
   "cell_type": "markdown",
   "metadata": {},
   "source": [
    "# Prototype\n",
    "\n",
    "The Prototype design pattern is a creational pattern that allows you to copy existing objects without making your code dependent on their classes. This pattern is useful when the cost of creating a new object is more expensive than cloning an existing one."
   ]
  },
  {
   "cell_type": "code",
   "execution_count": 1,
   "metadata": {},
   "outputs": [
    {
     "name": "stdout",
     "output_type": "stream",
     "text": [
      "Original: ConcretePrototype with value: 42\n",
      "Clone: ConcretePrototype with value: 42\n",
      "Original is clone: False\n",
      "Original value is clone value: True\n"
     ]
    }
   ],
   "source": [
    "import copy\n",
    "from abc import ABC, abstractmethod\n",
    "\n",
    "class Prototype(ABC):\n",
    "    @abstractmethod\n",
    "    def clone(self):\n",
    "        pass\n",
    "\n",
    "class ConcretePrototype(Prototype):\n",
    "    def __init__(self, value):\n",
    "        self.value = value\n",
    "\n",
    "    def clone(self):\n",
    "        # Perform a deep copy to ensure that all nested objects are also copied\n",
    "        return copy.deepcopy(self)\n",
    "\n",
    "    def __str__(self):\n",
    "        return f'ConcretePrototype with value: {self.value}'\n",
    "\n",
    "# Create an initial prototype instance\n",
    "original = ConcretePrototype(42)\n",
    "print(f'Original: {original}')\n",
    "\n",
    "# Clone the original prototype\n",
    "clone = original.clone()\n",
    "print(f'Clone: {clone}')    \n",
    "\n",
    "# Verify that the cloned object is a different instance\n",
    "print(f'Original is clone: {original is clone}')\n",
    "print(f'Original value is clone value: {original.value == clone.value}')"
   ]
  },
  {
   "cell_type": "markdown",
   "metadata": {},
   "source": [
    "## Minor Upgraded Version\n",
    "\n",
    "Added a counter for cloned instances to the concrete prototype class."
   ]
  },
  {
   "cell_type": "code",
   "execution_count": 10,
   "metadata": {},
   "outputs": [],
   "source": [
    "class ConcretePrototypeCounter(Prototype):\n",
    "    clones = 0\n",
    "    def __init__(self, value):\n",
    "        self.value = value\n",
    "        self.clone_nr = 0\n",
    "\n",
    "    def clone(self):\n",
    "        # Perform a deep copy to ensure that all nested objects are also copied\n",
    "        self.clones += 1\n",
    "        self.clone_nr = self.clones\n",
    "        return copy.deepcopy(self)\n",
    "\n",
    "    def __str__(self):\n",
    "        return f'ConcretePrototype with value: {self.value}'\n"
   ]
  },
  {
   "cell_type": "code",
   "execution_count": 11,
   "metadata": {},
   "outputs": [
    {
     "name": "stdout",
     "output_type": "stream",
     "text": [
      "Original: ConcretePrototype with value: 42\n",
      "Original clones: 0\n"
     ]
    }
   ],
   "source": [
    "original = ConcretePrototypeCounter(42)\n",
    "print(f'Original: {original}')\n",
    "print(f'Original clones: {original.clones}')"
   ]
  },
  {
   "cell_type": "code",
   "execution_count": 12,
   "metadata": {},
   "outputs": [
    {
     "name": "stdout",
     "output_type": "stream",
     "text": [
      "Clone: ConcretePrototype with value: 42\n",
      "Clone: 1\n"
     ]
    }
   ],
   "source": [
    "clone = original.clone()\n",
    "print(f'Clone: {clone}')\n",
    "print(f'Clone: {clone.clone_nr}')"
   ]
  },
  {
   "cell_type": "code",
   "execution_count": 13,
   "metadata": {},
   "outputs": [
    {
     "name": "stdout",
     "output_type": "stream",
     "text": [
      "Clone1: ConcretePrototype with value: 42\n",
      "Clone1: 2\n"
     ]
    }
   ],
   "source": [
    "clone2 = original.clone()\n",
    "print(f'Clone1: {clone2}')\n",
    "print(f'Clone1: {clone2.clone_nr}')"
   ]
  },
  {
   "cell_type": "code",
   "execution_count": 14,
   "metadata": {},
   "outputs": [
    {
     "name": "stdout",
     "output_type": "stream",
     "text": [
      "Clone1: 1\n"
     ]
    }
   ],
   "source": [
    "print(f'Clone1: {clone.clone_nr}')"
   ]
  }
 ],
 "metadata": {
  "kernelspec": {
   "display_name": "Python 3",
   "language": "python",
   "name": "python3"
  },
  "language_info": {
   "codemirror_mode": {
    "name": "ipython",
    "version": 3
   },
   "file_extension": ".py",
   "mimetype": "text/x-python",
   "name": "python",
   "nbconvert_exporter": "python",
   "pygments_lexer": "ipython3",
   "version": "3.12.3"
  }
 },
 "nbformat": 4,
 "nbformat_minor": 2
}
