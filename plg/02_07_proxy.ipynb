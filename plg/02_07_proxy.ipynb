{
 "cells": [
  {
   "cell_type": "markdown",
   "metadata": {},
   "source": [
    "# Proxy\n",
    "\n",
    "The `Proxy` Pattern is a structural design pattern that provides an object representing another object.\n",
    "\n",
    "Example:  a `Book` class that represents an expensive-to-create object. The `BookProxy` class will control access to the `Book` instance, allowing lazy initialization (only creating the `Book` when necessary) and logging access."
   ]
  },
  {
   "cell_type": "code",
   "execution_count": 1,
   "metadata": {},
   "outputs": [],
   "source": [
    "from abc import ABC, abstractmethod\n",
    "import time\n",
    "\n",
    "class BookInterface(ABC):\n",
    "    @abstractmethod\n",
    "    def display(self):\n",
    "        pass"
   ]
  },
  {
   "cell_type": "code",
   "execution_count": 2,
   "metadata": {},
   "outputs": [],
   "source": [
    "class Book(BookInterface):\n",
    "    def __init__(self, title):\n",
    "        self.title = title\n",
    "        self._load_from_disk()\n",
    "\n",
    "    def _load_from_disk(self):\n",
    "        # Simulating a heavy operation\n",
    "        \n",
    "        print(f\"Loading book '{self.title}' from disk...\", end='')\n",
    "        time.sleep(3)\n",
    "        print(\"loaded!\")\n",
    "\n",
    "    def display(self):\n",
    "        print(f\"Displaying book '{self.title}'\")"
   ]
  },
  {
   "cell_type": "code",
   "execution_count": 3,
   "metadata": {},
   "outputs": [],
   "source": [
    "class BookProxy(BookInterface):\n",
    "    def __init__(self, title):\n",
    "        self.title = title\n",
    "        self.book = None\n",
    "\n",
    "    def display(self):\n",
    "        if self.book is None:\n",
    "            self.book = Book(self.title)\n",
    "        print(f\"Proxy: Logging access to the book '{self.title}'\")\n",
    "        self.book.display()"
   ]
  },
  {
   "cell_type": "code",
   "execution_count": 4,
   "metadata": {},
   "outputs": [
    {
     "name": "stdout",
     "output_type": "stream",
     "text": [
      "Client: Let's display the first book.\n",
      "Loading book 'Design Patterns: Elements of Reusable Object-Oriented Software' from disk...\n",
      "Proxy: Logging access to the book 'Design Patterns: Elements of Reusable Object-Oriented Software'\n",
      "Displaying book 'Design Patterns: Elements of Reusable Object-Oriented Software'\n",
      "\n",
      "Client: Let's display the second book.\n",
      "Loading book 'Clean Code: A Handbook of Agile Software Craftsmanship' from disk...\n",
      "Proxy: Logging access to the book 'Clean Code: A Handbook of Agile Software Craftsmanship'\n",
      "Displaying book 'Clean Code: A Handbook of Agile Software Craftsmanship'\n",
      "\n",
      "Client: Let's display the first book again.\n",
      "Proxy: Logging access to the book 'Design Patterns: Elements of Reusable Object-Oriented Software'\n",
      "Displaying book 'Design Patterns: Elements of Reusable Object-Oriented Software'\n"
     ]
    }
   ],
   "source": [
    "# CLient Code\n",
    "book1 = BookProxy(\"Design Patterns: Elements of Reusable Object-Oriented Software\")\n",
    "book2 = BookProxy(\"Clean Code: A Handbook of Agile Software Craftsmanship\")\n",
    "\n",
    "# Book is not loaded yet\n",
    "print(\"Client: Let's display the first book.\")\n",
    "book1.display()\n",
    "\n",
    "print(\"\\nClient: Let's display the second book.\")\n",
    "book2.display()\n",
    "\n",
    "# Book is already loaded, no loading from disk\n",
    "print(\"\\nClient: Let's display the first book again.\")\n",
    "book1.display()"
   ]
  }
 ],
 "metadata": {
  "kernelspec": {
   "display_name": "Python 3",
   "language": "python",
   "name": "python3"
  },
  "language_info": {
   "codemirror_mode": {
    "name": "ipython",
    "version": 3
   },
   "file_extension": ".py",
   "mimetype": "text/x-python",
   "name": "python",
   "nbconvert_exporter": "python",
   "pygments_lexer": "ipython3",
   "version": "3.12.3"
  }
 },
 "nbformat": 4,
 "nbformat_minor": 2
}
