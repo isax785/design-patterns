{
 "cells": [
  {
   "cell_type": "markdown",
   "metadata": {},
   "source": [
    "# Maze Example\n",
    "\n",
    "The creation of a maze implemented by applying multiple design patterns.\n",
    "\n",
    "The maze is composed by rooms, bounded by walls and doors that estabilish the communication between two adjacent rooms."
   ]
  },
  {
   "cell_type": "markdown",
   "metadata": {},
   "source": [
    "## Base Classes"
   ]
  },
  {
   "cell_type": "code",
   "execution_count": 2,
   "metadata": {},
   "outputs": [],
   "source": [
    "from abc import ABC, abstractmethod\n",
    "from enum import Enum\n",
    "\n",
    "# Direction Enum\n",
    "class Direction(Enum):\n",
    "    NORTH = 0\n",
    "    EAST = 1\n",
    "    SOUTH = 2\n",
    "    WEST = 3\n",
    "\n",
    "# MapSite Abstract Base Class\n",
    "class MapSite(ABC):\n",
    "    @abstractmethod\n",
    "    def Enter(self):\n",
    "        pass\n",
    "\n",
    "# Wall Class\n",
    "class Wall(MapSite):\n",
    "    def Enter(self):\n",
    "        print(\"You just ran into a wall.\")\n",
    "\n",
    "# Room Class\n",
    "class Room(MapSite):\n",
    "    def __init__(self, roomNo: int):\n",
    "        self._roomNumber = roomNo\n",
    "        self._sides = [None] * 4\n",
    "\n",
    "    def GetSide(self, direction: Direction) -> MapSite:\n",
    "        return self._sides[direction.value]\n",
    "\n",
    "    def SetSide(self, direction: Direction, site: MapSite):\n",
    "        self._sides[direction.value] = site\n",
    "\n",
    "    def Enter(self):\n",
    "        print(f\"Entering room {self._roomNumber}\")\n",
    "\n",
    "# Door Class\n",
    "class Door(MapSite):\n",
    "    def __init__(self, room1: Room = None, room2: Room = None):\n",
    "        self._room1 = room1\n",
    "        self._room2 = room2\n",
    "        self._isOpen = False\n",
    "\n",
    "    def Enter(self):\n",
    "        if self._isOpen:\n",
    "            print(\"You pass through the door.\")\n",
    "        else:\n",
    "            print(\"The door is closed.\")\n",
    "\n",
    "    def OtherSideFrom(self, room: Room) -> Room:\n",
    "        if room == self._room1:\n",
    "            return self._room2\n",
    "        elif room == self._room2:\n",
    "            return self._room1\n",
    "        else:\n",
    "            return None\n",
    "        \n",
    "# Maze Class\n",
    "class Maze:\n",
    "    def __init__(self):\n",
    "        self._rooms = {}\n",
    "\n",
    "    def AddRoom(self, room: Room):\n",
    "        self._rooms[room._roomNumber] = room\n",
    "\n",
    "    def RoomNo(self, room_number: int) -> Room:\n",
    "        return self._rooms.get(room_number)"
   ]
  },
  {
   "cell_type": "markdown",
   "metadata": {},
   "source": [
    "## Hard-Coded Implementation"
   ]
  },
  {
   "cell_type": "code",
   "execution_count": null,
   "metadata": {},
   "outputs": [],
   "source": [
    "class MazeGame:\n",
    "    @staticmethod\n",
    "    def CreateMaze() -> Maze:\n",
    "        aMaze = Maze()\n",
    "        r1 = Room(1)\n",
    "        r2 = Room(2)\n",
    "        theDoor = Door(r1, r2)\n",
    "        \n",
    "        aMaze.AddRoom(r1)\n",
    "        aMaze.AddRoom(r2)\n",
    "        \n",
    "        r1.SetSide(Direction.NORTH, Wall())\n",
    "        r1.SetSide(Direction.EAST, theDoor)\n",
    "        r1.SetSide(Direction.SOUTH, Wall())\n",
    "        r1.SetSide(Direction.WEST, Wall())\n",
    "        \n",
    "        r2.SetSide(Direction.NORTH, Wall())\n",
    "        r2.SetSide(Direction.EAST, Wall())\n",
    "        r2.SetSide(Direction.SOUTH, Wall())\n",
    "        r2.SetSide(Direction.WEST, theDoor)\n",
    "        \n",
    "        return aMaze\n",
    "    \n",
    "maze = MazeGame.CreateMaze()\n",
    "room1 = maze.RoomNo(1)\n",
    "room2 = maze.RoomNo(2)\n",
    "\n",
    "print(f\"Room 1 sides: {[type(room1.GetSide(direction)).__name__ for direction in Direction]}\")\n",
    "print(f\"Room 2 sides: {[type(room2.GetSide(direction)).__name__ for direction in Direction]}\")"
   ]
  },
  {
   "cell_type": "markdown",
   "metadata": {},
   "source": [
    "## Abstract Factory\n",
    "\n",
    "Implementation of the class `MazeFactory` that can create the components of a maze.\n",
    "\n",
    "The implmentation of `CreateMaze` allows creating mazes with different components by taking `MazeFactory` as parameter.\n",
    "\n",
    "The `MazeFactory` is just a collection of factory methods. This is the most common way to implement the `Abstract Factory` pattern. "
   ]
  },
  {
   "cell_type": "code",
   "execution_count": null,
   "metadata": {},
   "outputs": [],
   "source": [
    "class MazeFactory:\n",
    "    def MakeMaze(self):\n",
    "        return Maze()\n",
    "    \n",
    "    def MakeWall(self):\n",
    "        return Wall()\n",
    "    \n",
    "    def MakeRoom(self, n: int):\n",
    "        return Room(n)\n",
    "    \n",
    "    def MakeDoor(self, r1: Room, r2: Room):\n",
    "        return Door(r1, r2)"
   ]
  },
  {
   "cell_type": "markdown",
   "metadata": {},
   "source": [
    "Note that `MazeFactory` is not an abstract class; thus it acts as both the `AbstractFactory` and the `ConcreteFactory`. This is another common implementation for simple applications of the `Abstract Factory` pattern. Because the `MazeFactory` is a concrete class consisting entirely of factory methods, it's easy to make a new `MazeFactory` by making a subclass and overriding the operations that need to change."
   ]
  },
  {
   "cell_type": "code",
   "execution_count": null,
   "metadata": {},
   "outputs": [],
   "source": [
    "class MazeGame:\n",
    "    @staticmethod\n",
    "    def CreateMaze(factory: MazeFactory) -> Maze:\n",
    "        aMaze = factory.MakeMaze()\n",
    "        r1 = factory.MakeRoom(1)\n",
    "        r2 = factory.MakeRoom(2)\n",
    "        aDoor = factory.MakeDoor(r1, r2)\n",
    "\n",
    "        aMaze.AddRoom(r1)\n",
    "        aMaze.AddRoom(r2)\n",
    "\n",
    "        r1.SetSide(Direction.NORTH, factory.MakeWall())\n",
    "        r1.SetSide(Direction.EAST, aDoor)\n",
    "        r1.SetSide(Direction.SOUTH, factory.MakeWall())\n",
    "        r1.SetSide(Direction.WEST, factory.MakeWall())\n",
    "        \n",
    "        r2.SetSide(Direction.NORTH, factory.MakeWall())\n",
    "        r2.SetSide(Direction.EAST, factory.MakeWall())\n",
    "        r2.SetSide(Direction.SOUTH, factory.MakeWall())\n",
    "        r2.SetSide(Direction.WEST, aDoor)\n",
    "        \n",
    "        return aMaze"
   ]
  },
  {
   "cell_type": "markdown",
   "metadata": {},
   "source": [
    "For example, it is possible to create `EnchantedMazeFactory`, that is a factory for enchanted mazes, by subclassing MazeFactory."
   ]
  },
  {
   "cell_type": "code",
   "execution_count": null,
   "metadata": {},
   "outputs": [],
   "source": [
    "class EnchantedRoom(Room):\n",
    "    def __init__(self, roomNo, CastSpell):\n",
    "        super().__init__(roomNo)\n",
    "\n",
    "class DoorNeedingSpell(Door):\n",
    "    def __init__(self, r1, r2):\n",
    "        super().__init__(r1, r2)\n",
    "\n",
    "class EnchantedMazeFactory(MazeFactory):\n",
    "    def MakeRoom(self, n):\n",
    "        return EnchantedRoom(n, self.CastSpell())\n",
    "    \n",
    "    def MakeDoor(self, r1:Room, r2:Room):\n",
    "        return DoorNeedingSpell(r1, r2)\n",
    "    \n",
    "    def CastSpell(self):\n",
    "        print(\"Entered Enchanted Room\")"
   ]
  },
  {
   "cell_type": "markdown",
   "metadata": {},
   "source": [
    "Now suppose we want to make a maze game in which a room can have a bomb set in it. If the bomb goes off, it will damage the walls (at least). We can make a subclass of Room keep track of whether the room has a bomb in it and whether the bomb has gone off. We'll also need a subclass of Wall to keep track of the damage done to the wall. We'll call these classes RoomWithABomb and BombedWall.\n",
    "\n",
    "The last class we'll define is BombedMazeFactory, a subclass of MazeFactory that ensures walls are of class BombedWall and rooms are of class RoomWithABomb. BombedMazeFactory only needs to override two functions:\n",
    "\n",
    "```cpp\n",
    "Wall* BombedMazeFactory::MakeWall () const {\n",
    "return new BombedWall;\n",
    "}\n",
    "Room* BombedMazeFactory::MakeRoom(int n) const {\n",
    "return new RoomWithABomb(n);\n",
    "}\n",
    "```\n",
    "\n",
    "To build a simple maze that can contain bombs, we simply call CreateMaze with a BombedMazeFactory.\n",
    "\n",
    "```cpp\n",
    "MazeGame game;\n",
    "BombedMazeFactory factory;\n",
    "game.CreateMaze(factory);\n",
    "```"
   ]
  },
  {
   "cell_type": "markdown",
   "metadata": {},
   "source": [
    "## Builder\n",
    "\n",
    "`MazeBuilder` does not create mazes itself; its main purpose is just to define an interface for creating mazes. It defines empty implementations primarily for convenience. Subclasses of `MazeBuilder` do the actual work."
   ]
  },
  {
   "cell_type": "code",
   "execution_count": null,
   "metadata": {},
   "outputs": [],
   "source": [
    "class MazeBuilder(ABC):\n",
    "    def BuildMaze():\n",
    "        pass\n",
    "    def BuildRoom(room:int):\n",
    "        pass\n",
    "    def BuildDoor(roomFrom:int, roomTo: int):\n",
    "        pass\n",
    "    @abstractmethod\n",
    "    def GetMaze():\n",
    "        pass\n",
    "\n",
    "class MazeGame:\n",
    "    @staticmethod\n",
    "    def CreateMaze(builder: MazeBuilder):\n",
    "        builder.BuildMaze()\n",
    "        builder.BuildRoom(1)\n",
    "        builder.BuildRoom(2)\n",
    "        builder.BuildDoor(1, 2)\n",
    "\n",
    "        return builder.GetMaze()\n"
   ]
  },
  {
   "cell_type": "markdown",
   "metadata": {},
   "source": [
    "Any other `MazeGame` can be implemented to build a maze with the required structure."
   ]
  },
  {
   "cell_type": "code",
   "execution_count": null,
   "metadata": {},
   "outputs": [],
   "source": [
    "class StandardMazeBuilder(MazeBuilder):\n",
    "    def __init__(self):\n",
    "        _currentMaze = None # keep track of the maze it's built\n",
    "    def BuildMaze(self):\n",
    "        _currentMaze = Maze()\n",
    "    def BuildRoom(self, n:int):\n",
    "        if n not in self._currentMaze:\n",
    "            room = Room(n)\n",
    "            self._currentMaze.AddRoom(room)\n",
    "            room.SetSide(Direction.NORTH, Wall())\n",
    "            room.SetSide(Direction.EAST, Wall())\n",
    "            room.SetSide(Direction.SOUTH, Wall())\n",
    "            room.SetSide(Direction.WEST, Wall())\n",
    "        pass\n",
    "    def BuildDoor(self, n1:int, n2: int):\n",
    "        r1 = self._currentMaze.RoomNo(n1)\n",
    "        r2 = self._currentMaze.RoomNo(n2)\n",
    "        d = Door(r1, r2)\n",
    "        r1.SetSide(self.CommonWall(r1, r2), d)\n",
    "        r2.SetSide(self.CommonWall(r2, r1), d)\n",
    "    def GetMaze(self):\n",
    "        return self._current_maze\n",
    "    def CommonWall(r1:Room, r2:Room):\n",
    "        \"utylity operation that determines the direction of the common wall between two rooms\"\n",
    "        pass"
   ]
  },
  {
   "cell_type": "code",
   "execution_count": null,
   "metadata": {},
   "outputs": [],
   "source": [
    "maze = Maze()\n",
    "game = MazeGame()\n",
    "builder = StandardMazeBuilder()\n",
    "game.CreateMaze(builder)\n",
    "maze = builder.GetMaze()"
   ]
  },
  {
   "cell_type": "markdown",
   "metadata": {},
   "source": [
    "`CountingMazeBuilder` jsut counts the different kinds of components that would have been created."
   ]
  },
  {
   "cell_type": "code",
   "execution_count": null,
   "metadata": {},
   "outputs": [],
   "source": [
    "class CountingMazeBuilder(MazeBuilder):\n",
    "    def __init__(self):\n",
    "        self._doors = 0\n",
    "        self._rooms = 0\n",
    "    def BuildMaze():\n",
    "        pass\n",
    "    def BuildRoom(self, room:int):\n",
    "        self._rooms += 1\n",
    "    def BuildDoor(self, roomFrom:int, roomTo: int):\n",
    "        self._doors += 1\n",
    "    def AddWall(n:int, direction:Direction):\n",
    "        pass\n",
    "    def GetCounts(n:int, m:int):\n",
    "        rooms = self._rooms\n",
    "        doors = self._doors\n",
    "        return rooms, doors\n",
    "    def GetMaze():\n",
    "        pass\n",
    "\n",
    "\n",
    "game = MazeGame()\n",
    "builder = CountingMazeBuilder()\n",
    "game.CreateMaze(builder)\n",
    "rooms, doors = builder.GetCounts()\n",
    "print(f\"The maze has {rooms} rooms and {doors} doors.\")    "
   ]
  },
  {
   "cell_type": "markdown",
   "metadata": {},
   "source": [
    "## Factory Method"
   ]
  },
  {
   "cell_type": "markdown",
   "metadata": {},
   "source": [
    "The `Factory Method` to let subclasses choose the components (i.e. maze, rooms, doors, and walls).\n",
    "\n",
    "Each factory method returns a maze component of a given type. `MazeGame` provides default implementations that return the simplest kinds of maze, rooms, walls, and doors."
   ]
  },
  {
   "cell_type": "code",
   "execution_count": null,
   "metadata": {},
   "outputs": [],
   "source": [
    "class MazeGame:\n",
    "    def CreateMaze(self):\n",
    "        aMaze = self.MakeMaze()\n",
    "        r1 = self.MakeRoom(1)\n",
    "        r2 = self.MakeRoom(2)\n",
    "        theDoor = self.MakeDoor(r1, r2)\n",
    "        r1.SetSide(Direction.NORTH, self.MakeWall())\n",
    "        r1.SetSide(Direction.EAST, theDoor)\n",
    "        r1.SetSide(Direction.SOUTH, self.MakeWall())\n",
    "        r1.SetSide(Direction.WEST, self.MakeWall())\n",
    "        r2.SetSide(Direction.NORTH, self.MakeWall())\n",
    "        r2.SetSide(Direction.EAST, self.MakeWall)\n",
    "        r2.SetSide(Direction.SOUTH, self.MakeWall())\n",
    "        r2.SetSide(Direction.WEST, theDoor)\n",
    "        return aMaze\n",
    "    def MakeMaze(self):\n",
    "        pass\n",
    "    def MakeRoom(self, n: int):\n",
    "        return Room(n)\n",
    "    def MakeWall(self):\n",
    "        return Wall()\n",
    "    def MakeDoor(self, r1:Room, r2:Room):\n",
    "        return Door(r1, r2)"
   ]
  },
  {
   "cell_type": "markdown",
   "metadata": {},
   "source": [
    "Different games can subclass `MazeGame` to specialize parts of the maze. `MazeGame` subclasses can redefine some or all of the factory methods to specify variations in products. For example, a `BombedMazeGame` can redefine the Room and Wall products to return the bombed varieties:"
   ]
  },
  {
   "cell_type": "code",
   "execution_count": null,
   "metadata": {},
   "outputs": [],
   "source": [
    "class BombedMazeGame(MazeGame):\n",
    "    def __init__(self):\n",
    "        pass\n",
    "    def MakeWall(self):\n",
    "        return BombedWall()\n",
    "    def MakeRoom(n:int):\n",
    "        return RoomWithABomb(n)"
   ]
  },
  {
   "cell_type": "markdown",
   "metadata": {},
   "source": [
    "An `EnchantedMazeGame` variant might be defined like this:"
   ]
  },
  {
   "cell_type": "code",
   "execution_count": null,
   "metadata": {},
   "outputs": [],
   "source": [
    "from . import Room\n",
    "\n",
    "class EnchantedMazeGame(MazeGame):\n",
    "    def __init__(self):\n",
    "        pass\n",
    "    def MakeRoom(self, n: int):\n",
    "        return EnchantedRoom(n, self.CastSpell())\n",
    "    def MakeDoor(self, r1: Room, r2: Room):\n",
    "        return DoorNeedingSpell(r1, r2)\n",
    "    def CastSpell():\n",
    "        pass"
   ]
  },
  {
   "cell_type": "markdown",
   "metadata": {},
   "source": [
    "## Prototype\n",
    "\n",
    "`MazePrototypeFactory` will be initialized with prototypes of the objects it will create so that we don't have to subclass it just to change the classes of walls or rooms it creates."
   ]
  },
  {
   "cell_type": "code",
   "execution_count": null,
   "metadata": {},
   "outputs": [],
   "source": [
    "class MazePrototypeFactory(MazeFactory):\n",
    "    def __init__(self, maze:Maze, wall:Wall, room:Room, door:Door):\n",
    "        self._prototypeMaze = maze\n",
    "        self._prototypeWall = wall\n",
    "        self._prototypeRoom = room\n",
    "        self._prototypeDoor = door\n",
    "\n",
    "    def MakeWall(self):\n",
    "        return self._prototypeWall.clone()\n",
    "    \n",
    "    def makeDoor(self, r1:Room, r2:Room):\n",
    "        door = self._prototypeDoor.clone()\n",
    "        door.initialize(r1, r2)\n",
    "        return door"
   ]
  },
  {
   "cell_type": "markdown",
   "metadata": {},
   "source": [
    "Usage:"
   ]
  },
  {
   "cell_type": "code",
   "execution_count": null,
   "metadata": {},
   "outputs": [],
   "source": [
    "game = MazeGame()\n",
    "simpleMazeFactory = MazePrototypeFactory(Maze(), Wall(), Room(), Door())\n",
    "maze = game.CreateMaze(simpleMazeFactory)"
   ]
  },
  {
   "cell_type": "markdown",
   "metadata": {},
   "source": [
    "An object to be used as a prototype would need having:\n",
    "\n",
    "- `.clone()` operation\n",
    "- copy constructor for cloning\n",
    "- `Initialize` operation for reinitializing the internal state"
   ]
  },
  {
   "cell_type": "code",
   "execution_count": null,
   "metadata": {},
   "outputs": [],
   "source": [
    "from copy import deepcopy\n",
    "\n",
    "class Door(MapSite):\n",
    "    def __init__(self, other:Door):\n",
    "        self._room1 = other._room1\n",
    "        self._room2 = other._room2\n",
    "\n",
    "    def Initialize(self, r1:Room, r2:Room):\n",
    "        _room1 = r1\n",
    "        _room2 = r2\n",
    "\n",
    "    def Clone(self):\n",
    "        return deepcopy(self)"
   ]
  },
  {
   "cell_type": "markdown",
   "metadata": {},
   "source": [
    "Another maze type:"
   ]
  },
  {
   "cell_type": "code",
   "execution_count": null,
   "metadata": {},
   "outputs": [],
   "source": [
    "class BombedWall(Wall):\n",
    "    def __init__(self, other):\n",
    "        self._bomb = other._bomb\n",
    "\n",
    "    def Clone(self):\n",
    "        return deepcopy(self)\n",
    "\n",
    "bombedMazeFactory = MazePrototypeFactory(Maze(), BombedWall(), RommWithABomb(), Door())"
   ]
  },
  {
   "cell_type": "markdown",
   "metadata": {},
   "source": [
    "## Singleton\n",
    "\n",
    "By making the `MazeFactory` a singleton, we make the maze object globally accessible without resorting to global variables.\n",
    "\n",
    "We mae it a singleton class by adding a static `Instance` operation and a static `_instance` member to hold the one and only one instance."
   ]
  },
  {
   "cell_type": "code",
   "execution_count": 22,
   "metadata": {},
   "outputs": [],
   "source": [
    "class MazeFactorySingleton:\n",
    "    _instance = None\n",
    "    \n",
    "    def __new__(cls):\n",
    "        if cls._instance is None:\n",
    "            cls._instance = super(MazeFactorySingleton, cls).__new__(cls)\n",
    "        return cls._instance\n",
    "    \n",
    "    def MakeMaze():\n",
    "        return Maze()\n",
    "    \n",
    "    def MakeWall():\n",
    "        return Wall()\n",
    "    \n",
    "    def MakeRoom(n: int):\n",
    "        return Room(n)\n",
    "    \n",
    "    def MakeDoor(r1: Room, r2: Room):\n",
    "        return Door(r1, r2)\n",
    "    \n",
    "    def Instance(self):\n",
    "        if self._instance == 0:\n",
    "            self._instance = 1\n",
    "        return self._instance"
   ]
  },
  {
   "cell_type": "code",
   "execution_count": 26,
   "metadata": {},
   "outputs": [
    {
     "data": {
      "text/plain": [
       "True"
      ]
     },
     "execution_count": 26,
     "metadata": {},
     "output_type": "execute_result"
    }
   ],
   "source": [
    "mfs = MazeFactorySingleton()\n",
    "mfs2 = MazeFactorySingleton()\n",
    "mfs is mfs2"
   ]
  }
 ],
 "metadata": {
  "kernelspec": {
   "display_name": "Python 3",
   "language": "python",
   "name": "python3"
  },
  "language_info": {
   "codemirror_mode": {
    "name": "ipython",
    "version": 3
   },
   "file_extension": ".py",
   "mimetype": "text/x-python",
   "name": "python",
   "nbconvert_exporter": "python",
   "pygments_lexer": "ipython3",
   "version": "3.12.3"
  }
 },
 "nbformat": 4,
 "nbformat_minor": 2
}
