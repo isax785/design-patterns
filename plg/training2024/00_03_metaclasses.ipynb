{
 "cells": [
  {
   "cell_type": "markdown",
   "metadata": {},
   "source": [
    "# Metaclasses\n",
    "\n",
    "Metaclasses in Python are a powerful tool that can be used to customize class creation. They allow you to <u>control the behavior of classes and objects in a more flexible way than traditional class inheritance</u>. \n",
    "\n",
    "Metaclasses provide a way to customize class creation and behavior in Python, offering a powerful tool for advanced programming tasks.\n",
    "\n",
    "Here below the examples of metaclasses application:\n",
    "\n",
    "- [Enforcing Coding Conventions](#enforcing-coding-conventions)\n",
    "- [Singleton Pattern](#singleton-pattern)\n",
    "- [Automatic Attribute Initialization](#automatic-attribute-initialization)\n",
    "- [Method Injection](#method-injection)\n",
    "- [Tracking Subclasses](#tracking-subclasses)\n",
    "\n",
    "Other parts of interest:\n",
    "\n",
    "- [Notes](#notes)\n",
    "  - [Class Methods](#class-methods)\n",
    "- [Playground](#playground)\n",
    "\n",
    "References:\n",
    "\n",
    "- [Python Metaclasses](https://jfreeman.dev/blog/2020/12/07/python-metaclasses/)\n",
    "- [Understanding Object Instantiation and Metaclasses in Python](https://www.honeybadger.io/blog/python-instantiation-metaclass/)"
   ]
  },
  {
   "cell_type": "markdown",
   "metadata": {},
   "source": [
    "## Metaclass\n",
    "\n",
    "The metaclass arguments for `__new__` method are:\n",
    "\n",
    "- `name`: the name of the class belonging to the metaclass\n",
    "- `bases`: list of inherited classes\n",
    "- `dct`: all the attributes and methods of the class\n",
    "\n",
    "Here below an example that shows in details the mechanism:"
   ]
  },
  {
   "cell_type": "code",
   "execution_count": 15,
   "metadata": {},
   "outputs": [
    {
     "name": "stdout",
     "output_type": "stream",
     "text": [
      "name: MyClass\n",
      "bases: (<class '__main__.A'>,)\n",
      "dct:\n",
      "{'BAR': 'baz',\n",
      " 'FOO': 'bar',\n",
      " '__module__': '__main__',\n",
      " '__qualname__': 'MyClass',\n",
      " 'foo1': 'bar',\n",
      " 'pippo': <function MyClass.pippo at 0x000002587DCBB100>,\n",
      " 'pippo_static': <staticmethod(<function MyClass.pippo_static at 0x000002587DCBB1A0>)>}\n"
     ]
    }
   ],
   "source": [
    "from pprint import pprint\n",
    "\n",
    "class Metaclass(type):\n",
    "    def __new__(cls, name, bases, dct):\n",
    "        print(f\"name: {name}\")\n",
    "        print(f\"bases: {bases}\")\n",
    "        print(\"dct:\")\n",
    "        pprint(dct)\n",
    "        new_dct = {}\n",
    "        for key, value in dct.items():\n",
    "            if not key.startswith('__'):\n",
    "                key = key.upper()\n",
    "            new_dct[key] = value\n",
    "        return super().__new__(cls, name, bases, new_dct)\n",
    "    \n",
    "class A:\n",
    "    pass\n",
    "\n",
    "class MyClass(A, metaclass=Metaclass):\n",
    "    FOO = 'bar'\n",
    "    BAR = 'baz'\n",
    "    foo1 = 'bar'\n",
    "\n",
    "    def pippo(self):\n",
    "        pass\n",
    "\n",
    "    @staticmethod\n",
    "    def pippo_static():\n",
    "        pass"
   ]
  },
  {
   "cell_type": "markdown",
   "metadata": {},
   "source": [
    "## Enforcing Coding Conventions\n",
    "\n",
    "A common use of metaclasses is to enforce coding conventions, such as ensuring all class attribute names are uppercase."
   ]
  },
  {
   "cell_type": "code",
   "execution_count": 1,
   "metadata": {},
   "outputs": [
    {
     "name": "stdout",
     "output_type": "stream",
     "text": [
      "bar\n"
     ]
    },
    {
     "ename": "ValueError",
     "evalue": "Attribute 'foo' is not uppercase.",
     "output_type": "error",
     "traceback": [
      "\u001b[1;31m---------------------------------------------------------------------------\u001b[0m",
      "\u001b[1;31mValueError\u001b[0m                                Traceback (most recent call last)",
      "Cell \u001b[1;32mIn[1], line 19\u001b[0m\n\u001b[0;32m     16\u001b[0m \u001b[38;5;28mprint\u001b[39m(MyClass\u001b[38;5;241m.\u001b[39mFOO)  \u001b[38;5;66;03m# Output: bar\u001b[39;00m\n\u001b[0;32m     18\u001b[0m \u001b[38;5;66;03m# This will fail at class definition time if uncommented\u001b[39;00m\n\u001b[1;32m---> 19\u001b[0m \u001b[38;5;28;43;01mclass\u001b[39;49;00m\u001b[43m \u001b[49m\u001b[38;5;21;43;01mAnotherClass\u001b[39;49;00m\u001b[43m(\u001b[49m\u001b[43mmetaclass\u001b[49m\u001b[38;5;241;43m=\u001b[39;49m\u001b[43mUpperCaseAttributesMeta\u001b[49m\u001b[43m)\u001b[49m\u001b[43m:\u001b[49m\n\u001b[0;32m     20\u001b[0m \u001b[43m    \u001b[49m\u001b[43mfoo\u001b[49m\u001b[43m \u001b[49m\u001b[38;5;241;43m=\u001b[39;49m\u001b[43m \u001b[49m\u001b[38;5;124;43m'\u001b[39;49m\u001b[38;5;124;43mbar\u001b[39;49m\u001b[38;5;124;43m'\u001b[39;49m  \u001b[38;5;66;03m# This will raise a ValueError\u001b[39;00m\n",
      "Cell \u001b[1;32mIn[1], line 6\u001b[0m, in \u001b[0;36mUpperCaseAttributesMeta.__new__\u001b[1;34m(cls, name, bases, dct)\u001b[0m\n\u001b[0;32m      4\u001b[0m \u001b[38;5;28;01mfor\u001b[39;00m key, value \u001b[38;5;129;01min\u001b[39;00m dct\u001b[38;5;241m.\u001b[39mitems():\n\u001b[0;32m      5\u001b[0m     \u001b[38;5;28;01mif\u001b[39;00m \u001b[38;5;129;01mnot\u001b[39;00m key\u001b[38;5;241m.\u001b[39misupper() \u001b[38;5;129;01mand\u001b[39;00m \u001b[38;5;129;01mnot\u001b[39;00m key\u001b[38;5;241m.\u001b[39mstartswith(\u001b[38;5;124m'\u001b[39m\u001b[38;5;124m__\u001b[39m\u001b[38;5;124m'\u001b[39m):\n\u001b[1;32m----> 6\u001b[0m         \u001b[38;5;28;01mraise\u001b[39;00m \u001b[38;5;167;01mValueError\u001b[39;00m(\u001b[38;5;124mf\u001b[39m\u001b[38;5;124m\"\u001b[39m\u001b[38;5;124mAttribute \u001b[39m\u001b[38;5;124m'\u001b[39m\u001b[38;5;132;01m{\u001b[39;00mkey\u001b[38;5;132;01m}\u001b[39;00m\u001b[38;5;124m'\u001b[39m\u001b[38;5;124m is not uppercase.\u001b[39m\u001b[38;5;124m\"\u001b[39m)\n\u001b[0;32m      7\u001b[0m     new_dct[key] \u001b[38;5;241m=\u001b[39m value\n\u001b[0;32m      8\u001b[0m \u001b[38;5;28;01mreturn\u001b[39;00m \u001b[38;5;28msuper\u001b[39m()\u001b[38;5;241m.\u001b[39m\u001b[38;5;21m__new__\u001b[39m(\u001b[38;5;28mcls\u001b[39m, name, bases, new_dct)\n",
      "\u001b[1;31mValueError\u001b[0m: Attribute 'foo' is not uppercase."
     ]
    }
   ],
   "source": [
    "class UpperCaseAttributesMeta(type):\n",
    "    def __new__(cls, name, bases, dct):\n",
    "        new_dct = {}\n",
    "        for key, value in dct.items():\n",
    "            if not key.isupper() and not key.startswith('__'):\n",
    "                raise ValueError(f\"Attribute '{key}' is not uppercase.\")\n",
    "            new_dct[key] = value\n",
    "        return super().__new__(cls, name, bases, new_dct)\n",
    "\n",
    "class MyClass(metaclass=UpperCaseAttributesMeta):\n",
    "    FOO = 'bar'\n",
    "    BAR = 'baz'\n",
    "    # foo = 'bar'  # This would raise a ValueError\n",
    "\n",
    "# This will succeed\n",
    "print(MyClass.FOO)  # Output: bar\n",
    "\n",
    "# This will fail at class definition time if uncommented\n",
    "class AnotherClass(metaclass=UpperCaseAttributesMeta):\n",
    "    foo = 'bar'  # This will raise a ValueError\n"
   ]
  },
  {
   "cell_type": "code",
   "execution_count": 13,
   "metadata": {},
   "outputs": [
    {
     "name": "stdout",
     "output_type": "stream",
     "text": [
      "bar\n"
     ]
    },
    {
     "ename": "AttributeError",
     "evalue": "type object 'MyClassUpper' has no attribute 'foo1'",
     "output_type": "error",
     "traceback": [
      "\u001b[1;31m---------------------------------------------------------------------------\u001b[0m",
      "\u001b[1;31mAttributeError\u001b[0m                            Traceback (most recent call last)",
      "Cell \u001b[1;32mIn[13], line 16\u001b[0m\n\u001b[0;32m     13\u001b[0m     foo1 \u001b[38;5;241m=\u001b[39m \u001b[38;5;124m'\u001b[39m\u001b[38;5;124mbar\u001b[39m\u001b[38;5;124m'\u001b[39m\n\u001b[0;32m     15\u001b[0m \u001b[38;5;28mprint\u001b[39m(MyClassUpper\u001b[38;5;241m.\u001b[39mFOO1)\n\u001b[1;32m---> 16\u001b[0m \u001b[38;5;28mprint\u001b[39m(\u001b[43mMyClassUpper\u001b[49m\u001b[38;5;241;43m.\u001b[39;49m\u001b[43mfoo1\u001b[49m)\n",
      "\u001b[1;31mAttributeError\u001b[0m: type object 'MyClassUpper' has no attribute 'foo1'"
     ]
    }
   ],
   "source": [
    "class AllUpperCaseAttributesMeta(type):\n",
    "    def __new__(cls, name, bases, dct):\n",
    "        new_dct = {}\n",
    "        for key, value in dct.items():\n",
    "            if not key.startswith('__'):\n",
    "                key = key.upper()\n",
    "            new_dct[key] = value\n",
    "        return super().__new__(cls, name, bases, new_dct)\n",
    "\n",
    "class MyClassUpper(metaclass=AllUpperCaseAttributesMeta):\n",
    "    FOO = 'bar'\n",
    "    BAR = 'baz'\n",
    "    foo1 = 'bar'\n",
    "\n",
    "print(MyClassUpper.FOO1)\n",
    "print(MyClassUpper.foo1) # this raises an error since the attribute name has been converted to upper-case"
   ]
  },
  {
   "cell_type": "markdown",
   "metadata": {},
   "source": [
    "## Singleton Pattern\n",
    "\n",
    "The Singleton pattern ensures a class has only one instance and provides a global point of access to it. This can be implemented using a metaclass."
   ]
  },
  {
   "cell_type": "code",
   "execution_count": null,
   "metadata": {},
   "outputs": [],
   "source": [
    "class SingletonMeta(type):\n",
    "    _instances = {}\n",
    "\n",
    "    def __call__(cls, *args, **kwargs):\n",
    "        if cls not in cls._instances:\n",
    "            cls._instances[cls] = super().__call__(*args, **kwargs)\n",
    "        return cls._instances[cls]\n",
    "\n",
    "class SingletonClass(metaclass=SingletonMeta):\n",
    "    def __init__(self, value):\n",
    "        self.value = value  \n",
    "\n",
    "# Both instances are actually the same\n",
    "instance1 = SingletonClass(10)\n",
    "instance2 = SingletonClass(20)\n",
    "\n",
    "print(instance1.value)  # Output: 10\n",
    "print(instance2.value)  # Output: 10\n",
    "print(instance1 is instance2)  # Output: True\n"
   ]
  },
  {
   "cell_type": "markdown",
   "metadata": {},
   "source": [
    "## Automatic Attribute Initialization\n",
    "\n",
    "You can use a metaclass to automatically initialize attributes based on keyword arguments."
   ]
  },
  {
   "cell_type": "code",
   "execution_count": null,
   "metadata": {},
   "outputs": [],
   "source": [
    "class AutoInitMeta(type):\n",
    "    def __call__(cls, *args, **kwargs):\n",
    "        instance = super().__call__(*args, **kwargs)\n",
    "        for key, value in kwargs.items():\n",
    "            setattr(instance, key, value)\n",
    "        return instance\n",
    "\n",
    "class AutoInitClass(metaclass=AutoInitMeta):\n",
    "    def __init__(self, *args, **kwargs):\n",
    "        self.initialized = True\n",
    "\n",
    "# Automatically initialize attributes\n",
    "obj = AutoInitClass(foo='bar', spam='eggs')\n",
    "\n",
    "print(obj.foo)          # Output: bar\n",
    "print(obj.spam)         # Output: eggs\n",
    "print(obj.initialized)  # Output: True"
   ]
  },
  {
   "cell_type": "markdown",
   "metadata": {},
   "source": [
    "## Method Injection\n",
    "\n",
    "You can use a metaclass to inject methods into a class."
   ]
  },
  {
   "cell_type": "code",
   "execution_count": null,
   "metadata": {},
   "outputs": [],
   "source": [
    "def injected_method(self):\n",
    "    return f\"This method was injected into {self.__class__.__name__}\"\n",
    "\n",
    "class MethodInjectionMeta(type):\n",
    "    def __new__(cls, name, bases, dct):\n",
    "        dct['injected_method'] = injected_method\n",
    "        return super().__new__(cls, name, bases, dct)\n",
    "\n",
    "class MyClassWithInjection(metaclass=MethodInjectionMeta):\n",
    "    pass\n",
    "\n",
    "obj = MyClassWithInjection()\n",
    "print(obj.injected_method())  # Output: This method was injected into MyClassWithInjection"
   ]
  },
  {
   "cell_type": "markdown",
   "metadata": {},
   "source": [
    "## Tracking Subclasses\n",
    "\n",
    "You can use a metaclass to automatically keep track of subclasses."
   ]
  },
  {
   "cell_type": "code",
   "execution_count": null,
   "metadata": {},
   "outputs": [],
   "source": [
    "class SubclassTrackerMeta(type):\n",
    "    def __init__(cls, name, bases, dct):\n",
    "        if not hasattr(cls, 'subclasses'):\n",
    "            cls.subclasses = []\n",
    "        else:\n",
    "            cls.subclasses.append(cls)\n",
    "        super().__init__(name, bases, dct)\n",
    "\n",
    "class Base(metaclass=SubclassTrackerMeta):\n",
    "    pass\n",
    "\n",
    "class SubClass1(Base):\n",
    "    pass\n",
    "\n",
    "class SubClass2(Base):\n",
    "    pass\n",
    "\n",
    "print(Base.subclasses)  # Output: [<class '__main__.SubClass1'>, <class '__main__.SubClass2'>]\n"
   ]
  },
  {
   "cell_type": "markdown",
   "metadata": {},
   "source": [
    "# Notes\n",
    "\n",
    "There are at least two ways you can change the process of class object creation:\n",
    "\n",
    "1. by using class decorators\n",
    "2. by explicitly specifying a metalcass\n",
    "\n",
    "A `metaclass` looks like a regular class, and the only exception is that it has to inherit a `type` class, because `type` classes have all the implementation that is required for our code to still work as expected. \n",
    "\n",
    "Here below `MyMeta` is the driving force behind new class object instantiation and also specifies how new class instances are created."
   ]
  },
  {
   "cell_type": "code",
   "execution_count": 1,
   "metadata": {},
   "outputs": [
    {
     "name": "stdout",
     "output_type": "stream",
     "text": [
      "Parent is called with args=('John', 35), kwargs={}\n"
     ]
    },
    {
     "data": {
      "text/plain": [
       "NoneType"
      ]
     },
     "execution_count": 1,
     "metadata": {},
     "output_type": "execute_result"
    }
   ],
   "source": [
    "class MyMeta(type):\n",
    "    def __call__(self, *args, **kwargs):\n",
    "        print(f'{self.__name__} is called'\n",
    "              f' with args={args}, kwargs={kwargs}')\n",
    "\n",
    "class Parent(metaclass=MyMeta):\n",
    "    def __new__(cls, name, age):\n",
    "        print('new is called')\n",
    "        return super().__new__(cls)\n",
    "\n",
    "    def __init__(self, name, age):\n",
    "        print('init is called')\n",
    "        self.name = name\n",
    "        self.age = age\n",
    "\n",
    "parent = Parent('John', 35)\n",
    "# Parent is called with args=('John', 35), kwargs={}\n",
    "type(parent)\n",
    "# NoneType"
   ]
  },
  {
   "cell_type": "markdown",
   "metadata": {},
   "source": [
    "`parent` holds nothing, because `MyMeta.__call__` just prints information and returns nothing. Explicitly, that is. Implicitly, that means that it returns `None`, which is of `NoneType`.\n",
    "\n",
    "Here below it is fixed:"
   ]
  },
  {
   "cell_type": "code",
   "execution_count": 2,
   "metadata": {},
   "outputs": [
    {
     "name": "stdout",
     "output_type": "stream",
     "text": [
      "Parent is calledwith args=('John', 35), kwargs={}\n",
      "metaclass calls __new__\n",
      "new is called\n",
      "metaclass calls __init__\n",
      "init is called\n"
     ]
    },
    {
     "data": {
      "text/plain": [
       "'<__main__.Parent object at 0x000002265CCA9DC0>'"
      ]
     },
     "execution_count": 2,
     "metadata": {},
     "output_type": "execute_result"
    }
   ],
   "source": [
    "class MyMeta(type):\n",
    "\n",
    "    def __call__(cls, *args, **kwargs):\n",
    "        print(f'{cls.__name__} is called'\n",
    "              f'with args={args}, kwargs={kwargs}')\n",
    "        print('metaclass calls __new__')\n",
    "        obj = cls.__new__(cls, *args, **kwargs)\n",
    "\n",
    "        if isinstance(obj, cls):\n",
    "            print('metaclass calls __init__')\n",
    "            cls.__init__(obj, *args, **kwargs)\n",
    "\n",
    "        return obj\n",
    "\n",
    "class Parent(metaclass=MyMeta):\n",
    "\n",
    "    def __new__(cls, name, age):\n",
    "        print('new is called')\n",
    "        return super().__new__(cls)\n",
    "\n",
    "    def __init__(self, name, age):\n",
    "        print('init is called')\n",
    "        self.name = name\n",
    "        self.age = age\n",
    "\n",
    "parent = Parent('John', 35)\n",
    "# Parent is called with args=('John', 35), kwargs={}\n",
    "# metaclass calls __new__\n",
    "# new is called\n",
    "# metaclass calls __init__\n",
    "# init is called\n",
    "\n",
    "type(parent)\n",
    "# Parent\n",
    "\n",
    "str(parent)\n",
    "# '<__main__.Parent object at 0x103d540a0>'"
   ]
  },
  {
   "cell_type": "markdown",
   "metadata": {},
   "source": [
    "## Class Methods\n",
    "\n",
    "They can be displayed by invoking the `dir` built-in function."
   ]
  },
  {
   "cell_type": "code",
   "execution_count": 3,
   "metadata": {},
   "outputs": [
    {
     "data": {
      "text/plain": [
       "['__class__',\n",
       " '__delattr__',\n",
       " '__dir__',\n",
       " '__doc__',\n",
       " '__eq__',\n",
       " '__format__',\n",
       " '__ge__',\n",
       " '__getattribute__',\n",
       " '__getstate__',\n",
       " '__gt__',\n",
       " '__hash__',\n",
       " '__init__',\n",
       " '__init_subclass__',\n",
       " '__le__',\n",
       " '__lt__',\n",
       " '__ne__',\n",
       " '__new__',\n",
       " '__reduce__',\n",
       " '__reduce_ex__',\n",
       " '__repr__',\n",
       " '__setattr__',\n",
       " '__sizeof__',\n",
       " '__str__',\n",
       " '__subclasshook__']"
      ]
     },
     "execution_count": 3,
     "metadata": {},
     "output_type": "execute_result"
    }
   ],
   "source": [
    "dir(object)"
   ]
  },
  {
   "cell_type": "code",
   "execution_count": 4,
   "metadata": {},
   "outputs": [
    {
     "data": {
      "text/plain": [
       "['__abstractmethods__',\n",
       " '__annotations__',\n",
       " '__base__',\n",
       " '__bases__',\n",
       " '__basicsize__',\n",
       " '__call__',\n",
       " '__class__',\n",
       " '__delattr__',\n",
       " '__dict__',\n",
       " '__dictoffset__',\n",
       " '__dir__',\n",
       " '__doc__',\n",
       " '__eq__',\n",
       " '__flags__',\n",
       " '__format__',\n",
       " '__ge__',\n",
       " '__getattribute__',\n",
       " '__getstate__',\n",
       " '__gt__',\n",
       " '__hash__',\n",
       " '__init__',\n",
       " '__init_subclass__',\n",
       " '__instancecheck__',\n",
       " '__itemsize__',\n",
       " '__le__',\n",
       " '__lt__',\n",
       " '__module__',\n",
       " '__mro__',\n",
       " '__name__',\n",
       " '__ne__',\n",
       " '__new__',\n",
       " '__or__',\n",
       " '__prepare__',\n",
       " '__qualname__',\n",
       " '__reduce__',\n",
       " '__reduce_ex__',\n",
       " '__repr__',\n",
       " '__ror__',\n",
       " '__setattr__',\n",
       " '__sizeof__',\n",
       " '__str__',\n",
       " '__subclasscheck__',\n",
       " '__subclasses__',\n",
       " '__subclasshook__',\n",
       " '__text_signature__',\n",
       " '__type_params__',\n",
       " '__weakrefoffset__',\n",
       " 'mro']"
      ]
     },
     "execution_count": 4,
     "metadata": {},
     "output_type": "execute_result"
    }
   ],
   "source": [
    "dir(type)"
   ]
  },
  {
   "cell_type": "markdown",
   "metadata": {},
   "source": [
    "# Playground\n",
    "\n",
    "- Methods to be checked:\n",
    "  - `__init__`\n",
    "  - `__call__`\n",
    "  - `__new__`\n",
    "- who calls who?"
   ]
  },
  {
   "cell_type": "code",
   "execution_count": null,
   "metadata": {},
   "outputs": [],
   "source": [
    "class Meta(type):\n",
    "    pass\n",
    "\n",
    "class MyClass(metaclass=Meta):\n",
    "    pass"
   ]
  }
 ],
 "metadata": {
  "kernelspec": {
   "display_name": "Python 3",
   "language": "python",
   "name": "python3"
  },
  "language_info": {
   "codemirror_mode": {
    "name": "ipython",
    "version": 3
   },
   "file_extension": ".py",
   "mimetype": "text/x-python",
   "name": "python",
   "nbconvert_exporter": "python",
   "pygments_lexer": "ipython3",
   "version": "3.12.3"
  }
 },
 "nbformat": 4,
 "nbformat_minor": 2
}
