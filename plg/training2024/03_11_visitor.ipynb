{
 "cells": [
  {
   "cell_type": "markdown",
   "metadata": {},
   "source": [
    "# Visitor\n",
    "\n",
    "The Visitor Pattern is a behavioral design pattern that allows you to add further operations to objects without having to modify them. It separates an algorithm from the objects on which it operates.\n",
    "\n",
    "Example: a hierarchy of elements and visitors that perform operations on these elements."
   ]
  },
  {
   "cell_type": "code",
   "execution_count": null,
   "metadata": {},
   "outputs": [],
   "source": [
    "# Element Interface\n",
    "\n",
    "from abc import ABC, abstractmethod\n",
    "\n",
    "class Shape(ABC):\n",
    "    @abstractmethod\n",
    "    def accept(self, visitor):\n",
    "        pass"
   ]
  },
  {
   "cell_type": "code",
   "execution_count": null,
   "metadata": {},
   "outputs": [],
   "source": [
    "# Concrete Elements\n",
    "\n",
    "class Circle(Shape):\n",
    "    def accept(self, visitor):\n",
    "        visitor.visit_circle(self)\n",
    "    \n",
    "    def draw(self):\n",
    "        return \"Drawing Circle\"\n",
    "    \n",
    "    def resize(self):\n",
    "        return \"Resizing Circle\"\n",
    "\n",
    "class Square(Shape):\n",
    "    def accept(self, visitor):\n",
    "        visitor.visit_square(self)\n",
    "    \n",
    "    def draw(self):\n",
    "        return \"Drawing Square\"\n",
    "    \n",
    "    def resize(self):\n",
    "        return \"Resizing Square\"\n",
    "\n",
    "class Rectangle(Shape):\n",
    "    def accept(self, visitor):\n",
    "        visitor.visit_rectangle(self)\n",
    "    \n",
    "    def draw(self):\n",
    "        return \"Drawing Rectangle\"\n",
    "    \n",
    "    def resize(self):\n",
    "        return \"Resizing Rectangle\""
   ]
  },
  {
   "cell_type": "code",
   "execution_count": null,
   "metadata": {},
   "outputs": [],
   "source": [
    "# Visitor Interface\n",
    "\n",
    "class ShapeVisitor(ABC):\n",
    "    @abstractmethod\n",
    "    def visit_circle(self, circle):\n",
    "        pass\n",
    "    \n",
    "    @abstractmethod\n",
    "    def visit_square(self, square):\n",
    "        pass\n",
    "    \n",
    "    @abstractmethod\n",
    "    def visit_rectangle(self, rectangle):\n",
    "        pass"
   ]
  },
  {
   "cell_type": "code",
   "execution_count": null,
   "metadata": {},
   "outputs": [],
   "source": [
    "# Concrete Visitors\n",
    "\n",
    "class DrawVisitor(ShapeVisitor):\n",
    "    def visit_circle(self, circle):\n",
    "        return circle.draw()\n",
    "    \n",
    "    def visit_square(self, square):\n",
    "        return square.draw()\n",
    "    \n",
    "    def visit_rectangle(self, rectangle):\n",
    "        return rectangle.draw()\n",
    "\n",
    "class ResizeVisitor(ShapeVisitor):\n",
    "    def visit_circle(self, circle):\n",
    "        return circle.resize()\n",
    "    \n",
    "    def visit_square(self, square):\n",
    "        return square.resize()\n",
    "    \n",
    "    def visit_rectangle(self, rectangle):\n",
    "        return rectangle.resize()"
   ]
  },
  {
   "cell_type": "code",
   "execution_count": null,
   "metadata": {},
   "outputs": [],
   "source": [
    "# Create shapes\n",
    "shapes = [Circle(), Square(), Rectangle()]\n",
    "\n",
    "# Create visitors\n",
    "draw_visitor = DrawVisitor()\n",
    "resize_visitor = ResizeVisitor()\n",
    "\n",
    "# Apply visitors to shapes\n",
    "for shape in shapes:\n",
    "    print(shape.accept(draw_visitor))\n",
    "    print(shape.accept(resize_visitor))"
   ]
  }
 ],
 "metadata": {
  "language_info": {
   "name": "python"
  }
 },
 "nbformat": 4,
 "nbformat_minor": 2
}
