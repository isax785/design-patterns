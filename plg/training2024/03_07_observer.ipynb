{
 "cells": [
  {
   "cell_type": "markdown",
   "metadata": {},
   "source": [
    "# Observer\n",
    "\n",
    "The Observer Pattern is a behavioral design pattern in which an object, called the subject, maintains a list of its dependents, called observers, and notifies them of any state changes, usually by calling one of their methods. It is mainly used to implement distributed event handling systems."
   ]
  },
  {
   "cell_type": "code",
   "execution_count": null,
   "metadata": {},
   "outputs": [],
   "source": [
    "# Observer Interface\n",
    "\n",
    "from abc import ABC, abstractmethod\n",
    "\n",
    "class Observer(ABC):\n",
    "    @abstractmethod\n",
    "    def update(self, temperature, humidity, pressure):\n",
    "        pass"
   ]
  },
  {
   "cell_type": "code",
   "execution_count": null,
   "metadata": {},
   "outputs": [],
   "source": [
    "# Subject Interface\n",
    "\n",
    "class Subject(ABC):\n",
    "    @abstractmethod\n",
    "    def register_observer(self, observer):\n",
    "        pass\n",
    "    \n",
    "    @abstractmethod\n",
    "    def remove_observer(self, observer):\n",
    "        pass\n",
    "    \n",
    "    @abstractmethod\n",
    "    def notify_observers(self):\n",
    "        pass"
   ]
  },
  {
   "cell_type": "code",
   "execution_count": null,
   "metadata": {},
   "outputs": [],
   "source": [
    "# Concrete Subject\n",
    "\n",
    "class WeatherData(Subject):\n",
    "    def __init__(self):\n",
    "        self.observers = []\n",
    "        self.temperature = 0.0\n",
    "        self.humidity = 0.0\n",
    "        self.pressure = 0.0\n",
    "    \n",
    "    def register_observer(self, observer):\n",
    "        self.observers.append(observer)\n",
    "    \n",
    "    def remove_observer(self, observer):\n",
    "        self.observers.remove(observer)\n",
    "    \n",
    "    def notify_observers(self):\n",
    "        for observer in self.observers:\n",
    "            observer.update(self.temperature, self.humidity, self.pressure)\n",
    "    \n",
    "    def measurements_changed(self):\n",
    "        self.notify_observers()\n",
    "    \n",
    "    def set_measurements(self, temperature, humidity, pressure):\n",
    "        self.temperature = temperature\n",
    "        self.humidity = humidity\n",
    "        self.pressure = pressure\n",
    "        self.measurements_changed()"
   ]
  },
  {
   "cell_type": "code",
   "execution_count": null,
   "metadata": {},
   "outputs": [],
   "source": [
    "# Concrete Observer\n",
    "\n",
    "class CurrentConditionsDisplay(Observer):\n",
    "    def __init__(self, weather_data):\n",
    "        self.temperature = 0.0\n",
    "        self.humidity = 0.0\n",
    "        self.weather_data = weather_data\n",
    "        weather_data.register_observer(self)\n",
    "    \n",
    "    def update(self, temperature, humidity, pressure):\n",
    "        self.temperature = temperature\n",
    "        self.humidity = humidity\n",
    "        self.display()\n",
    "    \n",
    "    def display(self):\n",
    "        print(f\"Current conditions: {self.temperature}F degrees and {self.humidity}% humidity\")"
   ]
  },
  {
   "cell_type": "code",
   "execution_count": null,
   "metadata": {},
   "outputs": [],
   "source": [
    "weather_data = WeatherData()\n",
    "\n",
    "current_display = CurrentConditionsDisplay(weather_data)\n",
    "\n",
    "weather_data.set_measurements(80, 65, 30.4)\n",
    "weather_data.set_measurements(82, 70, 29.2)\n",
    "weather_data.set_measurements(78, 90, 29.2)"
   ]
  }
 ],
 "metadata": {
  "language_info": {
   "name": "python"
  }
 },
 "nbformat": 4,
 "nbformat_minor": 2
}
