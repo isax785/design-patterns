{
 "cells": [
  {
   "cell_type": "markdown",
   "metadata": {},
   "source": [
    "# State\n",
    "\n",
    "The State pattern is a behavioral design pattern that allows an object to change its behavior when its internal state changes. It achieves this by using a context object whose behavior varies as its state object changes.\n",
    "\n",
    "Here's a comprehensive example of the State pattern implemented in Python:\n",
    "\n",
    "## Problem Statement\n",
    "\n",
    "Consider a TCP connection that can be in different states: `Closed`, `Listen`, and `Established`. Depending on the current state, the connection will handle actions such as opening, closing, and acknowledging differently."
   ]
  },
  {
   "cell_type": "code",
   "execution_count": null,
   "metadata": {},
   "outputs": [],
   "source": [
    "# State Interface\n",
    "\n",
    "from abc import ABC, abstractmethod\n",
    "\n",
    "class TCPState(ABC):\n",
    "    @abstractmethod\n",
    "    def open(self, context):\n",
    "        pass\n",
    "\n",
    "    @abstractmethod\n",
    "    def close(self, context):\n",
    "        pass\n",
    "\n",
    "    @abstractmethod\n",
    "    def acknowledge(self, context):\n",
    "        pass"
   ]
  },
  {
   "cell_type": "code",
   "execution_count": null,
   "metadata": {},
   "outputs": [],
   "source": [
    "# Concrete States\n",
    "\n",
    "class TCPOpen(TCPState):\n",
    "    def open(self, context):\n",
    "        print(\"TCP connection is already open.\")\n",
    "    \n",
    "    def close(self, context):\n",
    "        print(\"Closing TCP connection.\")\n",
    "        context.set_state(TCPClosed())\n",
    "    \n",
    "    def acknowledge(self, context):\n",
    "        print(\"Acknowledging data in TCP connection.\")\n",
    "\n",
    "class TCPClosed(TCPState):\n",
    "    def open(self, context):\n",
    "        print(\"Opening TCP connection.\")\n",
    "        context.set_state(TCPListen())\n",
    "    \n",
    "    def close(self, context):\n",
    "        print(\"TCP connection is already closed.\")\n",
    "    \n",
    "    def acknowledge(self, context):\n",
    "        print(\"Can't acknowledge, TCP connection is closed.\")\n",
    "\n",
    "class TCPListen(TCPState):\n",
    "    def open(self, context):\n",
    "        print(\"TCP connection is already open and listening.\")\n",
    "    \n",
    "    def close(self, context):\n",
    "        print(\"Closing TCP connection from listening state.\")\n",
    "        context.set_state(TCPClosed())\n",
    "    \n",
    "    def acknowledge(self, context):\n",
    "        print(\"Acknowledging data in TCP connection from listening state.\")\n",
    "        context.set_state(TCPOpen())"
   ]
  },
  {
   "cell_type": "code",
   "execution_count": null,
   "metadata": {},
   "outputs": [],
   "source": [
    "# Context\n",
    "\n",
    "class TCPConnection:\n",
    "    def __init__(self):\n",
    "        self.state = TCPClosed()  # Default state\n",
    "    \n",
    "    def set_state(self, state):\n",
    "        self.state = state\n",
    "    \n",
    "    def open(self):\n",
    "        self.state.open(self)\n",
    "    \n",
    "    def close(self):\n",
    "        self.state.close(self)\n",
    "    \n",
    "    def acknowledge(self):\n",
    "        self.state.acknowledge(self)"
   ]
  },
  {
   "cell_type": "code",
   "execution_count": null,
   "metadata": {},
   "outputs": [],
   "source": [
    "connection = TCPConnection()\n",
    "\n",
    "# Opening the connection\n",
    "connection.open()          # Output: Opening TCP connection.\n",
    "connection.acknowledge()   # Output: Acknowledging data in TCP connection from listening state.\n",
    "\n",
    "# Closing the connection\n",
    "connection.close()         # Output: Closing TCP connection.\n",
    "connection.acknowledge()   # Output: Can't acknowledge, TCP connection is closed.\n",
    "\n",
    "# Reopen the connection\n",
    "connection.open()          # Output: Opening TCP connection.\n",
    "connection.open()          # Output: TCP connection is already open.\n",
    "connection.acknowledge()   # Output: Acknowledging data in TCP connection.\n",
    "connection.close()         # Output: Closing TCP connection."
   ]
  }
 ],
 "metadata": {
  "language_info": {
   "name": "python"
  }
 },
 "nbformat": 4,
 "nbformat_minor": 2
}
