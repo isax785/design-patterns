{
 "cells": [
  {
   "cell_type": "markdown",
   "metadata": {},
   "source": [
    "# Factory Method\n",
    "\n",
    "The Factory Method design pattern is a creational pattern that provides an interface for creating objects in a superclass, but allows subclasses to alter the type of objects that will be created. This pattern delegates the responsibility of object instantiation to subclasses.\n",
    "\n",
    "![](../src/slides/img_md/Pasted%20image%2020240610121408.png)\n",
    "\n",
    "In this example, we will create a product that can be either a `Car` or a `Bike`. The `VehicleFactory` class will define the factory method, which subclasses will override to instantiate specific products."
   ]
  },
  {
   "cell_type": "code",
   "execution_count": 1,
   "metadata": {},
   "outputs": [
    {
     "name": "stdout",
     "output_type": "stream",
     "text": [
      "Car is driving\n",
      "Bike is driving\n"
     ]
    }
   ],
   "source": [
    "from abc import ABC, abstractmethod\n",
    "\n",
    "# Product interface\n",
    "class Vehicle(ABC):\n",
    "    @abstractmethod\n",
    "    def drive(self):\n",
    "        pass\n",
    "\n",
    "# Concrete Products\n",
    "class Car(Vehicle):\n",
    "    def drive(self):\n",
    "        return \"Car is driving\"\n",
    "\n",
    "class Bike(Vehicle):\n",
    "    def drive(self):\n",
    "        return \"Bike is driving\"\n",
    "\n",
    "# Creator class with the factory method\n",
    "class VehicleFactory(ABC):\n",
    "    @abstractmethod\n",
    "    def create_vehicle(self):\n",
    "        pass\n",
    "\n",
    "    def deliver_vehicle(self):\n",
    "        vehicle = self.create_vehicle()\n",
    "        return vehicle.drive()\n",
    "\n",
    "# Concrete Creators\n",
    "class CarFactory(VehicleFactory):\n",
    "    def create_vehicle(self):\n",
    "        return Car()\n",
    "\n",
    "class BikeFactory(VehicleFactory):\n",
    "    def create_vehicle(self):\n",
    "        return Bike()\n",
    "\n",
    "# Client code\n",
    "def main():\n",
    "    for factory in (CarFactory(), BikeFactory()):\n",
    "        print(factory.deliver_vehicle())\n",
    "\n",
    "main()"
   ]
  },
  {
   "cell_type": "markdown",
   "metadata": {},
   "source": [
    "## vs Abstract Factory\n",
    "\n",
    "|            | `Abstract Factory`                                                                                                                                           | `Factory Method`                                                                                                                                |\n",
    "| ---------- | ------------------------------------------------------------------------------------------------------------------------------------------------------------ | ----------------------------------------------------------------------------------------------------------------------------------------------- |\n",
    "| Purpose    | Provides an interface for creating families of related or dependent objects without specifying their concrete classes.                                       | Provides an interface for creating an instance of a class, but allows subclasses to alter the type of objects that will be created.             |\n",
    "| Structure  | Involves multiple factory methods to create a variety of related objects, grouped together into families.                                                    | Involves a single method in a base class that is overridden by subclasses to create objects.                                                    |\n",
    "| Focus      | Focuses on creating a family of related products.                                                                                                            | Focuses on creating a single product.                                                                                                           |\n",
    "| Complexity | More complex as it involves multiple factory methods and interfaces for different product types.                                                             | Simpler in structure and usually deals with one level of inheritance.                                                                           |\n",
    "| Use Case   | Used when a system must be independent of the way its products are created, or when a system should be configured with one of multiple families of products. | Used when a class cannot anticipate the class of objects it must create or when a class wants its subclasses to specify the objects it creates. |"
   ]
  },
  {
   "cell_type": "code",
   "execution_count": 3,
   "metadata": {},
   "outputs": [
    {
     "name": "stdout",
     "output_type": "stream",
     "text": [
      "Sports Car is driving\n",
      "Sports Bike is riding\n",
      "Family Car is driving\n",
      "Family Bike is riding\n"
     ]
    }
   ],
   "source": [
    "from abc import ABC, abstractmethod\n",
    "\n",
    "# Abstract Product Interfaces\n",
    "class Car(ABC):\n",
    "    @abstractmethod\n",
    "    def drive(self):\n",
    "        pass\n",
    "\n",
    "class Bike(ABC):\n",
    "    @abstractmethod\n",
    "    def ride(self):\n",
    "        pass\n",
    "\n",
    "# Concrete Products for Family 1\n",
    "class SportsCar(Car):\n",
    "    def drive(self):\n",
    "        return \"Sports Car is driving\"\n",
    "\n",
    "class SportsBike(Bike):\n",
    "    def ride(self):\n",
    "        return \"Sports Bike is riding\"\n",
    "\n",
    "# Concrete Products for Family 2\n",
    "class FamilyCar(Car):\n",
    "    def drive(self):\n",
    "        return \"Family Car is driving\"\n",
    "\n",
    "class FamilyBike(Bike):\n",
    "    def ride(self):\n",
    "        return \"Family Bike is riding\"\n",
    "\n",
    "# Abstract Factory Interface\n",
    "class VehicleFactory(ABC):\n",
    "    @abstractmethod\n",
    "    def create_car(self):\n",
    "        pass\n",
    "\n",
    "    @abstractmethod\n",
    "    def create_bike(self):\n",
    "        pass\n",
    "\n",
    "# Concrete Factory for Family 1\n",
    "class SportsVehicleFactory(VehicleFactory):\n",
    "    def create_car(self):\n",
    "        return SportsCar()\n",
    "\n",
    "    def create_bike(self):\n",
    "        return SportsBike()\n",
    "\n",
    "# Concrete Factory for Family 2\n",
    "class FamilyVehicleFactory(VehicleFactory):\n",
    "    def create_car(self):\n",
    "        return FamilyCar()\n",
    "\n",
    "    def create_bike(self):\n",
    "        return FamilyBike()\n",
    "\n",
    "# Client code\n",
    "def main(factory: VehicleFactory):\n",
    "    car = factory.create_car()\n",
    "    bike = factory.create_bike()\n",
    "    print(car.drive())\n",
    "    print(bike.ride())\n",
    "\n",
    "for factory in (SportsVehicleFactory(), FamilyVehicleFactory()):\n",
    "    main(factory)"
   ]
  }
 ],
 "metadata": {
  "kernelspec": {
   "display_name": "Python 3",
   "language": "python",
   "name": "python3"
  },
  "language_info": {
   "codemirror_mode": {
    "name": "ipython",
    "version": 3
   },
   "file_extension": ".py",
   "mimetype": "text/x-python",
   "name": "python",
   "nbconvert_exporter": "python",
   "pygments_lexer": "ipython3",
   "version": "3.12.3"
  }
 },
 "nbformat": 4,
 "nbformat_minor": 2
}
