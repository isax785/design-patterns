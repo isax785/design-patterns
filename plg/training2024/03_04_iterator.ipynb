{
 "cells": [
  {
   "cell_type": "markdown",
   "metadata": {},
   "source": [
    "# Iterator\n",
    "\n",
    "The Iterator Pattern is a design pattern in the category of Behavioral patterns. It allows you to traverse the elements of a collection without exposing the underlying representation. Below is a comprehensive example of the Iterator Pattern implemented in Python.\n",
    "\n",
    "We'll create a collection class called `BookCollection` and an iterator class called `BookIterator`."
   ]
  },
  {
   "cell_type": "code",
   "execution_count": null,
   "metadata": {},
   "outputs": [],
   "source": [
    "class Book:\n",
    "    def __init__(self, title, author):\n",
    "        self.title = title\n",
    "        self.author = author\n",
    "\n",
    "    def __str__(self):\n",
    "        return f\"{self.title} by {self.author}\"\n",
    "\n",
    "class BookCollection:\n",
    "    def __init__(self):\n",
    "        self._books = []\n",
    "\n",
    "    def add_book(self, book):\n",
    "        self._books.append(book)\n",
    "\n",
    "    def __iter__(self):\n",
    "        return BookIterator(self._books)\n",
    "\n",
    "class BookIterator:\n",
    "    def __init__(self, books):\n",
    "        self._books = books\n",
    "        self._index = 0\n",
    "\n",
    "    def __iter__(self):\n",
    "        return self\n",
    "\n",
    "    def __next__(self):\n",
    "        if self._index < len(self._books):\n",
    "            book = self._books[self._index]\n",
    "            self._index += 1\n",
    "            return book\n",
    "        else:\n",
    "            raise StopIteration\n",
    "\n",
    "# Example usage\n",
    "if __name__ == \"__main__\":\n",
    "    book1 = Book(\"1984\", \"George Orwell\")\n",
    "    book2 = Book(\"To Kill a Mockingbird\", \"Harper Lee\")\n",
    "    book3 = Book(\"The Great Gatsby\", \"F. Scott Fitzgerald\")\n",
    "\n",
    "    collection = BookCollection()\n",
    "    collection.add_book(book1)\n",
    "    collection.add_book(book2)\n",
    "    collection.add_book(book3)\n",
    "\n",
    "    for book in collection:\n",
    "        print(book)"
   ]
  }
 ],
 "metadata": {
  "language_info": {
   "name": "python"
  }
 },
 "nbformat": 4,
 "nbformat_minor": 2
}
