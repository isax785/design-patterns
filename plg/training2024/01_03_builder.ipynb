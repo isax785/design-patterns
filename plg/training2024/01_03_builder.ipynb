{
 "cells": [
  {
   "cell_type": "markdown",
   "metadata": {},
   "source": [
    "# Builder\n",
    "\n",
    "Implementation of the `Builder` design pattern to construct a **House** object with various attributes.\n",
    "\n",
    "![](../src/slides/img_md/Pasted%20image%2020240606093624.png)\n",
    "\n",
    "The example demostrates the separation of the construction of a complex object from its representation.\n",
    "\n",
    "The implementation ensures that the construction process is flexible and can easily be extended to build different types of houses by defining new concrete builders."
   ]
  },
  {
   "cell_type": "markdown",
   "metadata": {},
   "source": [
    "First of all, let's define the `Product`:"
   ]
  },
  {
   "cell_type": "code",
   "execution_count": 1,
   "metadata": {},
   "outputs": [],
   "source": [
    "class House:\n",
    "    def __init__(self):\n",
    "        self.foundation = None\n",
    "        self.structure = None\n",
    "        self.roof = None\n",
    "        self.interior = None\n",
    "\n",
    "    def __str__(self):\n",
    "        return f\"House with {self.foundation} foundation, {self.structure} structure, {self.roof} roof, and {self.interior} interior\""
   ]
  },
  {
   "cell_type": "markdown",
   "metadata": {},
   "source": [
    "Then, the `Builder` interface:"
   ]
  },
  {
   "cell_type": "code",
   "execution_count": 2,
   "metadata": {},
   "outputs": [],
   "source": [
    "from abc import ABC, abstractmethod\n",
    "\n",
    "class HouseBuilder(ABC):\n",
    "    @abstractmethod\n",
    "    def build_foundation(self):\n",
    "        pass\n",
    "\n",
    "    @abstractmethod\n",
    "    def build_structure(self):\n",
    "        pass\n",
    "\n",
    "    @abstractmethod\n",
    "    def build_roof(self):\n",
    "        pass\n",
    "\n",
    "    @abstractmethod\n",
    "    def build_interior(self):\n",
    "        pass\n",
    "\n",
    "    @abstractmethod\n",
    "    def get_house(self):\n",
    "        pass"
   ]
  },
  {
   "cell_type": "markdown",
   "metadata": {},
   "source": [
    "Now, `ConcreteBuilder`s:"
   ]
  },
  {
   "cell_type": "code",
   "execution_count": 3,
   "metadata": {},
   "outputs": [],
   "source": [
    "class ConcreteHouseBuilder(HouseBuilder):\n",
    "    def __init__(self):\n",
    "        self.house = House()\n",
    "\n",
    "    def build_foundation(self):\n",
    "        self.house.foundation = \"Concrete\"\n",
    "\n",
    "    def build_structure(self):\n",
    "        self.house.structure = \"Wood and Brick\"\n",
    "\n",
    "    def build_roof(self):\n",
    "        self.house.roof = \"Tile\"\n",
    "\n",
    "    def build_interior(self):\n",
    "        self.house.interior = \"Drywall and Paint\"\n",
    "\n",
    "    def get_house(self):\n",
    "        return self.house"
   ]
  },
  {
   "cell_type": "markdown",
   "metadata": {},
   "source": [
    "Definition of the `Director`:"
   ]
  },
  {
   "cell_type": "code",
   "execution_count": 4,
   "metadata": {},
   "outputs": [],
   "source": [
    "class HouseDirector:\n",
    "    def __init__(self, builder: HouseBuilder):\n",
    "        self.builder = builder\n",
    "\n",
    "    def construct_house(self):\n",
    "        self.builder.build_foundation()\n",
    "        self.builder.build_structure()\n",
    "        self.builder.build_roof()\n",
    "        self.builder.build_interior()"
   ]
  },
  {
   "cell_type": "code",
   "execution_count": 5,
   "metadata": {},
   "outputs": [
    {
     "name": "stdout",
     "output_type": "stream",
     "text": [
      "House with Concrete foundation, Wood and Brick structure, Tile roof, and Drywall and Paint interior\n"
     ]
    }
   ],
   "source": [
    "def main():\n",
    "    builder = ConcreteHouseBuilder()\n",
    "    director = HouseDirector(builder)\n",
    "    director.construct_house()\n",
    "    house = builder.get_house()\n",
    "    print(house)\n",
    "\n",
    "if __name__ == \"__main__\":\n",
    "    main()"
   ]
  }
 ],
 "metadata": {
  "kernelspec": {
   "display_name": "Python 3",
   "language": "python",
   "name": "python3"
  },
  "language_info": {
   "codemirror_mode": {
    "name": "ipython",
    "version": 3
   },
   "file_extension": ".py",
   "mimetype": "text/x-python",
   "name": "python",
   "nbconvert_exporter": "python",
   "pygments_lexer": "ipython3",
   "version": "3.12.3"
  }
 },
 "nbformat": 4,
 "nbformat_minor": 2
}
