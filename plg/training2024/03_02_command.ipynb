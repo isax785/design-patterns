{
 "cells": [
  {
   "cell_type": "markdown",
   "metadata": {},
   "source": [
    "# Command\n",
    "\n",
    "The Command pattern is a behavioral design pattern that turns a request into a stand-alone object that contains all information about the request. This transformation allows for parameterizing methods with different requests, queuing requests, and logging the requests. It also provides support for undoable operations."
   ]
  },
  {
   "cell_type": "code",
   "execution_count": 2,
   "metadata": {},
   "outputs": [],
   "source": [
    "# Command Interface\n",
    "from abc import ABC, abstractmethod\n",
    "\n",
    "class Command(ABC):\n",
    "    @abstractmethod\n",
    "    def execute(self):\n",
    "        pass\n",
    "    \n",
    "    @abstractmethod\n",
    "    def undo(self):\n",
    "        pass"
   ]
  },
  {
   "cell_type": "code",
   "execution_count": 3,
   "metadata": {},
   "outputs": [],
   "source": [
    "# Concrete Command\n",
    " \n",
    "class InsertTextCommand(Command):\n",
    "    def __init__(self, document, text, position):\n",
    "        self.document = document\n",
    "        self.text = text\n",
    "        self.position = position\n",
    "\n",
    "    def execute(self):\n",
    "        self.document.insert_text(self.text, self.position)\n",
    "\n",
    "    def undo(self):\n",
    "        self.document.delete_text(self.position, len(self.text))\n",
    "\n",
    "class DeleteTextCommand(Command):\n",
    "    def __init__(self, document, position, length):\n",
    "        self.document = document\n",
    "        self.position = position\n",
    "        self.length = length\n",
    "        self.deleted_text = \"\"\n",
    "\n",
    "    def execute(self):\n",
    "        self.deleted_text = self.document.delete_text(self.position, self.length)\n",
    "\n",
    "    def undo(self):\n",
    "        self.document.insert_text(self.deleted_text, self.position)"
   ]
  },
  {
   "cell_type": "code",
   "execution_count": 4,
   "metadata": {},
   "outputs": [],
   "source": [
    "# Receiver\n",
    "class Document:\n",
    "    def __init__(self):\n",
    "        self.content = \"\"\n",
    "\n",
    "    def insert_text(self, text, position):\n",
    "        self.content = self.content[:position] + text + self.content[position:]\n",
    "\n",
    "    def delete_text(self, position, length):\n",
    "        deleted_text = self.content[position:position + length]\n",
    "        self.content = self.content[:position] + self.content[position + length:]\n",
    "        return deleted_text\n",
    "\n",
    "    def __str__(self):\n",
    "        return self.content"
   ]
  },
  {
   "cell_type": "code",
   "execution_count": 5,
   "metadata": {},
   "outputs": [],
   "source": [
    "# Invoker\n",
    "class TextEditor:\n",
    "    def __init__(self):\n",
    "        self.document = Document()\n",
    "        self.history = []\n",
    "        self.undo_stack = []\n",
    "\n",
    "    def execute_command(self, command):\n",
    "        command.execute()\n",
    "        self.history.append(command)\n",
    "        self.undo_stack.clear()  # Clear the redo stack\n",
    "\n",
    "    def undo(self):\n",
    "        if not self.history:\n",
    "            return\n",
    "        command = self.history.pop()\n",
    "        command.undo()\n",
    "        self.undo_stack.append(command)\n",
    "\n",
    "    def redo(self):\n",
    "        if not self.undo_stack:\n",
    "            return\n",
    "        command = self.undo_stack.pop()\n",
    "        command.execute()\n",
    "        self.history.append(command)\n",
    "\n",
    "    def show_document(self):\n",
    "        print(self.document)"
   ]
  },
  {
   "cell_type": "code",
   "execution_count": 6,
   "metadata": {},
   "outputs": [],
   "source": [
    "# Client\n",
    " \n",
    "editor = TextEditor()"
   ]
  },
  {
   "cell_type": "code",
   "execution_count": 7,
   "metadata": {},
   "outputs": [],
   "source": [
    "def editor_stacks():\n",
    "    print(\"Undo:\", editor.undo_stack)\n",
    "    print(\"History:\", editor.history)"
   ]
  },
  {
   "cell_type": "code",
   "execution_count": 8,
   "metadata": {},
   "outputs": [
    {
     "name": "stdout",
     "output_type": "stream",
     "text": [
      "Hello\n",
      "Undo: []\n",
      "History: [<__main__.InsertTextCommand object at 0x000001FDA3402D50>]\n",
      "Hello World\n",
      "Undo: []\n",
      "History: [<__main__.InsertTextCommand object at 0x000001FDA3402D50>, <__main__.InsertTextCommand object at 0x000001FDA32D1130>]\n",
      "Hello\n",
      "Undo: [<__main__.InsertTextCommand object at 0x000001FDA32D1130>]\n",
      "History: [<__main__.InsertTextCommand object at 0x000001FDA3402D50>]\n",
      "Hello World\n",
      "Undo: []\n",
      "History: [<__main__.InsertTextCommand object at 0x000001FDA3402D50>, <__main__.InsertTextCommand object at 0x000001FDA32D1130>]\n",
      "Hello\n",
      "Undo: []\n",
      "History: [<__main__.InsertTextCommand object at 0x000001FDA3402D50>, <__main__.InsertTextCommand object at 0x000001FDA32D1130>, <__main__.DeleteTextCommand object at 0x000001FDA3403FB0>]\n",
      "Hello World\n",
      "Undo: [<__main__.DeleteTextCommand object at 0x000001FDA3403FB0>]\n",
      "History: [<__main__.InsertTextCommand object at 0x000001FDA3402D50>, <__main__.InsertTextCommand object at 0x000001FDA32D1130>]\n"
     ]
    }
   ],
   "source": [
    "# Insert \"Hello\" at position 0\n",
    "editor.execute_command(InsertTextCommand(editor.document, \"Hello\", 0))\n",
    "editor.show_document()  # Output: Hello\n",
    "editor_stacks()\n",
    "\n",
    "# Insert \" World\" at position 5\n",
    "editor.execute_command(InsertTextCommand(editor.document, \" World\", 5))\n",
    "editor.show_document()  # Output: Hello World\n",
    "editor_stacks()\n",
    "\n",
    "# Undo last command (deletes \" World\")\n",
    "editor.undo()\n",
    "editor.show_document()  # Output: Hello\n",
    "editor_stacks()\n",
    "\n",
    "# Redo last undone command (re-inserts \" World\")\n",
    "editor.redo()\n",
    "editor.show_document()  # Output: Hello World\n",
    "editor_stacks()\n",
    "\n",
    "# Delete \" World\" from position 5\n",
    "editor.execute_command(DeleteTextCommand(editor.document, 5, 6))\n",
    "editor.show_document()  # Output: Hello\n",
    "editor_stacks()\n",
    "\n",
    "# Undo last command (re-inserts \" World\")\n",
    "editor.undo()\n",
    "editor.show_document()  # Output: Hello World\n",
    "editor_stacks()\n"
   ]
  }
 ],
 "metadata": {
  "kernelspec": {
   "display_name": "Python 3",
   "language": "python",
   "name": "python3"
  },
  "language_info": {
   "codemirror_mode": {
    "name": "ipython",
    "version": 3
   },
   "file_extension": ".py",
   "mimetype": "text/x-python",
   "name": "python",
   "nbconvert_exporter": "python",
   "pygments_lexer": "ipython3",
   "version": "3.12.3"
  }
 },
 "nbformat": 4,
 "nbformat_minor": 2
}
