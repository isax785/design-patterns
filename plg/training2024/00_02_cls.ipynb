{
 "cells": [
  {
   "cell_type": "markdown",
   "metadata": {},
   "source": [
    "# `cls` Argument\n",
    "\n",
    "In Python, the `cls` argument is provided to methods that are intended to <u>operate on the class itself</u>, rather than on instances of the class. These methods are typically known as class methods. The `cls` argument is analogous to the `self` argument, which is used in instance methods to refer to the instance. \n",
    "\n",
    "The main scenarios where the cls argument is used are:\n",
    "\n",
    "- Class methods: Defined with @`classmethod`, they take `cls` as their first parameter and can modify class-level attributes.\n",
    "- Metaclass methods: Methods within a metaclass that use `cls` to refer to the class being created.\n",
    "- Alternate constructors: Special class methods that provide different ways to create instances of the class."
   ]
  },
  {
   "cell_type": "markdown",
   "metadata": {},
   "source": [
    "## Class Methods\n",
    "\n",
    "Class methods are defined using the `@classmethod` decorator. The first parameter of a class method is always `cls`, which refers to the class that the method is called on. This allows the method to access and modify class-level attributes."
   ]
  },
  {
   "cell_type": "code",
   "execution_count": 1,
   "metadata": {},
   "outputs": [
    {
     "name": "stdout",
     "output_type": "stream",
     "text": [
      "1\n"
     ]
    }
   ],
   "source": [
    "class MyClass:\n",
    "    class_attribute = 0\n",
    "\n",
    "    @classmethod\n",
    "    def increment_class_attribute(cls):\n",
    "        cls.class_attribute += 1\n",
    "\n",
    "# Call class method\n",
    "MyClass.increment_class_attribute()\n",
    "print(MyClass.class_attribute)  # Output: 1"
   ]
  },
  {
   "cell_type": "markdown",
   "metadata": {},
   "source": [
    "## Metaclass Methods\n",
    "\n",
    "When defining methods within a metaclass, `cls` refers to the class being created by the metaclass. This is similar to how self works for instance methods."
   ]
  },
  {
   "cell_type": "code",
   "execution_count": 2,
   "metadata": {},
   "outputs": [
    {
     "name": "stdout",
     "output_type": "stream",
     "text": [
      "Creating class MyClass with metaclass MyMeta\n",
      "Bases: ()\n",
      "Dict: {'__module__': '__main__', '__qualname__': 'MyClass'}\n"
     ]
    }
   ],
   "source": [
    "class MyMeta(type):\n",
    "    def __new__(cls, name, bases, dct):\n",
    "        print(f\"Creating class {name} with metaclass {cls.__name__}\")\n",
    "        print(f\"Bases: {bases}\")\n",
    "        print(f\"Dict: {dct}\")\n",
    "        return super().__new__(cls, name, bases, dct)\n",
    "\n",
    "# Using the metaclass\n",
    "class MyClass(metaclass=MyMeta):\n",
    "    pass\n",
    "# Output: Creating class MyClass with metaclass MyMeta"
   ]
  },
  {
   "cell_type": "markdown",
   "metadata": {},
   "source": [
    "## Alternate Constructors\n",
    "\n",
    "Alternate constructors are additional methods that create instances of the class in different ways. They are usually marked with the `@classmethod` decorator."
   ]
  },
  {
   "cell_type": "code",
   "execution_count": 3,
   "metadata": {},
   "outputs": [
    {
     "name": "stdout",
     "output_type": "stream",
     "text": [
      "10\n"
     ]
    }
   ],
   "source": [
    "class MyClass:\n",
    "    def __init__(self, value):\n",
    "        self.value = value\n",
    "\n",
    "    @classmethod\n",
    "    def from_other_format(cls, other_format_value):\n",
    "        # Convert other_format_value to the required format\n",
    "        value = some_conversion(other_format_value)\n",
    "        return cls(value)\n",
    "\n",
    "def some_conversion(value):\n",
    "    return int(value) * 2\n",
    "\n",
    "# Create an instance using the alternate constructor\n",
    "obj = MyClass.from_other_format('5')\n",
    "print(obj.value)  # Output: 10"
   ]
  }
 ],
 "metadata": {
  "kernelspec": {
   "display_name": "Python 3",
   "language": "python",
   "name": "python3"
  },
  "language_info": {
   "codemirror_mode": {
    "name": "ipython",
    "version": 3
   },
   "file_extension": ".py",
   "mimetype": "text/x-python",
   "name": "python",
   "nbconvert_exporter": "python",
   "pygments_lexer": "ipython3",
   "version": "3.12.3"
  }
 },
 "nbformat": 4,
 "nbformat_minor": 2
}
