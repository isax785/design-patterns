{
 "cells": [
  {
   "cell_type": "markdown",
   "metadata": {},
   "source": [
    "# Template Method\n",
    "\n",
    "The Template Method Pattern is a behavioral design pattern that defines the skeleton of an algorithm in a method, deferring some steps to subclasses. It allows subclasses to redefine certain steps of an algorithm without changing the algorithm's structure.\n",
    "\n",
    "Example: a process for making different types of beverages."
   ]
  },
  {
   "cell_type": "code",
   "execution_count": null,
   "metadata": {},
   "outputs": [],
   "source": [
    "# Abstract Class\n",
    "\n",
    "from abc import ABC, abstractmethod\n",
    "\n",
    "class Beverage(ABC):\n",
    "    def prepare_beverage(self):\n",
    "        \"\"\"The template method defines the skeleton of the algorithm.\"\"\"\n",
    "        self.boil_water()\n",
    "        self.brew()\n",
    "        self.pour_in_cup()\n",
    "        self.add_condiments()\n",
    "    \n",
    "    def boil_water(self):\n",
    "        \"\"\"Common step for boiling water.\"\"\"\n",
    "        print(\"Boiling water\")\n",
    "\n",
    "    @abstractmethod\n",
    "    def brew(self):\n",
    "        \"\"\"Step to be defined by subclasses.\"\"\"\n",
    "        pass\n",
    "\n",
    "    def pour_in_cup(self):\n",
    "        \"\"\"Common step for pouring into cup.\"\"\"\n",
    "        print(\"Pouring into cup\")\n",
    "\n",
    "    @abstractmethod\n",
    "    def add_condiments(self):\n",
    "        \"\"\"Step to be defined by subclasses.\"\"\"\n",
    "        pass"
   ]
  },
  {
   "cell_type": "code",
   "execution_count": null,
   "metadata": {},
   "outputs": [],
   "source": [
    "# Concrete Classes\n",
    "\n",
    "class Tea(Beverage):\n",
    "    def brew(self):\n",
    "        \"\"\"Specific implementation for brewing tea.\"\"\"\n",
    "        print(\"Steeping the tea\")\n",
    "\n",
    "    def add_condiments(self):\n",
    "        \"\"\"Specific implementation for adding condiments to tea.\"\"\"\n",
    "        print(\"Adding lemon\")\n",
    "\n",
    "class Coffee(Beverage):\n",
    "    def brew(self):\n",
    "        \"\"\"Specific implementation for brewing coffee.\"\"\"\n",
    "        print(\"Dripping coffee through filter\")\n",
    "\n",
    "    def add_condiments(self):\n",
    "        \"\"\"Specific implementation for adding condiments to coffee.\"\"\"\n",
    "        print(\"Adding sugar and milk\")"
   ]
  },
  {
   "cell_type": "code",
   "execution_count": null,
   "metadata": {},
   "outputs": [],
   "source": [
    "def prepare_beverage(beverage: Beverage):\n",
    "    beverage.prepare_beverage()\n",
    "\n",
    "print(\"Preparing tea...\")\n",
    "tea = Tea()\n",
    "prepare_beverage(tea)\n",
    "\n",
    "print(\"\\nPreparing coffee...\")\n",
    "coffee = Coffee()\n",
    "prepare_beverage(coffee)"
   ]
  }
 ],
 "metadata": {
  "language_info": {
   "name": "python"
  }
 },
 "nbformat": 4,
 "nbformat_minor": 2
}
