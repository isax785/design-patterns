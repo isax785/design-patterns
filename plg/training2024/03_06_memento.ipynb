{
 "cells": [
  {
   "cell_type": "markdown",
   "metadata": {},
   "source": [
    "# Memento\n",
    "\n",
    "The Memento pattern is a behavioral design pattern that allows an object to save and restore its state without exposing its internal details. This pattern is useful for implementing undo/redo functionality in applications.\n",
    "\n",
    "Example: **Text Editor with Undo Functionality**"
   ]
  },
  {
   "cell_type": "code",
   "execution_count": null,
   "metadata": {},
   "outputs": [],
   "source": [
    "# Memento Class\n",
    "\n",
    "class Memento:\n",
    "    def __init__(self, state: str):\n",
    "        self._state = state\n",
    "\n",
    "    def get_state(self) -> str:\n",
    "        return self._state"
   ]
  },
  {
   "cell_type": "code",
   "execution_count": null,
   "metadata": {},
   "outputs": [],
   "source": [
    "# Editor\n",
    "\n",
    "class Editor:\n",
    "    def __init__(self):\n",
    "        self._content = \"\"\n",
    "\n",
    "    def type(self, words: str):\n",
    "        self._content += words\n",
    "\n",
    "    def get_content(self) -> str:\n",
    "        return self._content\n",
    "\n",
    "    def save(self) -> Memento:\n",
    "        return Memento(self._content)\n",
    "\n",
    "    def restore(self, memento: Memento):\n",
    "        self._content = memento.get_state()"
   ]
  },
  {
   "cell_type": "code",
   "execution_count": null,
   "metadata": {},
   "outputs": [],
   "source": [
    "# Caretaker\n",
    "\n",
    "class History:\n",
    "    def __init__(self):\n",
    "        self._mementos = []\n",
    "\n",
    "    def push(self, memento: Memento):\n",
    "        self._mementos.append(memento)\n",
    "\n",
    "    def pop(self) -> Memento:\n",
    "        if not self._mementos:\n",
    "            return None\n",
    "        return self._mementos.pop()"
   ]
  },
  {
   "cell_type": "code",
   "execution_count": null,
   "metadata": {},
   "outputs": [],
   "source": [
    "editor = Editor()\n",
    "history = History()\n",
    "\n",
    "editor.type(\"This is the first sentence. \")\n",
    "history.push(editor.save())\n",
    "\n",
    "editor.type(\"This is the second sentence. \")\n",
    "history.push(editor.save())\n",
    "\n",
    "editor.type(\"This is the third sentence. \")\n",
    "print(\"Current content:\", editor.get_content())\n",
    "\n",
    "editor.restore(history.pop())\n",
    "print(\"After undo 1:\", editor.get_content())\n",
    "\n",
    "editor.restore(history.pop())\n",
    "print(\"After undo 2:\", editor.get_content())"
   ]
  }
 ],
 "metadata": {
  "language_info": {
   "name": "python"
  }
 },
 "nbformat": 4,
 "nbformat_minor": 2
}
