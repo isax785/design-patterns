{
 "cells": [
  {
   "cell_type": "markdown",
   "metadata": {},
   "source": [
    "# Strategy\n",
    "\n",
    "The Strategy Pattern is a behavioral design pattern that enables selecting an algorithm's behavior at runtime. It defines a family of algorithms, encapsulates each one, and makes them interchangeable.\n",
    "\n",
    "Example: a text editor that can format text in different ways. The Strategy Pattern will be used to switch between different text formatting strategies."
   ]
  },
  {
   "cell_type": "code",
   "execution_count": null,
   "metadata": {},
   "outputs": [],
   "source": [
    "# Strategy Interface\n",
    "\n",
    "from abc import ABC, abstractmethod\n",
    "\n",
    "class TextFormatter(ABC):\n",
    "    @abstractmethod\n",
    "    def format(self, text: str) -> str:\n",
    "        pass"
   ]
  },
  {
   "cell_type": "code",
   "execution_count": null,
   "metadata": {},
   "outputs": [],
   "source": [
    "# Concrete Strategies\n",
    "\n",
    "class UpperCaseFormatter(TextFormatter):\n",
    "    def format(self, text: str) -> str:\n",
    "        return text.upper()\n",
    "\n",
    "class LowerCaseFormatter(TextFormatter):\n",
    "    def format(self, text: str) -> str:\n",
    "        return text.lower()\n",
    "\n",
    "class TitleCaseFormatter(TextFormatter):\n",
    "    def format(self, text: str) -> str:\n",
    "        return text.title()"
   ]
  },
  {
   "cell_type": "code",
   "execution_count": null,
   "metadata": {},
   "outputs": [],
   "source": [
    "# Context Class\n",
    "\n",
    "class TextEditor:\n",
    "    def __init__(self, formatter: TextFormatter):\n",
    "        self._formatter = formatter\n",
    "\n",
    "    def set_formatter(self, formatter: TextFormatter):\n",
    "        self._formatter = formatter\n",
    "\n",
    "    def publish_text(self, text: str) -> str:\n",
    "        return self._formatter.format(text)"
   ]
  },
  {
   "cell_type": "code",
   "execution_count": null,
   "metadata": {},
   "outputs": [],
   "source": [
    "text = \"Hello Strategy Pattern\"\n",
    "\n",
    "upper_formatter = UpperCaseFormatter()\n",
    "lower_formatter = LowerCaseFormatter()\n",
    "title_formatter = TitleCaseFormatter()\n",
    "\n",
    "editor = TextEditor(upper_formatter)\n",
    "print(editor.publish_text(text))  # Output: HELLO STRATEGY PATTERN\n",
    "\n",
    "editor.set_formatter(lower_formatter)\n",
    "print(editor.publish_text(text))  # Output: hello strategy pattern\n",
    "\n",
    "editor.set_formatter(title_formatter)\n",
    "print(editor.publish_text(text))  # Output: Hello Strategy Pattern"
   ]
  }
 ],
 "metadata": {
  "language_info": {
   "name": "python"
  }
 },
 "nbformat": 4,
 "nbformat_minor": 2
}
