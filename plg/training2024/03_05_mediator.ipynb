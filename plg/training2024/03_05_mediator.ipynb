{
 "cells": [
  {
   "cell_type": "markdown",
   "metadata": {},
   "source": [
    "# Mediator\n",
    "\n",
    "Implement a chat room where users can send messages to each other. The chat room acts as the mediator."
   ]
  },
  {
   "cell_type": "code",
   "execution_count": 1,
   "metadata": {},
   "outputs": [],
   "source": [
    "# Mediator Interface\n",
    "\n",
    "from abc import ABC, abstractmethod\n",
    "\n",
    "class ChatRoomMediator(ABC):\n",
    "    @abstractmethod\n",
    "    def show_message(self, user, message):\n",
    "        pass"
   ]
  },
  {
   "cell_type": "code",
   "execution_count": 2,
   "metadata": {},
   "outputs": [],
   "source": [
    "# Concrete Mediator\n",
    "\n",
    "from datetime import datetime\n",
    "\n",
    "class ChatRoom(ChatRoomMediator):\n",
    "    def show_message(self, user, message):\n",
    "        timestamp = datetime.now().strftime('%Y-%m-%d %H:%M:%S')\n",
    "        sender = user.get_name()\n",
    "        print(f\"[{timestamp}] {sender}: {message}\")"
   ]
  },
  {
   "cell_type": "code",
   "execution_count": 3,
   "metadata": {},
   "outputs": [],
   "source": [
    "# Colleague Class\n",
    "\n",
    "class User:\n",
    "    def __init__(self, name, chat_mediator):\n",
    "        self.name = name\n",
    "        self.chat_mediator = chat_mediator\n",
    "\n",
    "    def get_name(self):\n",
    "        return self.name\n",
    "\n",
    "    def send(self, message):\n",
    "        self.chat_mediator.show_message(self, message)"
   ]
  },
  {
   "cell_type": "code",
   "execution_count": 4,
   "metadata": {},
   "outputs": [
    {
     "name": "stdout",
     "output_type": "stream",
     "text": [
      "[2024-08-05 14:17:47] Alice: Hello, Bob!\n",
      "[2024-08-05 14:17:47] Bob: Hi, Alice! How are you?\n"
     ]
    }
   ],
   "source": [
    "chat_room = ChatRoom()\n",
    "\n",
    "user1 = User(\"Alice\", chat_room)\n",
    "user2 = User(\"Bob\", chat_room)\n",
    "\n",
    "user1.send(\"Hello, Bob!\")\n",
    "user2.send(\"Hi, Alice! How are you?\")"
   ]
  },
  {
   "cell_type": "code",
   "execution_count": null,
   "metadata": {},
   "outputs": [],
   "source": []
  },
  {
   "cell_type": "code",
   "execution_count": null,
   "metadata": {},
   "outputs": [],
   "source": []
  }
 ],
 "metadata": {
  "kernelspec": {
   "display_name": "Python 3",
   "language": "python",
   "name": "python3"
  },
  "language_info": {
   "codemirror_mode": {
    "name": "ipython",
    "version": 3
   },
   "file_extension": ".py",
   "mimetype": "text/x-python",
   "name": "python",
   "nbconvert_exporter": "python",
   "pygments_lexer": "ipython3",
   "version": "3.12.3"
  }
 },
 "nbformat": 4,
 "nbformat_minor": 2
}
