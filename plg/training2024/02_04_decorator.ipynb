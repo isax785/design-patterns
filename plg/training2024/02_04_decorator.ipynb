{
 "cells": [
  {
   "cell_type": "markdown",
   "metadata": {},
   "source": [
    "# Decorator\n",
    "\n",
    "A simple example of decorator pattern implementation involving a coffee ordering system.\n",
    "\n",
    "![](./slides/img_md/Pasted%20image%2020240708115356.png)"
   ]
  },
  {
   "cell_type": "code",
   "execution_count": 1,
   "metadata": {},
   "outputs": [],
   "source": [
    "from abc import ABC, abstractmethod\n",
    "\n",
    "class Coffee(ABC):\n",
    "    @abstractmethod\n",
    "    def cost(self):\n",
    "        pass\n",
    "    \n",
    "    @abstractmethod\n",
    "    def description(self):\n",
    "        pass"
   ]
  },
  {
   "cell_type": "code",
   "execution_count": 2,
   "metadata": {},
   "outputs": [],
   "source": [
    "class SimpleCoffee(Coffee):\n",
    "    def cost(self):\n",
    "        return 5  # Basic cost of simple coffee\n",
    "    \n",
    "    def description(self):\n",
    "        return \"Simple Coffee\""
   ]
  },
  {
   "cell_type": "code",
   "execution_count": 4,
   "metadata": {},
   "outputs": [],
   "source": [
    "class CoffeeDecorator(Coffee):\n",
    "    def __init__(self, coffee):\n",
    "        self._coffee = coffee\n",
    "    \n",
    "    def cost(self):\n",
    "        return self._coffee.cost()\n",
    "    \n",
    "    def description(self):\n",
    "        return self._coffee.description()"
   ]
  },
  {
   "cell_type": "code",
   "execution_count": 5,
   "metadata": {},
   "outputs": [],
   "source": [
    "class MilkDecorator(CoffeeDecorator):\n",
    "    def __init__(self, coffee):\n",
    "        super().__init__(coffee)\n",
    "    \n",
    "    def cost(self):\n",
    "        return self._coffee.cost() + 2  # Adding milk cost\n",
    "    \n",
    "    def description(self):\n",
    "        return f\"{self._coffee.description()}, Milk\""
   ]
  },
  {
   "cell_type": "code",
   "execution_count": 7,
   "metadata": {},
   "outputs": [],
   "source": [
    "class SugarDecorator(CoffeeDecorator):\n",
    "    def __init__(self, coffee):\n",
    "        super().__init__(coffee)\n",
    "    \n",
    "    def cost(self):\n",
    "        return self._coffee.cost() + 1  # Adding sugar cost\n",
    "    \n",
    "    def description(self):\n",
    "        return f\"{self._coffee.description()}, Sugar\""
   ]
  },
  {
   "cell_type": "code",
   "execution_count": 6,
   "metadata": {},
   "outputs": [],
   "source": [
    "class WhipDecorator(CoffeeDecorator):\n",
    "    def __init__(self, coffee):\n",
    "        super().__init__(coffee)\n",
    "    \n",
    "    def cost(self):\n",
    "        return self._coffee.cost() + 3  # Adding whip cost\n",
    "    \n",
    "    def description(self):\n",
    "        return f\"{self._coffee.description()}, Whip\""
   ]
  },
  {
   "cell_type": "code",
   "execution_count": 8,
   "metadata": {},
   "outputs": [
    {
     "name": "stdout",
     "output_type": "stream",
     "text": [
      "Description: Simple Coffee, Cost: 5\n",
      "Description: Simple Coffee, Milk, Cost: 7\n",
      "Description: Simple Coffee, Milk, Sugar, Cost: 8\n",
      "Description: Simple Coffee, Milk, Sugar, Whip, Cost: 11\n"
     ]
    }
   ],
   "source": [
    "my_coffee = SimpleCoffee()\n",
    "print(f\"Description: {my_coffee.description()}, Cost: {my_coffee.cost()}\")\n",
    "\n",
    "# Add milk\n",
    "my_coffee = MilkDecorator(my_coffee)\n",
    "print(f\"Description: {my_coffee.description()}, Cost: {my_coffee.cost()}\")\n",
    "\n",
    "# Add sugar\n",
    "my_coffee = SugarDecorator(my_coffee)\n",
    "print(f\"Description: {my_coffee.description()}, Cost: {my_coffee.cost()}\")\n",
    "\n",
    "# Add whip\n",
    "my_coffee = WhipDecorator(my_coffee)\n",
    "print(f\"Description: {my_coffee.description()}, Cost: {my_coffee.cost()}\")"
   ]
  }
 ],
 "metadata": {
  "kernelspec": {
   "display_name": "Python 3",
   "language": "python",
   "name": "python3"
  },
  "language_info": {
   "codemirror_mode": {
    "name": "ipython",
    "version": 3
   },
   "file_extension": ".py",
   "mimetype": "text/x-python",
   "name": "python",
   "nbconvert_exporter": "python",
   "pygments_lexer": "ipython3",
   "version": "3.12.3"
  }
 },
 "nbformat": 4,
 "nbformat_minor": 2
}
