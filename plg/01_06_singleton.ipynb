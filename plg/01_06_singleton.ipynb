{
 "cells": [
  {
   "cell_type": "markdown",
   "metadata": {},
   "source": [
    "# Singleton\n",
    "\n",
    "![](../src/slides/img_md/Pasted%20image%2020240617121753.png)"
   ]
  },
  {
   "cell_type": "code",
   "execution_count": 1,
   "metadata": {},
   "outputs": [],
   "source": [
    "class SingletonObject(object):\n",
    "    class __SingletonObject():\n",
    "        def __init__(self):\n",
    "            self.val = None\n",
    "        def __str__(self):\n",
    "            return \"{0!r} {1}\".format(self, self.val)\n",
    "    instance = None  # Here the first instance is assigned to the class\n",
    "    \n",
    "    def __new__(cls):\n",
    "        if not SingletonObject.instance:\n",
    "            SingletonObject.instance = SingletonObject.__SingletonObject()\n",
    "        return SingletonObject.instance\n",
    "    \n",
    "    def __getattr__(self, name):\n",
    "        return getattr(self.instance, name)\n",
    "    \n",
    "    def __setattr__(self, name):\n",
    "        return setattr(self.instance, name)"
   ]
  },
  {
   "cell_type": "code",
   "execution_count": 2,
   "metadata": {},
   "outputs": [
    {
     "name": "stdout",
     "output_type": "stream",
     "text": [
      "SingletonObject initial instance: None\n",
      "obj1 instance: <__main__.SingletonObject.__SingletonObject object at 0x000001E171B66660> Object value 1\n",
      "SingletonObject instance after obj1 creation: <__main__.SingletonObject.__SingletonObject object at 0x000001E171B66660> Object value 1\n",
      "Now obj2 is created ...\n",
      "obj2 just instantiated: <__main__.SingletonObject.__SingletonObject object at 0x000001E171B66660> Object value 1\n",
      "SingletonObject.instance == obj1 : True\n",
      "SingletonObject.instance == obj2 : True\n",
      "...and value of obj2 re-assigned\n",
      "obj2 after value assignment: <__main__.SingletonObject.__SingletonObject object at 0x000001E171B66660> Object value 2\n",
      "obj1 after assignment to obj2: <__main__.SingletonObject.__SingletonObject object at 0x000001E171B66660> Object value 2\n"
     ]
    }
   ],
   "source": [
    "print('SingletonObject initial instance:', SingletonObject.instance)\n",
    "obj1 = SingletonObject()\n",
    "obj1.val = \"Object value 1\"\n",
    "print(f'obj1 instance: {obj1}')\n",
    "print('SingletonObject instance after obj1 creation:', SingletonObject.instance)\n",
    "print('Now obj2 is created ...')\n",
    "obj2 = SingletonObject()\n",
    "print(f'obj2 just instantiated: {obj2}')\n",
    "print('SingletonObject.instance == obj1 : {}\\nSingletonObject.instance == obj2 : {}'\n",
    "        .format(SingletonObject.instance == obj1, SingletonObject.instance == obj2))\n",
    "print('...and value of obj2 re-assigned')\n",
    "obj2.val = \"Object value 2\"\n",
    "print(f'obj2 after value assignment: {obj2}')\n",
    "print(f'obj1 after assignment to obj2: {obj1}')"
   ]
  },
  {
   "cell_type": "markdown",
   "metadata": {},
   "source": [
    "## Metaclass"
   ]
  },
  {
   "cell_type": "code",
   "execution_count": 1,
   "metadata": {},
   "outputs": [
    {
     "name": "stdout",
     "output_type": "stream",
     "text": [
      "42\n",
      "42\n",
      "True\n"
     ]
    }
   ],
   "source": [
    "class SingletonMeta(type):\n",
    "    \"\"\"\n",
    "    This is a thread-safe implementation of Singleton.\n",
    "    \"\"\"\n",
    "    _instances = {}\n",
    "\n",
    "    def __call__(cls, *args, **kwargs):\n",
    "        if cls not in cls._instances:\n",
    "            instance = super().__call__(*args, **kwargs)\n",
    "            cls._instances[cls] = instance\n",
    "        return cls._instances[cls]\n",
    "\n",
    "\n",
    "class Singleton(metaclass=SingletonMeta):\n",
    "    def __init__(self):\n",
    "        self.value = None\n",
    "\n",
    "    def set_value(self, value):\n",
    "        self.value = value\n",
    "\n",
    "    def get_value(self):\n",
    "        return self.value\n",
    "\n",
    "\n",
    "# Usage\n",
    "singleton1 = Singleton()\n",
    "singleton1.set_value(42)\n",
    "print(singleton1.get_value())  # Output: 42\n",
    "\n",
    "singleton2 = Singleton()\n",
    "print(singleton2.get_value())  # Output: 42\n",
    "\n",
    "print(singleton1 is singleton2)  # Output: True\n"
   ]
  }
 ],
 "metadata": {
  "kernelspec": {
   "display_name": "Python 3",
   "language": "python",
   "name": "python3"
  },
  "language_info": {
   "codemirror_mode": {
    "name": "ipython",
    "version": 3
   },
   "file_extension": ".py",
   "mimetype": "text/x-python",
   "name": "python",
   "nbconvert_exporter": "python",
   "pygments_lexer": "ipython3",
   "version": "3.12.3"
  }
 },
 "nbformat": 4,
 "nbformat_minor": 2
}
