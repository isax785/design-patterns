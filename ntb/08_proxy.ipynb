{
 "cells": [
  {
   "cell_type": "markdown",
   "metadata": {},
   "source": [
    "# 8. Proxy Pattern\n",
    "\n",
    "A `Proxy Pattern` provides the same interface as the original object, but it controls access to the original object. It can be applied when there are functions that are called very often.\n",
    "\n",
    "<u>Memoization:</u> the act of saving the result of a function call for later use. Whenever there is a function being called multiple times, with the value repeated, it would be useful to store the response of the calculation in order to avoid the process of calculating the value again.\n",
    "\n",
    "```python\n",
    "def fib_cached(n, cache):\n",
    "    if n < 2:\n",
    "        return 1\n",
    "    \n",
    "    if n in cache:\n",
    "        return cache[n]\n",
    "    \n",
    "    cache[n] = fib_cached(n-2, cache) + fib(n-1, cache)\n",
    "    \n",
    "    return cache[n]\n",
    "\n",
    "n = 100\n",
    "fib_sequence = [fib_cached(x, cache) for x in range(0, n)]\n",
    "```\n",
    "\n",
    "## Proxy Pattern\n",
    "\n",
    "A `proxy` provides the same interface as the original object, but it controls access to the original object. As part of this control, it can perform other tasks before and after the original object is accessed. It tipucally has three parts:\n",
    "- _client_: it requires access to some object.\n",
    "- _object_: its access is requested by the _client_.\n",
    "- _proxy_: it controls the access to the _object_.\n",
    "\n",
    "The ideal situation is to have a class that functions as an interface to the calculator class. The client should not be aware of this class, in that the client only codes toward the interface of the original class, with the proxy providing the same functionality and results as the original class.\n",
    "\n",
    "`Proxy` types:\n",
    "- `Remote Proxy`: to abstract the location of an object. It appears to be a local resource to the client.\n",
    "- `Virtual Proxy`: to delay object creation. The target object can be created once needed.\n",
    "- `Prtection Proxy`: to restrict access to information and methods on the target object.\n",
    "\n",
    "With the `Proxy Pattern` the interface remains constant, with some actions taking place in the background. Conversely, the `Adapter Pattern` is targeted at changing the interface."
   ]
  },
  {
   "cell_type": "code",
   "execution_count": null,
   "metadata": {},
   "outputs": [],
   "source": [
    "import time\n",
    "\n",
    "class RawCalculator(object):\n",
    "    def fib(self, n):\n",
    "        if n < 2: \n",
    "            return 1\n",
    "        return self.fib(n-2) + self.fib(n-1)\n",
    "\n",
    "def memoize(fn):\n",
    "    \"\"\"Memizing function, it works with any function passed to it.\"\"\"\n",
    "    __cache = {}\n",
    "    def memoized(*args):\n",
    "        key = (fn.__name__, args)\n",
    "        if key in __cache: \n",
    "            return __cache[key]\n",
    "        __cache[key] = fn(*args)\n",
    "        return __cache[key]\n",
    "    return memoized\n",
    "\n",
    "class CalculatorProxy(object):\n",
    "    def __init__(self, target):\n",
    "        self.target = target\n",
    "        \n",
    "        fib = getattr(self.target, 'fib')\n",
    "        setattr(self.target, 'fib', memoize(fib))  # overriding of fib method\n",
    "    \n",
    "    def __getattr__(self, name):\n",
    "        return getattr(self.target, name)\n",
    "    \n",
    "if __name__ == \"__main__\":\n",
    "    calculator = CalculatorProxy(RawCalculator())\n",
    "    start_time = time.time()\n",
    "    fib_sequence = [calculator.fib(x) for x in range(80)]\n",
    "    end_time = time.time()\n",
    "    print(\"Calculating the list of {} Fibonacci numbers took {} seconds\".\n",
    "          format(len(fib_sequence), end_time - start_time)\n",
    "         )"
   ]
  },
  {
   "cell_type": "markdown",
   "metadata": {},
   "source": [
    "## Exercises"
   ]
  }
 ],
 "metadata": {
  "language_info": {
   "name": "python"
  }
 },
 "nbformat": 4,
 "nbformat_minor": 2
}
