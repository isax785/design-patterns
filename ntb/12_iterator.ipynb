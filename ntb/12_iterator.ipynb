{
 "cells": [
  {
   "cell_type": "markdown",
   "metadata": {},
   "source": [
    "# 12. Iterator Pattern\n",
    "\n",
    "The `Iterator Pattern` creates an object that can use an inetrface that a collection data type can inherit, which would allow it to generalize the action of traversing the contents of the collection.\n",
    "The `Container` class implements the iterator protocol."
   ]
  },
  {
   "cell_type": "code",
   "execution_count": null,
   "metadata": {},
   "outputs": [],
   "source": [
    "import abc\n",
    "\n",
    "class Iterator(metaclass=abc.ABCMeta):\n",
    "    @abc.abstractmethod\n",
    "    def has_next(self): pass\n",
    "    \n",
    "    @abc.abstractmethod\n",
    "    def next(self): pass\n",
    "\n",
    "class Container(metaclass=abc.ABCMeta):\n",
    "    @abc.abstractmethod\n",
    "    def getIterator(self): pass\n",
    "\n",
    "class MyListIterator(Iterator):\n",
    "    def __init__(self, my_list):\n",
    "        self.index = 0\n",
    "        self.list = my_list.list\n",
    "        \n",
    "    def has_next(self):\n",
    "        return self.index < len(self.list)\n",
    "    \n",
    "    def next(self):\n",
    "        self.index += 1\n",
    "        return self.list[self.index - 1]\n",
    "\n",
    "class MyList(Container):\n",
    "    def __init__(self, *args):\n",
    "        self.list = list(args)\n",
    "    def getIterator(self):\n",
    "        return MyListIterator(self)\n",
    "    \n",
    "if __name__ == '__main__':\n",
    "    my_list = MyList(1, 2, 3, 4, 5, 6)\n",
    "    my_iterator = my_list.getIterator()\n",
    "    \n",
    "    while my_iterator.has_next():\n",
    "        print(my_iterator.next())"
   ]
  },
  {
   "cell_type": "markdown",
   "metadata": {},
   "source": [
    "## Exercises"
   ]
  }
 ],
 "metadata": {
  "language_info": {
   "name": "python"
  }
 },
 "nbformat": 4,
 "nbformat_minor": 2
}
