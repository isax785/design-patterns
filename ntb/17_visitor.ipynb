{
 "cells": [
  {
   "cell_type": "markdown",
   "metadata": {},
   "source": [
    "# 17. Visitor Pattern\n",
    "\n",
    "Tease apart a complex piece of functionality into more discrete parts, then abstract these parts in such a way that the one does not need to be intimately familiar with the other."
   ]
  },
  {
   "cell_type": "code",
   "execution_count": null,
   "metadata": {},
   "outputs": [],
   "source": [
    "import abc\n",
    "\n",
    "class Visitable(object):\n",
    "    def accept(self, visitor):\n",
    "        visitor.visit(self)\n",
    "        \n",
    "class CompositeVisitable(Visitable):\n",
    "    def __init__(self, iterable):\n",
    "        self.iterable = iterable\n",
    "        \n",
    "    def accept(self, visitor):\n",
    "        for element in self.iterable:\n",
    "            element.accept(visitor)\n",
    "        visitor.visit(self)\n",
    "        \n",
    "class AbstractVisitor(object):\n",
    "    __metaclass__ = abc.ABCMeta\n",
    "    \n",
    "    @abc.abstractmethod\n",
    "    def visit(self, element):\n",
    "        raise NotImplementedError(\"A visitor needs to define a visit method\")\n",
    "        \n",
    "class ConcreteVisitable(Visitable):\n",
    "    def __init__(self):\n",
    "        pass\n",
    "    \n",
    "class ConcreteVisitor(AbstractVisitor):\n",
    "    def visit(self, element):\n",
    "        pass"
   ]
  },
  {
   "cell_type": "markdown",
   "metadata": {},
   "source": [
    "## Exercises"
   ]
  }
 ],
 "metadata": {
  "language_info": {
   "name": "python"
  }
 },
 "nbformat": 4,
 "nbformat_minor": 2
}
