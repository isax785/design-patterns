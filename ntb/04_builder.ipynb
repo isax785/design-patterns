{
 "cells": [
  {
   "cell_type": "markdown",
   "metadata": {},
   "source": [
    "# 4. Builder Pattern\n",
    "\n",
    "The builder pattern does not use nmerous constructors; it uses a builder object (differently from an anti-pattern). This builder object receives each initialization parameter step by step and then returns the resulting constructed object as a single result.\n",
    "the `builder pattern` separates the construction of an object from the way the object is represented, so the representation of the object can be changed without changing the process by which it is constructed.\n",
    "\n",
    "**Anti-pattern** is the opposite of a software **pattern**. They are usually a general way to work around or attempt to solve a specific type of problem, but are also the wrong way to solve the problem. Considering that **The Goal** is to write clean code that is easy to debug, easy to update, and easy to extend, anti-patterns lead to code that is exactly the opposite.\n",
    "\n",
    "In the `Builder Pattern` the two main players are:\n",
    "- `Builder` : abstract class that knows how to build all the components of the final object.\n",
    "- `Director`: controls the process of the building. Its output is a fully initialized object.\n",
    "\n",
    "There is an instance (or instances) of `Builder` that the `Director` uses to build the objects.\n",
    "\n",
    "**Builder pattern** focuses on building something step by step. For this, it is different from the **abstract factory** where a family of products can be created and returned immediatly using polimorphism. **Builder pattern** separates the construction of a complex object from its representation. \n",
    "\n",
    "A furthe advantage of this separation is the reduction of object size, which results in cleaner code. There is better control over the construction process and themodular nature allow us to easily make changes to the internal representation of objects.\n",
    "\n",
    "The biggest downside is that a `ConcreteBuilder` must be created for each type of product to be created."
   ]
  },
  {
   "cell_type": "code",
   "execution_count": null,
   "metadata": {},
   "outputs": [],
   "source": [
    "from abc import ABCMeta, abstractmethod\n",
    "\n",
    "class Director(object, metaclass=ABCMeta):\n",
    "    \n",
    "    def __init__(self):\n",
    "        self._builder = None\n",
    "    \n",
    "    @abstractmethod\n",
    "    def construct(self):\n",
    "        pass\n",
    "    \n",
    "    def get_constructed_object(self):\n",
    "        return self._builder.constructed_object\n",
    "\n",
    "class Builder(object, metaclass=ABCMeta):\n",
    "    def __init__(self, constructed_object):\n",
    "        self.constructed_object = constructed_object\n",
    "        \n",
    "class Product(object):\n",
    "    def __init__(self):\n",
    "        pass\n",
    "    \n",
    "    def __repr__(self):\n",
    "        pass\n",
    "    \n",
    "class ConcreteBuilder(Builder):\n",
    "    \"The resulting object is able to construct objects.\"\n",
    "    pass\n",
    "\n",
    "class ConcreteDirector(Director):\n",
    "    pass"
   ]
  },
  {
   "cell_type": "markdown",
   "metadata": {},
   "source": [
    "## Exercises"
   ]
  },
  {
   "cell_type": "code",
   "execution_count": null,
   "metadata": {},
   "outputs": [],
   "source": []
  },
  {
   "cell_type": "code",
   "execution_count": null,
   "metadata": {},
   "outputs": [],
   "source": []
  }
 ],
 "metadata": {
  "language_info": {
   "name": "python"
  }
 },
 "nbformat": 4,
 "nbformat_minor": 2
}
