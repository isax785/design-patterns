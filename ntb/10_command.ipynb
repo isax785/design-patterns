{
 "cells": [
  {
   "cell_type": "markdown",
   "metadata": {},
   "source": [
    "# 10. Command Pattern\n",
    "\n",
    "The `Command Pattern` decouples the request for execution from the actual execution.\n",
    "\n",
    "Used to send an instruction or set of instructions from one object to another, while keeping these object loosely coupled. It follows that everything needed to execute the instruction should be encapsulated in some kind of data structure. the _client_ that initiates the execution does nt have to know anything about way in which the instruction will be executed. the target object is called _receiver_, it is an instance of a class that can execute the method given the encapsulated information. All of this relies in an bject called an _invoker_ that decides when the method on the receiver will execute.\n",
    "\n",
    "It is fundamental that the command pattern isolates the invoker from the receiver. It also separates the time the execution is set up from the time it is procesed.\n",
    "\n",
    "Commands to be executed can be queued even if the receiver is busy executing another command. Having all the information in an object in the queue allows the system to deal with all incoming commands withut losing important commands while executing some other command. **New behaviors are dynamically created at runtime!**\n",
    "\n",
    "Sample `Command Pattern`:"
   ]
  },
  {
   "cell_type": "code",
   "execution_count": null,
   "metadata": {},
   "outputs": [],
   "source": [
    "class Command(object):\n",
    "    def __init__(self, receiver, text):\n",
    "        self.receiver = receiver\n",
    "        self.text = text\n",
    "    def execute(self):\n",
    "        self.receiver.print_message(self.text)\n",
    "        \n",
    "class Receiver(object):\n",
    "    def print_message(self, text)\n",
    "    print(\"Message received: {}\".format(text))\n",
    "    \n",
    "class Invoker(object):\n",
    "    def __init__(self):\n",
    "        self.commands = []\n",
    "    def add_command(self, command):\n",
    "        self.commands.append(command)\n",
    "    def run(self):\n",
    "        for command in self.commands:\n",
    "            command.execute()\n",
    "\n",
    "if __name__ == '__main__':\n",
    "    receiver = Receiver()\n",
    "    command1 = Command(receiver, \"Execute command 1\")\n",
    "    command2 = Command(receiver, \"Execute command 2\")\n",
    "    \n",
    "    invoker = Invoker()\n",
    "    invoker.add_command(command1)\n",
    "    invoker.add_command(command2)\n",
    "    invoker.run()"
   ]
  },
  {
   "cell_type": "markdown",
   "metadata": {},
   "source": [
    "The `Command Pattern` can also build a multi-level undo stack:\n",
    "```python\n",
    "class Invoker(object):\n",
    "    def __init__(self):\n",
    "        self.commands = []\n",
    "        self.undo_stack = []\n",
    "        \n",
    "    def add_new_command(self, command):\n",
    "        self.commands.append(command)\n",
    "    \n",
    "    def run(self):\n",
    "        for command in self.commands:\n",
    "            command.execute()  # execution function of command (e.g. - for Subtraction)\n",
    "            self.undo_stack.append(command)\n",
    "    \n",
    "    def undo(self):\n",
    "        undo_command = self.undo_stack.pop()\n",
    "        undo_command.undo()   # undo function of command (e.g. + for Subtraction)\n",
    "        \n",
    "# sample command class\n",
    "\n",
    "class SubtractCommand(object):\n",
    "    def __init__(self, receiver, value):\n",
    "        self.receiver = receiver\n",
    "        self.value = value\n",
    "\n",
    "    def execute(self):\n",
    "        self.receiver.subtract(self.value)\n",
    "        \n",
    "    def undo(self):\n",
    "        self.receiver.add(self.value)\n",
    "\n",
    "# receiver         \n",
    "\n",
    "class Accumulator(object):\n",
    "    def __init__(self, value):\n",
    "        self.value = value\n",
    "    \n",
    "    def add(self, value):\n",
    "        self.value += value\n",
    "    \n",
    "    def subtract(self, value):\n",
    "        self.value -= value\n",
    "```\n",
    "\n",
    "The heart of this design pattern is the translation of method calls into data that can be saved in a variable, passed to a method or function as a parameter, and returned from a function as a result. The result of applying this pattern is that functions or methods become **first-class citizens**. When functions are first class citizens variables can point to functions, functions can be passed as a parameter to other functions, and they can be returned as the result from executing a function.\n",
    "\n",
    "All functions get passed all that is needed for execution, with no global state, and functions are only executed when an actual result needs to be returned."
   ]
  },
  {
   "cell_type": "markdown",
   "metadata": {},
   "source": [
    "## Exercises"
   ]
  }
 ],
 "metadata": {
  "language_info": {
   "name": "python"
  }
 },
 "nbformat": 4,
 "nbformat_minor": 2
}
