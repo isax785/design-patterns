{
 "cells": [
  {
   "cell_type": "markdown",
   "metadata": {},
   "source": [
    "# 7. Facade Pattern\n",
    "\n",
    "System eolve, and as they grow they can become very complex. To keep the whole system simple, all the functionalities must be hidden from the client.\n",
    "\n",
    "The `Facade Pattern` is specifically used to create a complexity-limiting interface to a sub-system or collection of sub-systems. It is used not just to encapsulate a single object but also to provide a wrapper that presents a simplified interface to a group of complex sub-systems that is easy to use without unneeded functions or complexity.\n",
    "\n",
    "The facade should decide which internal classes and representations to use. It is also within the facade that you will make changes in terms of functions to be assigned to eternal or updated internal systems when the time comes to do so.\n",
    "\n",
    "The simplified interface remains unaware of the complexity under the hood without reducing the power inherent in the sub-system."
   ]
  },
  {
   "cell_type": "code",
   "execution_count": null,
   "metadata": {},
   "outputs": [],
   "source": [
    "class Facade(object):\n",
    "    def __init__(self):\n",
    "        pass\n",
    "    \n",
    "    @staticmethod\n",
    "    def doSomething(*args, **kwargs):\n",
    "        return ClassDoSomething(*args, **kwargs)\n",
    "    \n",
    "    @staticmethod\n",
    "    def doMore(*args, **kwargs):\n",
    "        return ClassDoMore(*args, **kwargs)"
   ]
  },
  {
   "cell_type": "markdown",
   "metadata": {},
   "source": [
    "## Exercises"
   ]
  }
 ],
 "metadata": {
  "language_info": {
   "name": "python"
  }
 },
 "nbformat": 4,
 "nbformat_minor": 2
}
