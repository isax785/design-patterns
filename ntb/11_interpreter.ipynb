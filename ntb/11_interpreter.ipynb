{
 "cells": [
  {
   "cell_type": "markdown",
   "metadata": {},
   "source": [
    "# 11. Interpreter Pattern\n",
    "\n",
    "**General-Purpose Languages**: designed to be used to solve any problem.\n",
    "**Domain-Specific Languages (DSL)**: designed to do only one thing, but extremely well. These languages are helpful for people who are experts in some specific domain but are not programmers. Two types:\n",
    "- _external_: have external code written in an external file or a string. The string or file is the read and parsed by the application before it gets used (e.g. CSS). A parser is needed (e.g. `PyParsing`).\n",
    "- _internal_: use features of the language (e.g. Python with `aloe` module) to enable people writing code that resembles the domain syntax.\n",
    "\n",
    "When developing DSL here are the main steps:\n",
    "1. understand your domain\n",
    "2. model your domain\n",
    "3. implement your domain\n",
    "\n",
    "The idea is to create a syntax that is significantly less comprehensive than a general-purpose language, yet significantly more expressive, specifically as it relates to the domain in question.\n",
    "Two tasks to be accomplished:\n",
    "1. define the language, i.e. the semantics (meaning) and syntax (structure):\n",
    "    - identify things\n",
    "    - identify actions\n",
    "2. write code that will be able to take the language as input and translate it into a form that a machine can understand and action.\n",
    "    - generalize the elements\n",
    "   \n",
    "## Composite Pattern\n",
    "\n",
    "For a container with elements that could be containers themeselves. The `Composite Pattern` defines both composite (i.e. non-terminals) classes and leaf (i.e. terminals) classes that can be used to construct a composite component, such as a special rule.\n",
    "\n",
    "```python\n",
    "class Leaf(object):\n",
    "    def __init__(self, *args, **kwargs):\n",
    "        pass\n",
    "    def component_function(self):\n",
    "        print('Leaf')\n",
    "\n",
    "class Composite(object):\n",
    "    def __init__(self, *args, **kwargs):\n",
    "        self.children = []\n",
    "    def add(self, child):\n",
    "        self.children.append(child)\n",
    "    def remove(self, child):\n",
    "        self.children.remove(child)\n",
    "```\n",
    "\n",
    "## Interpreter Pattern\n",
    "\n",
    "It fits the need of people who are willing to tinker and tweak tomake the software fit their needs more perfectly.\n",
    "\n",
    "Every expression type gets a class, and every class has an `interpret` method. A class and an object to store the global context will also be needed. This context is passed to the `interpret` function of the next object in the interpretation stream (assume that parsing already took place). The interpreter recursively tracerses the container object until the answer to the problem is reached.\n",
    "\n",
    "```python\n",
    "class NonTerminal(object):\n",
    "    def __init__(self, expression):\n",
    "        self.expression = expression\n",
    "    def interpret(self):\n",
    "        self.expression.interpret()\n",
    "        \n",
    "class Terminal(object):\n",
    "    def interpret(self):        \n",
    "        pass\n",
    "```    \n"
   ]
  },
  {
   "cell_type": "markdown",
   "metadata": {},
   "source": [
    "## Exercises"
   ]
  },
  {
   "cell_type": "code",
   "execution_count": null,
   "metadata": {},
   "outputs": [],
   "source": []
  }
 ],
 "metadata": {
  "language_info": {
   "name": "python"
  }
 },
 "nbformat": 4,
 "nbformat_minor": 2
}
