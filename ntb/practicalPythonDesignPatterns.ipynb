{
 "cells": [
  {
   "cell_type": "markdown",
   "id": "d989df6f-17da-4771-8e99-e8d7be089e41",
   "metadata": {
    "tags": []
   },
   "source": [
    "# Practical Python Design Patterns\n",
    "\n",
    "Book: <u>Practical Python Design Patterns - Pythonic Solutions to Common Problems</u> _W. Badenhorst_\n",
    "\n",
    "- [3. Factory Pattern](#factory)\n",
    "- [4. Builder Pattern](#builder)\n",
    "- [5. Adapter Pattern](#adapter)\n",
    "- [6. Decorator Pattern](#decorator)\n",
    "- [7. Facade Pattern](#facade)\n",
    "- [8. Proxy Pattern](#proxy)\n",
    "- [9. Chain of Responsibility](#chain)\n",
    "- [10. Command Pattern](#command)\n",
    "- [11. Interpreter Pattern](#interpreter)\n",
    "- [12. Iterator Pattern](#iterator)\n",
    "- [13. Observer Pattern](#observer)\n",
    "- [14. State Pattern](#state)\n",
    "- [15. Strategy Pattern](#strategy)\n",
    "- [16. Template Method Pattern](#template)\n",
    "- [17. Visitor Pattern](#visitor)\n",
    "- [18. Model-View-Controller Pattern](#mvc)\n",
    "- [19. Publish-Subscribe Pattern](#ps)\n",
    "\n"
   ]
  },
  {
   "cell_type": "markdown",
   "id": "02065ef3-6f55-43c9-b7d5-6efa47c00ebf",
   "metadata": {},
   "source": [
    "# <a class=\"anchor\" id=\"proxy\">8. Proxy Pattern</a>\n",
    "\n",
    "A `Proxy Pattern` provides the same interface as the original object, but it controls access to the original object. It can be applied when there are functions that are called very often.\n",
    "\n",
    "<u>Memoization:</u> the act of saving the result of a function call for later use. Whenever there is a function being called multiple times, with the value repeated, it would be useful to store the response of the calculation in order to avoid the process of calculating the value again.\n",
    "\n",
    "```python\n",
    "def fib_cached(n, cache):\n",
    "    if n < 2:\n",
    "        return 1\n",
    "    \n",
    "    if n in cache:\n",
    "        return cache[n]\n",
    "    \n",
    "    cache[n] = fib_cached(n-2, cache) + fib(n-1, cache)\n",
    "    \n",
    "    return cache[n]\n",
    "\n",
    "n = 100\n",
    "fib_sequence = [fib_cached(x, cache) for x in range(0, n)]\n",
    "```\n",
    "\n",
    "## Proxy Pattern\n",
    "\n",
    "A `proxy` provides the same interface as the original object, but it controls access to the original object. As part of this control, it can perform other tasks before and after the original object is accessed. It tipucally has three parts:\n",
    "- _client_: it requires access to some object.\n",
    "- _object_: its access is requested by the _client_.\n",
    "- _proxy_: it controls the access to the _object_.\n",
    "\n",
    "The ideal situation is to have a class that functions as an interface to the calculator class. The client should not be aware of this class, in that the client only codes toward the interface of the original class, with the proxy providing the same functionality and results as the original class.\n",
    "\n",
    "`Proxy` types:\n",
    "- `Remote Proxy`: to abstract the location of an object. It appears to be a local resource to the client.\n",
    "- `Virtual Proxy`: to delay object creation. The target object can be created once needed.\n",
    "- `Prtection Proxy`: to restrict access to information and methods on the target object.\n",
    "\n",
    "With the `Proxy Pattern` the interface remains constant, with some actions taking place in the background. Conversely, the `Adapter Pattern` is targeted at changing the interface."
   ]
  },
  {
   "cell_type": "code",
   "execution_count": 2,
   "id": "82f72408-ded5-4f53-bea3-77b6b8371baa",
   "metadata": {},
   "outputs": [
    {
     "name": "stdout",
     "output_type": "stream",
     "text": [
      "Calculating the list of 80 Fibonacci numbers took 0.0 seconds\n"
     ]
    }
   ],
   "source": [
    "import time\n",
    "\n",
    "class RawCalculator(object):\n",
    "    def fib(self, n):\n",
    "        if n < 2: \n",
    "            return 1\n",
    "        return self.fib(n-2) + self.fib(n-1)\n",
    "\n",
    "def memoize(fn):\n",
    "    \"\"\"Memizing function, it works with any function passed to it.\"\"\"\n",
    "    __cache = {}\n",
    "    def memoized(*args):\n",
    "        key = (fn.__name__, args)\n",
    "        if key in __cache: \n",
    "            return __cache[key]\n",
    "        __cache[key] = fn(*args)\n",
    "        return __cache[key]\n",
    "    return memoized\n",
    "\n",
    "class CalculatorProxy(object):\n",
    "    def __init__(self, target):\n",
    "        self.target = target\n",
    "        \n",
    "        fib = getattr(self.target, 'fib')\n",
    "        setattr(self.target, 'fib', memoize(fib))  # overriding of fib method\n",
    "    \n",
    "    def __getattr__(self, name):\n",
    "        return getattr(self.target, name)\n",
    "    \n",
    "if __name__ == \"__main__\":\n",
    "    calculator = CalculatorProxy(RawCalculator())\n",
    "    start_time = time.time()\n",
    "    fib_sequence = [calculator.fib(x) for x in range(80)]\n",
    "    end_time = time.time()\n",
    "    print(\"Calculating the list of {} Fibonacci numbers took {} seconds\".\n",
    "          format(len(fib_sequence), end_time - start_time)\n",
    "         )"
   ]
  },
  {
   "cell_type": "markdown",
   "id": "15920122-e5a7-4098-b782-b4c489748287",
   "metadata": {},
   "source": [
    "## Exercises"
   ]
  },
  {
   "cell_type": "code",
   "execution_count": null,
   "id": "dbfe945c-8d3a-4263-971d-6c9573b6420a",
   "metadata": {},
   "outputs": [],
   "source": []
  },
  {
   "cell_type": "code",
   "execution_count": null,
   "id": "eb532891-bdbe-43bf-9716-f5e79b163f93",
   "metadata": {},
   "outputs": [],
   "source": []
  },
  {
   "cell_type": "markdown",
   "id": "8ae5a67b-9df7-4a00-9b5e-c756c447dd18",
   "metadata": {},
   "source": [
    "# <a class=\"anchor\" id=\"chain\">9. Chain of Responsibility</a>\n",
    "\n",
    "The `Chain and Responsibility` pattern allows us to shuffle and alter the handlers used at runtime. It can serve to encapsulate a processing of elements into a pipeline. A good rule of thumb is to use it wherever you have more than one potential handler for a request, and thus do not know beforehand which handler or handlers would best handle the requests you will receive.\n",
    "\n",
    "_The Middleware Layer is a key component of web frameworks: it sits in the middle between the client making requests of the app and the actual application. Both the requests from the client and the responses from the main application pass through it. Also the **routing** mechanism is part of the middleware layer._\n",
    "\n",
    "About web frameworks:\n",
    "- simple `Request` object (sent to the server):\n",
    "\n",
    "```python\n",
    "class Request(object):\n",
    "    def __init__(self, headers, url, body, GET, POST):\n",
    "        self.headers = headers\n",
    "        self.url = url\n",
    "        self.body = body\n",
    "        self.GET = GET\n",
    "        self.POST = POST\n",
    "```\n",
    "\n",
    "- simple `Response` object (returned to the client):\n",
    "\n",
    "```python\n",
    "class Response(object):\n",
    "    def __init__(self, headers, status_code, body):\n",
    "        self.headers = headers\n",
    "        self.status_code = status_code\n",
    "        self.body = body\n",
    "```\n",
    "\n",
    "## Chain Responsibility Principle\n",
    "\n",
    "**Chain Responsibility Principle**: every piece of code does one thing and only one thing.\n",
    "\n",
    "Below the basic concept:\n",
    "\n",
    "```python\n",
    "def function_1():\n",
    "    print('function_1')\n",
    "\n",
    "def function_2():\n",
    "    print('function_2')\n",
    "\n",
    "def function_3():\n",
    "    print('function_3')\n",
    "\n",
    "def main_function():\n",
    "    function_1()\n",
    "    function_2()\n",
    "    function_3()\n",
    "\n",
    "if __name__ == '__main__':\n",
    "    main_function()\n",
    "```\n",
    "\n",
    "Since it is not ideal to have the `main_function` call each of the functions in order (because it leads to a messy code), a better implementation leads to create a way to make a single call and then have the functions called dynamically. In this way, each function is clearly separated int its wn unit of code that can be plugged into, or removed from, the chain of classes. Each handler cares only abuot its own execution and ignores what happens when another handler executes because of the query."
   ]
  },
  {
   "cell_type": "code",
   "execution_count": 6,
   "id": "ce7dbb84-b9ee-4e54-84f4-1aea87ff8470",
   "metadata": {},
   "outputs": [
    {
     "name": "stdout",
     "output_type": "stream",
     "text": [
      "function_1\n",
      "function_2\n",
      "function_3\n",
      "function_4\n",
      "end reached.\n"
     ]
    }
   ],
   "source": [
    "class CatchAll(object):\n",
    "    def __init__(self):\n",
    "        self.next_to_execute = None\n",
    "    def execute(self):\n",
    "        print('end reached.')\n",
    "        \n",
    "class Function1Class(object):\n",
    "    def __init__(self):\n",
    "        self.next_to_execute = CatchAll()\n",
    "    def execute(self):\n",
    "        print('function_1')\n",
    "        self.next_to_execute.execute()\n",
    "        \n",
    "class Function2Class(object):\n",
    "    def __init__(self):\n",
    "        self.next_to_execute = CatchAll()\n",
    "    def execute(self):\n",
    "        print('function_2')\n",
    "        self.next_to_execute.execute()\n",
    "        \n",
    "class Function3Class(object):\n",
    "    def __init__(self):\n",
    "        self.next_to_execute = CatchAll()\n",
    "    def execute(self):\n",
    "        print('function_3')\n",
    "        self.next_to_execute.execute()\n",
    "        \n",
    "class Function4Class(object):\n",
    "    def __init__(self):\n",
    "        self.next_to_execute = CatchAll()\n",
    "    def execute(self):\n",
    "        print('function_4')\n",
    "        self.next_to_execute.execute()\n",
    "\n",
    "def main_function(head):\n",
    "    head.execute()\n",
    "    \n",
    "if __name__ == '__main__':\n",
    "    hd = Function1Class()\n",
    "    \n",
    "    current = hd\n",
    "    current.next_to_execute = Function2Class()\n",
    "    \n",
    "    current = current.next_to_execute\n",
    "    current.next_to_execute = Function3Class()\n",
    "    \n",
    "    current = current.next_to_execute\n",
    "    current.next_to_execute = Function4Class()\n",
    "    \n",
    "    main_function(hd)"
   ]
  },
  {
   "cell_type": "markdown",
   "id": "5310623f-0d5c-46d5-a8da-1714e684828d",
   "metadata": {},
   "source": [
    "## Exercises\n"
   ]
  },
  {
   "cell_type": "code",
   "execution_count": null,
   "id": "56cf5523-00bf-4a3f-990a-d19525c3619a",
   "metadata": {},
   "outputs": [],
   "source": []
  },
  {
   "cell_type": "code",
   "execution_count": null,
   "id": "8defd8ed-39a6-4519-aac5-cc6a716bc743",
   "metadata": {},
   "outputs": [],
   "source": []
  },
  {
   "cell_type": "markdown",
   "id": "7d9b4a7b-faf8-4161-8b28-4ce46c4a77dc",
   "metadata": {
    "tags": []
   },
   "source": [
    "# <a class=\"anchor\" id=\"command\">10. Command Pattern</a>\n",
    "\n",
    "The `Command Pattern` decouples the request for execution from the actual execution.\n",
    "\n",
    "Used to send an instruction or set of instructions from one object to another, while keeping these object loosely coupled. It follows that everything needed to execute the instruction should be encapsulated in some kind of data structure. the _client_ that initiates the execution does nt have to know anything about way in which the instruction will be executed. the target object is called _receiver_, it is an instance of a class that can execute the method given the encapsulated information. All of this relies in an bject called an _invoker_ that decides when the method on the receiver will execute.\n",
    "\n",
    "It is fundamental that the command pattern isolates the invoker from the receiver. It also separates the time the execution is set up from the time it is procesed.\n",
    "\n",
    "Commands to be executed can be queued even if the receiver is busy executing another command. Having all the information in an object in the queue allows the system to deal with all incoming commands withut losing important commands while executing some other command. **New behaviors are dynamically created at runtime!**\n",
    "\n",
    "Sample `Command Pattern`:"
   ]
  },
  {
   "cell_type": "code",
   "execution_count": null,
   "id": "44c36b35-c748-42df-8fbb-070c52873c48",
   "metadata": {},
   "outputs": [],
   "source": [
    "class Command(object):\n",
    "    def __init__(self, receiver, text):\n",
    "        self.receiver = receiver\n",
    "        self.text = text\n",
    "    def execute(self):\n",
    "        self.receiver.print_message(self.text)\n",
    "        \n",
    "class Receiver(object):\n",
    "    def print_message(self, text)\n",
    "    print(\"Message received: {}\".format(text))\n",
    "    \n",
    "class Invoker(object):\n",
    "    def __init__(self):\n",
    "        self.commands = []\n",
    "    def add_command(self, command):\n",
    "        self.commands.append(command)\n",
    "    def run(self):\n",
    "        for command in self.commands:\n",
    "            command.execute()\n",
    "\n",
    "if __name__ == '__main__':\n",
    "    receiver = Receiver()\n",
    "    command1 = Command(receiver, \"Execute command 1\")\n",
    "    command2 = Command(receiver, \"Execute command 2\")\n",
    "    \n",
    "    invoker = Invoker()\n",
    "    invoker.add_command(command1)\n",
    "    invoker.add_command(command2)\n",
    "    invoker.run()"
   ]
  },
  {
   "cell_type": "markdown",
   "id": "539ff9f3-fa98-460e-91e1-73691cba52da",
   "metadata": {},
   "source": [
    "The `Command Pattern` can also build a multi-level undo stack:\n",
    "```python\n",
    "class Invoker(object):\n",
    "    def __init__(self):\n",
    "        self.commands = []\n",
    "        self.undo_stack = []\n",
    "        \n",
    "    def add_new_command(self, command):\n",
    "        self.commands.append(command)\n",
    "    \n",
    "    def run(self):\n",
    "        for command in self.commands:\n",
    "            command.execute()  # execution function of command (e.g. - for Subtraction)\n",
    "            self.undo_stack.append(command)\n",
    "    \n",
    "    def undo(self):\n",
    "        undo_command = self.undo_stack.pop()\n",
    "        undo_command.undo()   # undo function of command (e.g. + for Subtraction)\n",
    "        \n",
    "# sample command class\n",
    "\n",
    "class SubtractCommand(object):\n",
    "    def __init__(self, receiver, value):\n",
    "        self.receiver = receiver\n",
    "        self.value = value\n",
    "\n",
    "    def execute(self):\n",
    "        self.receiver.subtract(self.value)\n",
    "        \n",
    "    def undo(self):\n",
    "        self.receiver.add(self.value)\n",
    "\n",
    "# receiver         \n",
    "\n",
    "class Accumulator(object):\n",
    "    def __init__(self, value):\n",
    "        self.value = value\n",
    "    \n",
    "    def add(self, value):\n",
    "        self.value += value\n",
    "    \n",
    "    def subtract(self, value):\n",
    "        self.value -= value\n",
    "```\n",
    "\n",
    "The heart of this design pattern is the translation of method calls into data that can be saved in a variable, passed to a method or function as a parameter, and returned from a function as a result. The result of applying this pattern is that functions or methods become **first-class citizens**. When functions are first class citizens variables can point to functions, functions can be passed as a parameter to other functions, and they can be returned as the result from executing a function.\n",
    "\n",
    "All functions get passed all that is needed for execution, with no global state, and functions are only executed when an actual result needs to be returned."
   ]
  },
  {
   "cell_type": "markdown",
   "id": "d2ef7197-5a27-4469-8d4e-9d065c5bb0d8",
   "metadata": {},
   "source": [
    "## Examples"
   ]
  },
  {
   "cell_type": "code",
   "execution_count": null,
   "id": "d0446fbf-3496-4b7d-ab16-dba4918fc6b5",
   "metadata": {},
   "outputs": [],
   "source": []
  },
  {
   "cell_type": "code",
   "execution_count": null,
   "id": "064d1faa-904a-4a20-b580-7785318ff6a8",
   "metadata": {},
   "outputs": [],
   "source": []
  },
  {
   "cell_type": "markdown",
   "id": "a51d00ea-1317-44e7-9b06-cf2f48081f3d",
   "metadata": {},
   "source": [
    "# <a class=\"anchor\" id=\"interpreter\">11. Interpreter Pattern</a>\n",
    "\n",
    "**General-Purpose Languages**: designed to be used to solve any problem.\n",
    "**Domain-Specific Languages (DSL)**: designed to do only one thing, but extremely well. These languages are helpful for people who are experts in some specific domain but are not programmers. Two types:\n",
    "- _external_: have external code written in an external file or a string. The string or file is the read and parsed by the application before it gets used (e.g. CSS). A parser is needed (e.g. `PyParsing`).\n",
    "- _internal_: use features of the language (e.g. Python with `aloe` module) to enable people writing code that resembles the domain syntax.\n",
    "\n",
    "When developing DSL here are the main steps:\n",
    "1. understand your domain\n",
    "2. model your domain\n",
    "3. implement your domain\n",
    "\n",
    "The idea is to create a syntax that is significantly less comprehensive than a general-purpose language, yet significantly more expressive, specifically as it relates to the domain in question.\n",
    "Two tasks to be accomplished:\n",
    "1. define the language, i.e. the semantics (meaning) and syntax (structure):\n",
    "    - identify things\n",
    "    - identify actions\n",
    "2. write code that will be able to take the language as input and translate it into a form that a machine can understand and action.\n",
    "    - generalize the elements\n",
    "   \n",
    "## Composite Pattern\n",
    "\n",
    "For a container with elements that could be containers themeselves. The `Composite Pattern` defines both composite (i.e. non-terminals) classes and leaf (i.e. terminals) classes that can be used to construct a composite component, such as a special rule.\n",
    "\n",
    "```python\n",
    "class Leaf(object):\n",
    "    def __init__(self, *args, **kwargs):\n",
    "        pass\n",
    "    def component_function(self):\n",
    "        print('Leaf')\n",
    "\n",
    "class Composite(object):\n",
    "    def __init__(self, *args, **kwargs):\n",
    "        self.children = []\n",
    "    def add(self, child):\n",
    "        self.children.append(child)\n",
    "    def remove(self, child):\n",
    "        self.children.remove(child)\n",
    "```\n",
    "\n",
    "## Interpreter Pattern\n",
    "\n",
    "It fits the need of people who are willing to tinker and tweak tomake the software fit their needs more perfectly.\n",
    "\n",
    "Every expression type gets a class, and every class has an `interpret` method. A class and an object to store the global context will also be needed. This context is passed to the `interpret` function of the next object in the interpretation stream (assume that parsing already took place). The interpreter recursively tracerses the container object until the answer to the problem is reached.\n",
    "\n",
    "```python\n",
    "class NonTerminal(object):\n",
    "    def __init__(self, expression):\n",
    "        self.expression = expression\n",
    "    def interpret(self):\n",
    "        self.expression.interpret()\n",
    "        \n",
    "class Terminal(object):\n",
    "    def interpret(self):        \n",
    "        pass\n",
    "```    \n"
   ]
  },
  {
   "cell_type": "markdown",
   "id": "3efacf36-594c-4491-9ce5-3032f865fdc6",
   "metadata": {},
   "source": [
    "## Exercises"
   ]
  },
  {
   "cell_type": "code",
   "execution_count": null,
   "id": "e743819b-0c73-4b8c-8e18-19739ffdc84a",
   "metadata": {},
   "outputs": [],
   "source": []
  },
  {
   "cell_type": "code",
   "execution_count": null,
   "id": "a3e6ed7c-dd18-4e4b-8670-0d517c5e9470",
   "metadata": {},
   "outputs": [],
   "source": []
  },
  {
   "cell_type": "markdown",
   "id": "f334821b-cdee-4453-acef-6b52363e9b62",
   "metadata": {},
   "source": [
    "# <a class=\"anchor\" id=\"iterator\">12. Iterator Pattern</a>\n",
    "\n",
    "The `Iterator Pattern` creates an object that can use an inetrface that a collection data type can inherit, which would allow it to generalize the action of traversing the contents of the collection.\n",
    "The `Container` class implements the iterator protocol."
   ]
  },
  {
   "cell_type": "code",
   "execution_count": 9,
   "id": "a373007f-d45b-4f52-8770-862e88e60bfe",
   "metadata": {},
   "outputs": [
    {
     "name": "stdout",
     "output_type": "stream",
     "text": [
      "1\n",
      "2\n",
      "3\n",
      "4\n",
      "5\n",
      "6\n"
     ]
    }
   ],
   "source": [
    "import abc\n",
    "\n",
    "class Iterator(metaclass=abc.ABCMeta):\n",
    "    @abc.abstractmethod\n",
    "    def has_next(self): pass\n",
    "    \n",
    "    @abc.abstractmethod\n",
    "    def next(self): pass\n",
    "\n",
    "class Container(metaclass=abc.ABCMeta):\n",
    "    @abc.abstractmethod\n",
    "    def getIterator(self): pass\n",
    "\n",
    "class MyListIterator(Iterator):\n",
    "    def __init__(self, my_list):\n",
    "        self.index = 0\n",
    "        self.list = my_list.list\n",
    "        \n",
    "    def has_next(self):\n",
    "        return self.index < len(self.list)\n",
    "    \n",
    "    def next(self):\n",
    "        self.index += 1\n",
    "        return self.list[self.index - 1]\n",
    "\n",
    "class MyList(Container):\n",
    "    def __init__(self, *args):\n",
    "        self.list = list(args)\n",
    "    def getIterator(self):\n",
    "        return MyListIterator(self)\n",
    "    \n",
    "if __name__ == '__main__':\n",
    "    my_list = MyList(1, 2, 3, 4, 5, 6)\n",
    "    my_iterator = my_list.getIterator()\n",
    "    \n",
    "    while my_iterator.has_next():\n",
    "        print(my_iterator.next())"
   ]
  },
  {
   "cell_type": "markdown",
   "id": "e81562eb-03cc-4ffe-97bf-387f4ba2240c",
   "metadata": {},
   "source": [
    "## Exercises"
   ]
  },
  {
   "cell_type": "code",
   "execution_count": null,
   "id": "bfa5394f-7f17-420e-9f3a-865b3a133c57",
   "metadata": {},
   "outputs": [],
   "source": []
  },
  {
   "cell_type": "code",
   "execution_count": null,
   "id": "478b8318-6aa8-4130-9b62-499166d37fb0",
   "metadata": {},
   "outputs": [],
   "source": []
  },
  {
   "cell_type": "markdown",
   "id": "43a6304b-ff32-412a-808b-a9ce8d6d7abc",
   "metadata": {},
   "source": [
    "# <a class=\"anchor\" id=\"observer\">13. Observer Pattern</a>\n",
    "\n",
    "Used whenever there is the need to dynamically decouple the source of a call from the called code. As a rule, whenever there s a publish-subscribe relationship between a single object (i.e. the `Observable`) and a set of observers, it is a good candidate for `Design Pattern`. Whenever the _Observable_ object changes its states and is polled for a chaneg, it alerts all the _Observers_ registered with it that they need to activate a callback. \n",
    "Although the `Observer Pattern` allows decoupling the objects that are observed frm knowing anything about the object oobserving them, the observer objects stll need to know which objects they need to observe. There is still a bt of coupling. Such pattern works well whena number of potential observable classes that an oobserver needs to register with is limited.\n",
    "The level of coupling between objects is the degree of knowledge that one object needs with regard to other objects that it interacts with. The more loosely objects are cupled, the less knowledge they have about each other, and the more flexible the object-orieted system is. Loosely coupled systems have fewer interdependencies between objects and as such are easier to update and maintain.\n",
    "\n",
    "In the `Observer Pattern` there are two types of objects:\n",
    "- `Observable` class: can be watched by other classes.\n",
    "- `Observer` class: will be alerted whenever the two classes undergoes a change.\n",
    "\n",
    "`Observer Pattern` definition: _A software design pattern in which an object, called the subject, maintans a list of its dependents, called observers, and notfies the automatically of any state changes, usually by calling one of their methods. It is mainly used to implement distributed event handling systems._\n",
    "\n",
    "The problems that the `Observer Pattern` solves are those where a group of objects has to respond to the change f state in some other object and d so withut causing more coupling inside the system. It s concerned with the management of events r responding to change of state in some sort of network of objects."
   ]
  },
  {
   "cell_type": "code",
   "execution_count": 6,
   "id": "5aa70c6b-8fca-4a92-aef2-a2b5864a5ec1",
   "metadata": {},
   "outputs": [
    {
     "name": "stdout",
     "output_type": "stream",
     "text": [
      "Observing: <__main__.Observable object at 0x000002B550C8F088>\n"
     ]
    }
   ],
   "source": [
    "class ConcreteObserver(object):\n",
    "    def update(self, observed):\n",
    "        print(\"Observing: {}\".format(observed))\n",
    "        \n",
    "class Observable(object):\n",
    "    def __init__(self):\n",
    "        self.callbacks = set()\n",
    "    def register(self, observer):\n",
    "        self.callbacks.add(observer)\n",
    "    def unregister(self, observer):\n",
    "        self.callbacks.discard(observer)\n",
    "    def unregister_all(self):\n",
    "        self.callbacks = set()\n",
    "    def update_all(self):\n",
    "        for callback in self.callbacks:\n",
    "            callback.update(self)\n",
    "\n",
    "def main():\n",
    "    observed = Observable()\n",
    "    observer1 = ConcreteObserver()\n",
    "    \n",
    "    # observed.register(lambda x: observer1.update(x))   # in pdf, this does not work\n",
    "    observed.register(observer1)\n",
    "    observed.update_all()\n",
    "\n",
    "if __name__ == '__main__':\n",
    "    main()            "
   ]
  },
  {
   "cell_type": "markdown",
   "id": "73936af1-3e6f-4b86-b44c-4640cdf6151a",
   "metadata": {},
   "source": [
    "## Exercises"
   ]
  },
  {
   "cell_type": "code",
   "execution_count": null,
   "id": "85344546-2397-4bf6-975d-b5ad71cb798a",
   "metadata": {},
   "outputs": [],
   "source": []
  },
  {
   "cell_type": "code",
   "execution_count": null,
   "id": "0223db68-044f-4ffc-9bc5-8302b726dabd",
   "metadata": {},
   "outputs": [],
   "source": []
  },
  {
   "cell_type": "markdown",
   "id": "5586e267-c4f0-402c-9d5c-c603be9c9819",
   "metadata": {},
   "source": [
    "# <a class=\"anchor\" id=\"state\">14. State Pattern</a>\n",
    "\n",
    "**State Diagram**: a graph where nodes represent the state of the system and edges are transitions between one node in the system and another.\n",
    "\n",
    "A naive way to translate the daigram into runnable code is to create an object that represents the state machine. The object will have an attribute for its state, which will determine hw it reacts to input.\n",
    "All object-oriented systems concern themselves with the actors in a system and how the actions of each impact the other actors and the system as a whole. This is why **state machine** is so helpful in modeling the state of an object and the things that cause said object to react.\n",
    "The `State Pattern` is used to encapsulate behavior variations based on the internal state of an object.\n",
    "\n",
    "All state machines are composed of states and the transitions taking the machine from one state to another based on certain inputs. Usually, the state machine will also execute some actions while in a state before transitioning to another state."
   ]
  },
  {
   "cell_type": "code",
   "execution_count": 7,
   "id": "2e930215-d1ac-431a-8819-2c7369b77284",
   "metadata": {},
   "outputs": [
    {
     "name": "stdout",
     "output_type": "stream",
     "text": [
      "<__main__.ConcreteState1 object at 0x000002B550F7A188>\n",
      "<__main__.ConcreteState2 object at 0x000002B550F7A648>\n"
     ]
    }
   ],
   "source": [
    "class State(object):\n",
    "    pass\n",
    "\n",
    "class ConcreteState1(State):\n",
    "    def __init__(self, state_machine):\n",
    "        self.state_machine = state_machine\n",
    "    def switch_state(self):\n",
    "        self.state_machine.state = self.state_machine.state2\n",
    "        \n",
    "class ConcreteState2(State):\n",
    "    def __init__(self, state_machine):\n",
    "        self.state_machine = state_machine\n",
    "    def switch_state(self):\n",
    "        self.state_machine.state = self.state_machine.state1\n",
    "\n",
    "class StateMachine(object):\n",
    "    def __init__(self):\n",
    "        self.state1 = ConcreteState1(self)\n",
    "        self.state2 = ConcreteState2(self)\n",
    "        self.state = self.state1  # initialized to state1\n",
    "        \n",
    "    def switch(self):\n",
    "        self.state.switch_state()\n",
    "        \n",
    "    def __str__(self):\n",
    "        return str(self.state)\n",
    "\n",
    "def main():\n",
    "    state_machine = StateMachine()\n",
    "    print(state_machine)\n",
    "    \n",
    "    state_machine.switch()\n",
    "    print(state_machine)\n",
    "    \n",
    "if __name__ == '__main__':\n",
    "    main()"
   ]
  },
  {
   "cell_type": "markdown",
   "id": "e222238e-53ad-4427-af8d-9c91104632b9",
   "metadata": {},
   "source": [
    "What should be tested about a state machine:\n",
    "1. The state machine initializes correctly;\n",
    "2. The action method for each concrete `State` class does what it should do (e.g. return the correct value).\n",
    "3. For a give input, the machine transitins to the correct subsequent state.\n",
    "\n",
    "Some unit testing with `unittest` (library framework):"
   ]
  },
  {
   "cell_type": "code",
   "execution_count": 13,
   "id": "203bde65-541f-490b-9bd0-1cbd19f1462b",
   "metadata": {},
   "outputs": [
    {
     "name": "stderr",
     "output_type": "stream",
     "text": [
      "E\n",
      "======================================================================\n",
      "ERROR: C:\\Users\\i (unittest.loader._FailedTest)\n",
      "----------------------------------------------------------------------\n",
      "AttributeError: module '__main__' has no attribute 'C:\\Users\\i'\n",
      "\n",
      "----------------------------------------------------------------------\n",
      "Ran 1 test in 0.001s\n",
      "\n",
      "FAILED (errors=1)\n"
     ]
    },
    {
     "ename": "SystemExit",
     "evalue": "True",
     "output_type": "error",
     "traceback": [
      "An exception has occurred, use %tb to see the full traceback.\n",
      "\u001b[1;31mSystemExit\u001b[0m\u001b[1;31m:\u001b[0m True\n"
     ]
    },
    {
     "name": "stderr",
     "output_type": "stream",
     "text": [
      "c:\\users\\i.stiaccini\\appdata\\local\\programs\\python\\python37\\lib\\site-packages\\IPython\\core\\interactiveshell.py:3449: UserWarning: To exit: use 'exit', 'quit', or Ctrl-D.\n",
      "  warn(\"To exit: use 'exit', 'quit', or Ctrl-D.\", stacklevel=1)\n"
     ]
    }
   ],
   "source": [
    "import unittest\n",
    "\n",
    "class GenericStatePatternTest(unittest.TestCase):\n",
    "    def setUp(self):\n",
    "        self.state_machine = StateMachine()\n",
    "    \n",
    "    def tearDown(self):\n",
    "        pass\n",
    "    \n",
    "    def test_state_machine_initializes_correctly(self):\n",
    "        sefl.assertInstance(self.state_machine.state, ConcreteState1)\n",
    "    \n",
    "    def test_switch_from_state_1_to_state_2(self):\n",
    "        self.state_machine.switch()\n",
    "        self.assertIsInstance(self.state_machine.state, ConcreteState2)\n",
    "        \n",
    "    def test_switch_from_state2_to_state1(self):\n",
    "        self.state_machine.switch()\n",
    "        self.state_machine.switch()\n",
    "        \n",
    "        self.assertIsInstance(self.state_machine.state, ConcreteState1)\n",
    "        \n",
    "if __name__ == '__main__':\n",
    "    unittest.main()"
   ]
  },
  {
   "cell_type": "markdown",
   "id": "f79e677f-8e54-4992-9c29-bf95a0e3703b",
   "metadata": {},
   "source": [
    "## Exercises"
   ]
  },
  {
   "cell_type": "code",
   "execution_count": null,
   "id": "f8ecba09-f786-4823-97fd-8cd1966bfcba",
   "metadata": {},
   "outputs": [],
   "source": []
  },
  {
   "cell_type": "code",
   "execution_count": null,
   "id": "7bd0f28b-3f6c-418b-b2dc-8f6a16a344a5",
   "metadata": {},
   "outputs": [],
   "source": []
  },
  {
   "cell_type": "markdown",
   "id": "ee576e25-0c16-4042-a309-eeed63ec5572",
   "metadata": {},
   "source": [
    "# <a class=\"anchor\" id=\"strategy\">15. Strategy Pattern</a>\n",
    "\n",
    "To switch between different ways of solving a problem, being able to pick a strategy at runtime and then run with it. allthis, by applying a modular solution that would allow passing in new strategies on the fly.\n",
    "\n",
    "The `Strategy Pattern` allows writing code that uses some strategy, to be selected at runtime, without knowing anything about the strategy other that it follows some execution signature. It is composed by an `Executor` to which the strategies are passed, and then executed."
   ]
  },
  {
   "cell_type": "code",
   "execution_count": 14,
   "id": "592f0d7b-2bcb-4029-828c-82d0841031bc",
   "metadata": {},
   "outputs": [
    {
     "name": "stdout",
     "output_type": "stream",
     "text": [
      "Strategy not implemented...\n",
      "Strategy1: 4\n",
      "Strategy1: 5\n",
      "Strategy1: 6\n",
      "Strategy2: 7\n",
      "Strategy2: 8\n",
      "Strategy2: 9\n",
      "Strategy2: 0\n"
     ]
    }
   ],
   "source": [
    "class StrategyExecutor(object):\n",
    "    def __init__(self, strategy=None):\n",
    "        self.strategy = strategy\n",
    "    def execute(self, *args):\n",
    "        if self.strategy is None:\n",
    "            print(\"Strategy not implemented...\")\n",
    "        else:\n",
    "            self.strategy.execute(*args)\n",
    "\n",
    "class Strategy1(object):\n",
    "    def execute(self, *args):\n",
    "        for a in args:\n",
    "            print('Strategy1:', a)\n",
    "\n",
    "class Strategy2(object):\n",
    "    def execute(self, *args):\n",
    "        for a in args:\n",
    "            print('Strategy2:', a)\n",
    "            \n",
    "if __name__ == '__main__':\n",
    "    no_strategy = StrategyExecutor()\n",
    "    strategy_1 = StrategyExecutor(Strategy1())\n",
    "    strategy_2 = StrategyExecutor(Strategy2())\n",
    "    no_strategy.execute(1, 2, 3)\n",
    "    strategy_1.execute(4, 5, 6)\n",
    "    strategy_2.execute(7, 8, 9, 0)"
   ]
  },
  {
   "cell_type": "markdown",
   "id": "78a0bac6-a9d5-426c-9ac6-216f2c3933be",
   "metadata": {},
   "source": [
    "A more **pythonic** version with functions:"
   ]
  },
  {
   "cell_type": "code",
   "execution_count": 18,
   "id": "77737510-a9b6-44e5-b55b-7f1d3932d9b3",
   "metadata": {},
   "outputs": [
    {
     "name": "stdout",
     "output_type": "stream",
     "text": [
      "Strategy not implemented...\n",
      "strategy1: 3\n",
      "strategy1: 4\n",
      "strategy2: 5\n",
      "strategy2: 6\n",
      "strategy2: 7\n",
      "strategy2: 8\n"
     ]
    }
   ],
   "source": [
    "def executor(*args, func=None):\n",
    "    if func is None:\n",
    "        print(\"Strategy not implemented...\")\n",
    "        return\n",
    "    \n",
    "    return func(*args)\n",
    "\n",
    "def strategy1(*args):\n",
    "    for a in args:\n",
    "        print('strategy1:', a)\n",
    "        \n",
    "def strategy2(*args):\n",
    "    for a in args:\n",
    "        print('strategy2:', a)\n",
    "        \n",
    "if __name__ == '__main__':\n",
    "    executor(1, 2)\n",
    "    executor(3, 4, func=strategy1)\n",
    "    executor(5, 6, 7, 8, func=strategy2)"
   ]
  },
  {
   "cell_type": "markdown",
   "id": "e0fabe86-3453-415f-b936-73c35492245f",
   "metadata": {},
   "source": [
    "# <a class=\"anchor\" id=\"template\"> 16. Template Method Pattern</a>\n",
    "\n",
    "The `Template Method Pattern` provides a method template that can be followed to implement a specifc process step by step, and then that template can be used in many different scenarios by simply changing a couple of details.\n",
    "\n",
    "Functions that clearly step in the same process should live in a single entity instead of being scattered."
   ]
  },
  {
   "cell_type": "code",
   "execution_count": null,
   "id": "51d6628c-9ece-4da1-b431-84112ab7f105",
   "metadata": {},
   "outputs": [],
   "source": [
    "import abc\n",
    "\n",
    "class TemplateAbstractBaseClass(metaclass = abc.ABCMeta):\n",
    "    def template_method(self):\n",
    "        self._step_1()\n",
    "        self._step_2()\n",
    "        self._step_n()\n",
    "    \n",
    "    @abc.abstractmethod\n",
    "    def _step_1(self): pass\n",
    "\n",
    "    @abc.abstractmethod\n",
    "    def _step_2(self): pass\n",
    "\n",
    "    @abc.abstractmethod\n",
    "    def _step_n(self): pass\n",
    "\n",
    "class ConcreteImplementationClass(TemplateAbstractBaseClass):\n",
    "    def _step_1(self): pass\n",
    "        \n",
    "    def _step_2(self): pass\n",
    "\n",
    "    def _step_n(self): pass"
   ]
  },
  {
   "cell_type": "markdown",
   "id": "ce8b9206-0790-48e0-894d-8e30a1f58010",
   "metadata": {},
   "source": [
    "## Exercises"
   ]
  },
  {
   "cell_type": "code",
   "execution_count": null,
   "id": "c9232c25-81af-4914-b12d-36f669699f9d",
   "metadata": {},
   "outputs": [],
   "source": []
  },
  {
   "cell_type": "code",
   "execution_count": null,
   "id": "91e57ab0-8b68-4657-8fae-40a4ad92a199",
   "metadata": {},
   "outputs": [],
   "source": []
  },
  {
   "cell_type": "markdown",
   "id": "41522b81-e4a2-450e-adcc-5bf206fbca3f",
   "metadata": {},
   "source": [
    "# <a class=\"anchor\" id=\"visitor\"> 17. Visitor Pattern</a>\n",
    "\n",
    "Tease apart a complex piece of functionality into more discrete parts, then abstract these parts in such a way that the one does not need to be intimately familiar with the other."
   ]
  },
  {
   "cell_type": "code",
   "execution_count": null,
   "id": "ca10d72c-777a-46e3-938b-224685cfa255",
   "metadata": {},
   "outputs": [],
   "source": [
    "import abc\n",
    "\n",
    "class Visitable(object):\n",
    "    def accept(self, visitor):\n",
    "        visitor.visit(self)\n",
    "        \n",
    "class CompositeVisitable(Visitable):\n",
    "    def __init__(self, iterable):\n",
    "        self.iterable = iterable\n",
    "        \n",
    "    def accept(self, visitor):\n",
    "        for element in self.iterable:\n",
    "            element.accept(visitor)\n",
    "        visitor.visit(self)\n",
    "        \n",
    "class AbstractVisitor(object):\n",
    "    __metaclass__ = abc.ABCMeta\n",
    "    \n",
    "    @abc.abstractmethod\n",
    "    def visit(self, element):\n",
    "        raise NotImplementedError(\"A visitor needs to define a visit method\")\n",
    "        \n",
    "class ConcreteVisitable(Visitable):\n",
    "    def __init__(self):\n",
    "        pass\n",
    "    \n",
    "class ConcreteVisitor(AbstractVisitor):\n",
    "    def visit(self, element):\n",
    "        pass"
   ]
  },
  {
   "cell_type": "markdown",
   "id": "00d314c7-95e0-44e6-898a-3ef53e0db5cc",
   "metadata": {},
   "source": [
    "## Exercises"
   ]
  },
  {
   "cell_type": "code",
   "execution_count": null,
   "id": "37f5bdb0-4805-4668-aa93-fe9190737613",
   "metadata": {},
   "outputs": [],
   "source": []
  },
  {
   "cell_type": "code",
   "execution_count": null,
   "id": "ebc9dcd3-2d6e-4bed-bb9f-fb6c290ee36d",
   "metadata": {},
   "outputs": [],
   "source": []
  },
  {
   "cell_type": "markdown",
   "id": "63bc97a6-7358-4f10-8b96-73fc380b5806",
   "metadata": {
    "tags": []
   },
   "source": [
    "# <a class=\"anchor\" id=\"mvc\"> 18. Model-View-Controller Pattern</a>\n",
    "\n",
    "The `Model-View-Controller Pattern` is a pattern of patterns. To be applied when the program receives some form of a request that must be interpreted and then kick off some relevant actions. It is sub-divided into three main objects:\n",
    "- **Controller** : all of the program processing happens inside an object that exists solely for controlling the flow of the program. This oobject handles actionsliker requesting data, receiving data, and dispatching responses to the command line. **Controllers** are the glue that holds the system together, and usually the place where the most action takes place. \n",
    "It is the hearth of the pattern, the part that marshalls all other classes. Users interact with the controller, and through it the whole system. It takes the following actions:\n",
    "    - takes the user input;\n",
    "    - handles all the business logic;\n",
    "    - gets data from the model;\n",
    "    - sends the data to the vew to be transformed into the representation to be returned to the user.\n",
    "- **Model** : once a request is received and the controller decides what must happen to the request, some data from the system is needed. The structural representationo of data is referred to as a data model, and so the part of the program that deals with the data (getting, setting, updating, and deleting data) is called the **model**. It should be a program-side interface t data that abstracts away the need to directly interact with the data store, allowing to switch frma  file-based store to some key-value store or a full-on relational database system. Often, a model will contain the fields used as attrbutes on the object, allowing to interact with the database as with any other object.\n",
    "- **View** : part of the code that deliceries the information back to the user. it should only deal with the output or rendering of data passed to it into some sort of format to be returned to the user.\n",
    "\n",
    "**There is no business logic in Model neither in View!**\n",
    "\n",
    "\n"
   ]
  },
  {
   "cell_type": "code",
   "execution_count": null,
   "id": "a231f135-8ff7-412a-a421-3f821581b886",
   "metadata": {},
   "outputs": [],
   "source": [
    "class GenericContrller(object):\n",
    "    def __init__(self):\n",
    "        self.model = GenericModel()\n",
    "        self.view = GenericView()\n",
    "    \n",
    "    def handle(self, request):\n",
    "        data = self.model.get_data(request)\n",
    "        self.view.generate_response(data)\n",
    "        \n",
    "class GenericModel(object):\n",
    "    def __init__(self):\n",
    "        pass\n",
    "    \n",
    "    def get_data(self, request):\n",
    "        return {'request': request}\n",
    "    \n",
    "class GenericView(object):\n",
    "    def __init__(self):\n",
    "        pass\n",
    "    \n",
    "    def generate_response(self, data):\n",
    "        print(data)\n",
    "        "
   ]
  },
  {
   "cell_type": "markdown",
   "id": "94371609-95f4-4afb-9966-5fd4bd4e7fbf",
   "metadata": {},
   "source": [
    "## Examples"
   ]
  },
  {
   "cell_type": "code",
   "execution_count": null,
   "id": "6e08efac-055a-43c6-ba18-2a82620fb327",
   "metadata": {},
   "outputs": [],
   "source": []
  },
  {
   "cell_type": "code",
   "execution_count": null,
   "id": "b6ba30e1-f9af-4082-ac30-e74f38ec02a7",
   "metadata": {},
   "outputs": [],
   "source": []
  },
  {
   "cell_type": "markdown",
   "id": "c32f1e0c-8941-4b79-b1c4-f9e0898ae568",
   "metadata": {},
   "source": [
    "# <a class=\"anchor\" id=\"ps\"> 19. Publish-Subscribe Pattern</a>\n",
    "\n",
    "The `Publish-Subscribe Pattern` allows to fully decouple the observer and the observables. Neither the observer nor the observable need to know anything about each other. Each class and its instances should be able to change wthout any changes being needed on the other side of the equation:\n",
    "- **publishers** : blind observables. Deals with publishing.\n",
    "- **subscribers** : disconnected observers. Deals with processing.\n",
    "\n",
    "The following classes will also be added to:\n",
    "- **Message** : class that culd be published and processed.\n",
    "- **Dispatcher** : the class thrugh which all the messages pass, it has the aim to provide a single location to which publishers send messages. The same location keeps an index of all the subscribers, as a result the number of publishers and subscribers can vary without having any impact on the rest of the system."
   ]
  },
  {
   "cell_type": "code",
   "execution_count": 1,
   "id": "ccdeea33-5f17-4cdc-83df-7e5da53d125b",
   "metadata": {},
   "outputs": [
    {
     "name": "stdout",
     "output_type": "stream",
     "text": [
      "Message: My Payload\n"
     ]
    }
   ],
   "source": [
    "class Message(object):\n",
    "    def __init__(self):\n",
    "        self.payload = None\n",
    "        self.topic = \"all\"\n",
    "        \n",
    "class Subscriber(object):\n",
    "    def __init__(self, dispatcher, topic):\n",
    "        dispatcher.subscribe(self, topic)\n",
    "    def process(self, message):\n",
    "        print(\"Message: {}\".format(message.payload))\n",
    "        \n",
    "class Publisher(object):\n",
    "    def __init__(self, dispatcher):\n",
    "        self.dispatcher = dispatcher\n",
    "    def publish(self, message):\n",
    "        self.dispatcher.send(message)\n",
    "        \n",
    "class Dispatcher(object):\n",
    "    def __init__(self):\n",
    "        self.topic_subscribers = dict()\n",
    "    def subscribe(self, subscriber, topic):\n",
    "        self.topic_subscribers.setdefault(topic, set()).add(subscriber)\n",
    "    def unsubscribe(self, subscriber, topic):\n",
    "        self.topic_subscribers.setdefault(topic, set()).discard(subscriber)\n",
    "    def unsubscribe_all(self, topic):\n",
    "        self.subscribers = self.topic_subscribers[topic] = set()\n",
    "    def send(self, message):\n",
    "        for subscriber in self.topic_subscribers[message.topic]:\n",
    "            subscriber.process(message)\n",
    "            \n",
    "def main():\n",
    "    dispatcher = Dispatcher()\n",
    "    publisher_1 = Publisher(dispatcher)\n",
    "    subscriber_1 = Subscriber(dispatcher, 'topic1')\n",
    "    message = Message()\n",
    "    message.payload = \"My Payload\"\n",
    "    message.topic = 'topic1'\n",
    "    publisher_1.publish(message)\n",
    "    \n",
    "if __name__ == \"__main__\":\n",
    "    main() "
   ]
  },
  {
   "cell_type": "code",
   "execution_count": null,
   "id": "85634a7e-8df8-4f98-8795-2c59d1faad98",
   "metadata": {},
   "outputs": [],
   "source": []
  },
  {
   "cell_type": "code",
   "execution_count": null,
   "id": "97670295-c4d1-4f65-883c-53932c3a9d36",
   "metadata": {},
   "outputs": [],
   "source": []
  }
 ],
 "metadata": {
  "kernelspec": {
   "display_name": "Python 3 (ipykernel)",
   "language": "python",
   "name": "python3"
  },
  "language_info": {
   "codemirror_mode": {
    "name": "ipython",
    "version": 3
   },
   "file_extension": ".py",
   "mimetype": "text/x-python",
   "name": "python",
   "nbconvert_exporter": "python",
   "pygments_lexer": "ipython3",
   "version": "3.9.13"
  }
 },
 "nbformat": 4,
 "nbformat_minor": 5
}
