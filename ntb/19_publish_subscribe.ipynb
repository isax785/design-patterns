{
 "cells": [
  {
   "cell_type": "code",
   "execution_count": null,
   "metadata": {},
   "outputs": [],
   "source": [
    "class Message(object):\n",
    "    def __init__(self):\n",
    "        self.payload = None\n",
    "        self.topic = \"all\"\n",
    "        \n",
    "class Subscriber(object):\n",
    "    def __init__(self, dispatcher, topic):\n",
    "        dispatcher.subscribe(self, topic)\n",
    "    def process(self, message):\n",
    "        print(\"Message: {}\".format(message.payload))\n",
    "        \n",
    "class Publisher(object):\n",
    "    def __init__(self, dispatcher):\n",
    "        self.dispatcher = dispatcher\n",
    "    def publish(self, message):\n",
    "        self.dispatcher.send(message)\n",
    "        \n",
    "class Dispatcher(object):\n",
    "    def __init__(self):\n",
    "        self.topic_subscribers = dict()\n",
    "    def subscribe(self, subscriber, topic):\n",
    "        self.topic_subscribers.setdefault(topic, set()).add(subscriber)\n",
    "    def unsubscribe(self, subscriber, topic):\n",
    "        self.topic_subscribers.setdefault(topic, set()).discard(subscriber)\n",
    "    def unsubscribe_all(self, topic):\n",
    "        self.subscribers = self.topic_subscribers[topic] = set()\n",
    "    def send(self, message):\n",
    "        for subscriber in self.topic_subscribers[message.topic]:\n",
    "            subscriber.process(message)\n",
    "            \n",
    "def main():\n",
    "    dispatcher = Dispatcher()\n",
    "    publisher_1 = Publisher(dispatcher)\n",
    "    subscriber_1 = Subscriber(dispatcher, 'topic1')\n",
    "    message = Message()\n",
    "    message.payload = \"My Payload\"\n",
    "    message.topic = 'topic1'\n",
    "    publisher_1.publish(message)\n",
    "    \n",
    "if __name__ == \"__main__\":\n",
    "    main() "
   ]
  }
 ],
 "metadata": {
  "language_info": {
   "name": "python"
  }
 },
 "nbformat": 4,
 "nbformat_minor": 2
}
